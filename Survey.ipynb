{
 "cells": [
  {
   "cell_type": "code",
   "execution_count": 1,
   "metadata": {},
   "outputs": [],
   "source": [
    "import pandas as pd"
   ]
  },
  {
   "cell_type": "code",
   "execution_count": 2,
   "metadata": {},
   "outputs": [],
   "source": [
    "survey = pd.read_csv('Data/survey.csv')"
   ]
  },
  {
   "cell_type": "code",
   "execution_count": 3,
   "metadata": {},
   "outputs": [
    {
     "data": {
      "text/html": [
       "<div>\n",
       "<style scoped>\n",
       "    .dataframe tbody tr th:only-of-type {\n",
       "        vertical-align: middle;\n",
       "    }\n",
       "\n",
       "    .dataframe tbody tr th {\n",
       "        vertical-align: top;\n",
       "    }\n",
       "\n",
       "    .dataframe thead th {\n",
       "        text-align: right;\n",
       "    }\n",
       "</style>\n",
       "<table border=\"1\" class=\"dataframe\">\n",
       "  <thead>\n",
       "    <tr style=\"text-align: right;\">\n",
       "      <th></th>\n",
       "      <th>dataid</th>\n",
       "      <th>status</th>\n",
       "      <th>foundation_pier_beam</th>\n",
       "      <th>foundation_slab</th>\n",
       "      <th>spend_time_at_home_none</th>\n",
       "      <th>spend_time_at_home_monday</th>\n",
       "      <th>spend_time_at_home_tuesday</th>\n",
       "      <th>spend_time_at_home_wednesday</th>\n",
       "      <th>spend_time_at_home_thursday</th>\n",
       "      <th>spend_time_at_home_friday</th>\n",
       "      <th>...</th>\n",
       "      <th>energy_development_hydropower</th>\n",
       "      <th>energy_development_bioenergy</th>\n",
       "      <th>can_reduce_energy_consumption</th>\n",
       "      <th>know_steps_reduce_energy_consumption</th>\n",
       "      <th>cannot_reduce_energy_consumption</th>\n",
       "      <th>individual_responsible_energy_reduce</th>\n",
       "      <th>energy_reduce_regulation</th>\n",
       "      <th>energy_reduce_risky</th>\n",
       "      <th>can_lower_energy_use</th>\n",
       "      <th>energy_reduce_other_ways</th>\n",
       "    </tr>\n",
       "  </thead>\n",
       "  <tbody>\n",
       "    <tr>\n",
       "      <th>0</th>\n",
       "      <td>﻿18</td>\n",
       "      <td>Complete</td>\n",
       "      <td>NaN</td>\n",
       "      <td>Slab</td>\n",
       "      <td>NaN</td>\n",
       "      <td>Monday</td>\n",
       "      <td>NaN</td>\n",
       "      <td>NaN</td>\n",
       "      <td>NaN</td>\n",
       "      <td>Friday</td>\n",
       "      <td>...</td>\n",
       "      <td>NaN</td>\n",
       "      <td>NaN</td>\n",
       "      <td>Neither</td>\n",
       "      <td>Neither</td>\n",
       "      <td>Slightly disagree</td>\n",
       "      <td>Neither</td>\n",
       "      <td>Slightly agree</td>\n",
       "      <td>Strongly disagree</td>\n",
       "      <td>Strongly disagree</td>\n",
       "      <td>NaN</td>\n",
       "    </tr>\n",
       "    <tr>\n",
       "      <th>1</th>\n",
       "      <td>26</td>\n",
       "      <td>Complete</td>\n",
       "      <td>NaN</td>\n",
       "      <td>Slab</td>\n",
       "      <td>none</td>\n",
       "      <td>NaN</td>\n",
       "      <td>NaN</td>\n",
       "      <td>NaN</td>\n",
       "      <td>NaN</td>\n",
       "      <td>NaN</td>\n",
       "      <td>...</td>\n",
       "      <td>Slightly support</td>\n",
       "      <td>Strongly support</td>\n",
       "      <td>Slightly disagree</td>\n",
       "      <td>Strongly agree</td>\n",
       "      <td>Slightly agree</td>\n",
       "      <td>Slightly disagree</td>\n",
       "      <td>Slightly agree</td>\n",
       "      <td>Strongly disagree</td>\n",
       "      <td>Slightly agree</td>\n",
       "      <td>You should draw a distinction about summer and...</td>\n",
       "    </tr>\n",
       "    <tr>\n",
       "      <th>2</th>\n",
       "      <td>43</td>\n",
       "      <td>Complete</td>\n",
       "      <td>NaN</td>\n",
       "      <td>Slab</td>\n",
       "      <td>NaN</td>\n",
       "      <td>Monday</td>\n",
       "      <td>Tuesday</td>\n",
       "      <td>Wednesday</td>\n",
       "      <td>Thursday</td>\n",
       "      <td>Friday</td>\n",
       "      <td>...</td>\n",
       "      <td>Strongly support</td>\n",
       "      <td>Slightly oppose</td>\n",
       "      <td>Slightly disagree</td>\n",
       "      <td>Strongly agree</td>\n",
       "      <td>Slightly disagree</td>\n",
       "      <td>Slightly agree</td>\n",
       "      <td>Strongly agree</td>\n",
       "      <td>Strongly disagree</td>\n",
       "      <td>Strongly agree</td>\n",
       "      <td>What price/value would you give to a battery b...</td>\n",
       "    </tr>\n",
       "    <tr>\n",
       "      <th>3</th>\n",
       "      <td>50</td>\n",
       "      <td>Complete</td>\n",
       "      <td>NaN</td>\n",
       "      <td>Slab</td>\n",
       "      <td>NaN</td>\n",
       "      <td>Monday</td>\n",
       "      <td>Tuesday</td>\n",
       "      <td>Wednesday</td>\n",
       "      <td>Thursday</td>\n",
       "      <td>Friday</td>\n",
       "      <td>...</td>\n",
       "      <td>Strongly support</td>\n",
       "      <td>Neither</td>\n",
       "      <td>Slightly disagree</td>\n",
       "      <td>Strongly agree</td>\n",
       "      <td>Slightly disagree</td>\n",
       "      <td>Slightly agree</td>\n",
       "      <td>Slightly disagree</td>\n",
       "      <td>Slightly disagree</td>\n",
       "      <td>Slightly agree</td>\n",
       "      <td>NaN</td>\n",
       "    </tr>\n",
       "    <tr>\n",
       "      <th>4</th>\n",
       "      <td>125</td>\n",
       "      <td>Complete</td>\n",
       "      <td>NaN</td>\n",
       "      <td>Slab</td>\n",
       "      <td>NaN</td>\n",
       "      <td>Monday</td>\n",
       "      <td>Tuesday</td>\n",
       "      <td>Wednesday</td>\n",
       "      <td>Thursday</td>\n",
       "      <td>Friday</td>\n",
       "      <td>...</td>\n",
       "      <td>Strongly support</td>\n",
       "      <td>Neither</td>\n",
       "      <td>Neither</td>\n",
       "      <td>Neither</td>\n",
       "      <td>Neither</td>\n",
       "      <td>Neither</td>\n",
       "      <td>Neither</td>\n",
       "      <td>Neither</td>\n",
       "      <td>Neither</td>\n",
       "      <td>NaN</td>\n",
       "    </tr>\n",
       "  </tbody>\n",
       "</table>\n",
       "<p>5 rows × 179 columns</p>\n",
       "</div>"
      ],
      "text/plain": [
       "  dataid    status foundation_pier_beam foundation_slab  \\\n",
       "0    ﻿18  Complete                  NaN            Slab   \n",
       "1     26  Complete                  NaN            Slab   \n",
       "2     43  Complete                  NaN            Slab   \n",
       "3     50  Complete                  NaN            Slab   \n",
       "4    125  Complete                  NaN            Slab   \n",
       "\n",
       "  spend_time_at_home_none spend_time_at_home_monday  \\\n",
       "0                     NaN                    Monday   \n",
       "1                    none                       NaN   \n",
       "2                     NaN                    Monday   \n",
       "3                     NaN                    Monday   \n",
       "4                     NaN                    Monday   \n",
       "\n",
       "  spend_time_at_home_tuesday spend_time_at_home_wednesday  \\\n",
       "0                        NaN                          NaN   \n",
       "1                        NaN                          NaN   \n",
       "2                    Tuesday                    Wednesday   \n",
       "3                    Tuesday                    Wednesday   \n",
       "4                    Tuesday                    Wednesday   \n",
       "\n",
       "  spend_time_at_home_thursday spend_time_at_home_friday  ...  \\\n",
       "0                         NaN                    Friday  ...   \n",
       "1                         NaN                       NaN  ...   \n",
       "2                    Thursday                    Friday  ...   \n",
       "3                    Thursday                    Friday  ...   \n",
       "4                    Thursday                    Friday  ...   \n",
       "\n",
       "  energy_development_hydropower energy_development_bioenergy  \\\n",
       "0                           NaN                          NaN   \n",
       "1              Slightly support             Strongly support   \n",
       "2              Strongly support              Slightly oppose   \n",
       "3              Strongly support                      Neither   \n",
       "4              Strongly support                      Neither   \n",
       "\n",
       "  can_reduce_energy_consumption know_steps_reduce_energy_consumption  \\\n",
       "0                       Neither                              Neither   \n",
       "1             Slightly disagree                       Strongly agree   \n",
       "2             Slightly disagree                       Strongly agree   \n",
       "3             Slightly disagree                       Strongly agree   \n",
       "4                       Neither                              Neither   \n",
       "\n",
       "  cannot_reduce_energy_consumption individual_responsible_energy_reduce  \\\n",
       "0                Slightly disagree                              Neither   \n",
       "1                   Slightly agree                    Slightly disagree   \n",
       "2                Slightly disagree                       Slightly agree   \n",
       "3                Slightly disagree                       Slightly agree   \n",
       "4                          Neither                              Neither   \n",
       "\n",
       "  energy_reduce_regulation  energy_reduce_risky  can_lower_energy_use  \\\n",
       "0           Slightly agree    Strongly disagree     Strongly disagree   \n",
       "1           Slightly agree    Strongly disagree        Slightly agree   \n",
       "2           Strongly agree    Strongly disagree        Strongly agree   \n",
       "3        Slightly disagree    Slightly disagree        Slightly agree   \n",
       "4                  Neither              Neither               Neither   \n",
       "\n",
       "                            energy_reduce_other_ways  \n",
       "0                                                NaN  \n",
       "1  You should draw a distinction about summer and...  \n",
       "2  What price/value would you give to a battery b...  \n",
       "3                                                NaN  \n",
       "4                                                NaN  \n",
       "\n",
       "[5 rows x 179 columns]"
      ]
     },
     "execution_count": 3,
     "metadata": {},
     "output_type": "execute_result"
    }
   ],
   "source": [
    "#drop the unamed column\n",
    "survey = survey.drop(['Unnamed: 0'], axis=1)\n",
    "#view data\n",
    "survey.head()"
   ]
  },
  {
   "cell_type": "code",
   "execution_count": 4,
   "metadata": {},
   "outputs": [],
   "source": [
    "survey = survey.loc[survey['status'] == \"Complete\"]\n"
   ]
  },
  {
   "cell_type": "markdown",
   "metadata": {},
   "source": [
    "# Look at days spent at home"
   ]
  },
  {
   "cell_type": "code",
   "execution_count": 5,
   "metadata": {},
   "outputs": [],
   "source": [
    "#create list for spend time a thome\n",
    "time_at_home = survey.columns[5:10] \n"
   ]
  },
  {
   "cell_type": "code",
   "execution_count": 6,
   "metadata": {},
   "outputs": [],
   "source": [
    "def home_time (row):\n",
    "    \n",
    "    return len(row.loc[~row.isnull()])\n",
    "    "
   ]
  },
  {
   "cell_type": "code",
   "execution_count": 7,
   "metadata": {},
   "outputs": [],
   "source": [
    "survey['at_home'] = survey[time_at_home].apply(home_time, axis=1)"
   ]
  },
  {
   "cell_type": "code",
   "execution_count": 8,
   "metadata": {},
   "outputs": [
    {
     "data": {
      "text/html": [
       "<div>\n",
       "<style scoped>\n",
       "    .dataframe tbody tr th:only-of-type {\n",
       "        vertical-align: middle;\n",
       "    }\n",
       "\n",
       "    .dataframe tbody tr th {\n",
       "        vertical-align: top;\n",
       "    }\n",
       "\n",
       "    .dataframe thead th {\n",
       "        text-align: right;\n",
       "    }\n",
       "</style>\n",
       "<table border=\"1\" class=\"dataframe\">\n",
       "  <thead>\n",
       "    <tr style=\"text-align: right;\">\n",
       "      <th></th>\n",
       "      <th>dataid</th>\n",
       "      <th>status</th>\n",
       "      <th>foundation_pier_beam</th>\n",
       "      <th>foundation_slab</th>\n",
       "      <th>spend_time_at_home_none</th>\n",
       "      <th>spend_time_at_home_monday</th>\n",
       "      <th>spend_time_at_home_tuesday</th>\n",
       "      <th>spend_time_at_home_wednesday</th>\n",
       "      <th>spend_time_at_home_thursday</th>\n",
       "      <th>spend_time_at_home_friday</th>\n",
       "      <th>...</th>\n",
       "      <th>energy_development_bioenergy</th>\n",
       "      <th>can_reduce_energy_consumption</th>\n",
       "      <th>know_steps_reduce_energy_consumption</th>\n",
       "      <th>cannot_reduce_energy_consumption</th>\n",
       "      <th>individual_responsible_energy_reduce</th>\n",
       "      <th>energy_reduce_regulation</th>\n",
       "      <th>energy_reduce_risky</th>\n",
       "      <th>can_lower_energy_use</th>\n",
       "      <th>energy_reduce_other_ways</th>\n",
       "      <th>at_home</th>\n",
       "    </tr>\n",
       "  </thead>\n",
       "  <tbody>\n",
       "    <tr>\n",
       "      <th>0</th>\n",
       "      <td>﻿18</td>\n",
       "      <td>Complete</td>\n",
       "      <td>NaN</td>\n",
       "      <td>Slab</td>\n",
       "      <td>NaN</td>\n",
       "      <td>Monday</td>\n",
       "      <td>NaN</td>\n",
       "      <td>NaN</td>\n",
       "      <td>NaN</td>\n",
       "      <td>Friday</td>\n",
       "      <td>...</td>\n",
       "      <td>NaN</td>\n",
       "      <td>Neither</td>\n",
       "      <td>Neither</td>\n",
       "      <td>Slightly disagree</td>\n",
       "      <td>Neither</td>\n",
       "      <td>Slightly agree</td>\n",
       "      <td>Strongly disagree</td>\n",
       "      <td>Strongly disagree</td>\n",
       "      <td>NaN</td>\n",
       "      <td>2</td>\n",
       "    </tr>\n",
       "    <tr>\n",
       "      <th>1</th>\n",
       "      <td>26</td>\n",
       "      <td>Complete</td>\n",
       "      <td>NaN</td>\n",
       "      <td>Slab</td>\n",
       "      <td>none</td>\n",
       "      <td>NaN</td>\n",
       "      <td>NaN</td>\n",
       "      <td>NaN</td>\n",
       "      <td>NaN</td>\n",
       "      <td>NaN</td>\n",
       "      <td>...</td>\n",
       "      <td>Strongly support</td>\n",
       "      <td>Slightly disagree</td>\n",
       "      <td>Strongly agree</td>\n",
       "      <td>Slightly agree</td>\n",
       "      <td>Slightly disagree</td>\n",
       "      <td>Slightly agree</td>\n",
       "      <td>Strongly disagree</td>\n",
       "      <td>Slightly agree</td>\n",
       "      <td>You should draw a distinction about summer and...</td>\n",
       "      <td>0</td>\n",
       "    </tr>\n",
       "    <tr>\n",
       "      <th>2</th>\n",
       "      <td>43</td>\n",
       "      <td>Complete</td>\n",
       "      <td>NaN</td>\n",
       "      <td>Slab</td>\n",
       "      <td>NaN</td>\n",
       "      <td>Monday</td>\n",
       "      <td>Tuesday</td>\n",
       "      <td>Wednesday</td>\n",
       "      <td>Thursday</td>\n",
       "      <td>Friday</td>\n",
       "      <td>...</td>\n",
       "      <td>Slightly oppose</td>\n",
       "      <td>Slightly disagree</td>\n",
       "      <td>Strongly agree</td>\n",
       "      <td>Slightly disagree</td>\n",
       "      <td>Slightly agree</td>\n",
       "      <td>Strongly agree</td>\n",
       "      <td>Strongly disagree</td>\n",
       "      <td>Strongly agree</td>\n",
       "      <td>What price/value would you give to a battery b...</td>\n",
       "      <td>5</td>\n",
       "    </tr>\n",
       "    <tr>\n",
       "      <th>3</th>\n",
       "      <td>50</td>\n",
       "      <td>Complete</td>\n",
       "      <td>NaN</td>\n",
       "      <td>Slab</td>\n",
       "      <td>NaN</td>\n",
       "      <td>Monday</td>\n",
       "      <td>Tuesday</td>\n",
       "      <td>Wednesday</td>\n",
       "      <td>Thursday</td>\n",
       "      <td>Friday</td>\n",
       "      <td>...</td>\n",
       "      <td>Neither</td>\n",
       "      <td>Slightly disagree</td>\n",
       "      <td>Strongly agree</td>\n",
       "      <td>Slightly disagree</td>\n",
       "      <td>Slightly agree</td>\n",
       "      <td>Slightly disagree</td>\n",
       "      <td>Slightly disagree</td>\n",
       "      <td>Slightly agree</td>\n",
       "      <td>NaN</td>\n",
       "      <td>5</td>\n",
       "    </tr>\n",
       "    <tr>\n",
       "      <th>4</th>\n",
       "      <td>125</td>\n",
       "      <td>Complete</td>\n",
       "      <td>NaN</td>\n",
       "      <td>Slab</td>\n",
       "      <td>NaN</td>\n",
       "      <td>Monday</td>\n",
       "      <td>Tuesday</td>\n",
       "      <td>Wednesday</td>\n",
       "      <td>Thursday</td>\n",
       "      <td>Friday</td>\n",
       "      <td>...</td>\n",
       "      <td>Neither</td>\n",
       "      <td>Neither</td>\n",
       "      <td>Neither</td>\n",
       "      <td>Neither</td>\n",
       "      <td>Neither</td>\n",
       "      <td>Neither</td>\n",
       "      <td>Neither</td>\n",
       "      <td>Neither</td>\n",
       "      <td>NaN</td>\n",
       "      <td>5</td>\n",
       "    </tr>\n",
       "  </tbody>\n",
       "</table>\n",
       "<p>5 rows × 180 columns</p>\n",
       "</div>"
      ],
      "text/plain": [
       "  dataid    status foundation_pier_beam foundation_slab  \\\n",
       "0    ﻿18  Complete                  NaN            Slab   \n",
       "1     26  Complete                  NaN            Slab   \n",
       "2     43  Complete                  NaN            Slab   \n",
       "3     50  Complete                  NaN            Slab   \n",
       "4    125  Complete                  NaN            Slab   \n",
       "\n",
       "  spend_time_at_home_none spend_time_at_home_monday  \\\n",
       "0                     NaN                    Monday   \n",
       "1                    none                       NaN   \n",
       "2                     NaN                    Monday   \n",
       "3                     NaN                    Monday   \n",
       "4                     NaN                    Monday   \n",
       "\n",
       "  spend_time_at_home_tuesday spend_time_at_home_wednesday  \\\n",
       "0                        NaN                          NaN   \n",
       "1                        NaN                          NaN   \n",
       "2                    Tuesday                    Wednesday   \n",
       "3                    Tuesday                    Wednesday   \n",
       "4                    Tuesday                    Wednesday   \n",
       "\n",
       "  spend_time_at_home_thursday spend_time_at_home_friday  ...  \\\n",
       "0                         NaN                    Friday  ...   \n",
       "1                         NaN                       NaN  ...   \n",
       "2                    Thursday                    Friday  ...   \n",
       "3                    Thursday                    Friday  ...   \n",
       "4                    Thursday                    Friday  ...   \n",
       "\n",
       "  energy_development_bioenergy can_reduce_energy_consumption  \\\n",
       "0                          NaN                       Neither   \n",
       "1             Strongly support             Slightly disagree   \n",
       "2              Slightly oppose             Slightly disagree   \n",
       "3                      Neither             Slightly disagree   \n",
       "4                      Neither                       Neither   \n",
       "\n",
       "  know_steps_reduce_energy_consumption cannot_reduce_energy_consumption  \\\n",
       "0                              Neither                Slightly disagree   \n",
       "1                       Strongly agree                   Slightly agree   \n",
       "2                       Strongly agree                Slightly disagree   \n",
       "3                       Strongly agree                Slightly disagree   \n",
       "4                              Neither                          Neither   \n",
       "\n",
       "  individual_responsible_energy_reduce energy_reduce_regulation  \\\n",
       "0                              Neither           Slightly agree   \n",
       "1                    Slightly disagree           Slightly agree   \n",
       "2                       Slightly agree           Strongly agree   \n",
       "3                       Slightly agree        Slightly disagree   \n",
       "4                              Neither                  Neither   \n",
       "\n",
       "  energy_reduce_risky  can_lower_energy_use  \\\n",
       "0   Strongly disagree     Strongly disagree   \n",
       "1   Strongly disagree        Slightly agree   \n",
       "2   Strongly disagree        Strongly agree   \n",
       "3   Slightly disagree        Slightly agree   \n",
       "4             Neither               Neither   \n",
       "\n",
       "                            energy_reduce_other_ways  at_home  \n",
       "0                                                NaN        2  \n",
       "1  You should draw a distinction about summer and...        0  \n",
       "2  What price/value would you give to a battery b...        5  \n",
       "3                                                NaN        5  \n",
       "4                                                NaN        5  \n",
       "\n",
       "[5 rows x 180 columns]"
      ]
     },
     "execution_count": 8,
     "metadata": {},
     "output_type": "execute_result"
    }
   ],
   "source": [
    "survey.head()"
   ]
  },
  {
   "cell_type": "code",
   "execution_count": 9,
   "metadata": {},
   "outputs": [
    {
     "data": {
      "text/plain": [
       "array([[<matplotlib.axes._subplots.AxesSubplot object at 0x00000143969F9160>]],\n",
       "      dtype=object)"
      ]
     },
     "execution_count": 9,
     "metadata": {},
     "output_type": "execute_result"
    }
   ],
   "source": [
    "import matplotlib.pyplot as plt\n",
    "#import matplotlib as plt\n",
    "survey.hist(column=\"at_home\")"
   ]
  },
  {
   "cell_type": "markdown",
   "metadata": {},
   "source": [
    "# look into income levels"
   ]
  },
  {
   "cell_type": "code",
   "execution_count": 10,
   "metadata": {},
   "outputs": [],
   "source": [
    "def indexsort(value):\n",
    "    if value.startswith(\"Less\"):\n",
    "        return 0\n",
    "    list_of_elements = value.split(\",\")\n",
    "    return int(list_of_elements[0][1:])   "
   ]
  },
  {
   "cell_type": "code",
   "execution_count": 11,
   "metadata": {},
   "outputs": [
    {
     "name": "stdout",
     "output_type": "stream",
     "text": [
      "     total_annual_income  dataid\n",
      "8      Less than $10,000       1\n",
      "0      $10,000 - $19,999       1\n",
      "3      $20,000 - $34,999       5\n",
      "5      $35,000 - $49,999       4\n",
      "6      $50,000 - $74,999      23\n",
      "7      $75,000 - $99,999      27\n",
      "1    $100,000 - $149,999      75\n",
      "2    $150,000 - $299,000      64\n",
      "4  $300,000 - $1,000,000      19\n"
     ]
    },
    {
     "data": {
      "text/plain": [
       "<matplotlib.axes._subplots.AxesSubplot at 0x143999a7eb8>"
      ]
     },
     "execution_count": 11,
     "metadata": {},
     "output_type": "execute_result"
    },
    {
     "data": {
      "image/png": "[encoded data removed]",
      "text/plain": [
       "<Figure size 432x288 with 1 Axes>"
      ]
     },
     "metadata": {
      "needs_background": "light"
     },
     "output_type": "display_data"
    }
   ],
   "source": [
    "\n",
    "income = survey.groupby(\"total_annual_income\").dataid.count()\n",
    "income = pd.DataFrame(income).reset_index()\n",
    "income['sortindex'] = income[\"total_annual_income\"].apply(indexsort)\n",
    "\n",
    "income = income.sort_values(by=[\"sortindex\"])\n",
    "\n",
    "income = income.drop(['sortindex'], axis=1)\n",
    "\n",
    "\n",
    "print(income)\n",
    "\n",
    "income.plot(\"total_annual_income\", \"dataid\", kind=\"bar\")"
   ]
  },
  {
   "cell_type": "markdown",
   "metadata": {},
   "source": [
    "# look at residents"
   ]
  },
  {
   "cell_type": "code",
   "execution_count": 12,
   "metadata": {},
   "outputs": [
    {
     "data": {
      "text/plain": [
       "Index(['residents_under_5', 'residents_6_to_12', 'residents_13_to_18',\n",
       "       'residents_19_to_24', 'residents_25_to_34', 'residents_35_to_49',\n",
       "       'residents_50_to_64', 'residents_65_and_older'],\n",
       "      dtype='object')"
      ]
     },
     "execution_count": 12,
     "metadata": {},
     "output_type": "execute_result"
    }
   ],
   "source": [
    "survey.columns[17:25]"
   ]
  },
  {
   "cell_type": "code",
   "execution_count": 13,
   "metadata": {},
   "outputs": [],
   "source": [
    "survey[\"total_residents\"] = survey[survey.columns[17:25]].sum(axis=1)"
   ]
  },
  {
   "cell_type": "code",
   "execution_count": 14,
   "metadata": {},
   "outputs": [
    {
     "data": {
      "text/plain": [
       "array([[<matplotlib.axes._subplots.AxesSubplot object at 0x00000143998224A8>]],\n",
       "      dtype=object)"
      ]
     },
     "execution_count": 14,
     "metadata": {},
     "output_type": "execute_result"
    },
    {
     "data": {
      "image/png": "[encoded data removed]",
      "text/plain": [
       "<Figure size 432x288 with 1 Axes>"
      ]
     },
     "metadata": {
      "needs_background": "light"
     },
     "output_type": "display_data"
    }
   ],
   "source": [
    "survey.hist(column=\"total_residents\")"
   ]
  },
  {
   "cell_type": "markdown",
   "metadata": {},
   "source": [
    "# look into education level"
   ]
  },
  {
   "cell_type": "code",
   "execution_count": 15,
   "metadata": {},
   "outputs": [
    {
     "name": "stdout",
     "output_type": "stream",
     "text": [
      "                        education_level  dataid\n",
      "1                  High School graduate       1\n",
      "3  Some college/trade/vocational school       3\n",
      "0                      College graduate      81\n",
      "2                   Postgraduate degree     154\n"
     ]
    },
    {
     "data": {
      "text/plain": [
       "<matplotlib.axes._subplots.AxesSubplot at 0x14399b962b0>"
      ]
     },
     "execution_count": 15,
     "metadata": {},
     "output_type": "execute_result"
    },
    {
     "data": {
      "image/png": "[encoded data removed]",
      "text/plain": [
       "<Figure size 432x288 with 1 Axes>"
      ]
     },
     "metadata": {
      "needs_background": "light"
     },
     "output_type": "display_data"
    }
   ],
   "source": [
    "\n",
    "edu = survey.groupby(\"education_level\").dataid.count()\n",
    "edu = pd.DataFrame(edu).reset_index()\n",
    "edu = edu.sort_values(by=[\"dataid\"])\n",
    "\n",
    "print(edu)\n",
    "\n",
    "\n",
    "edu.plot(\"education_level\", \"dataid\", kind=\"bar\")"
   ]
  },
  {
   "cell_type": "markdown",
   "metadata": {},
   "source": [
    "# Pv Systems"
   ]
  },
  {
   "cell_type": "code",
   "execution_count": 16,
   "metadata": {},
   "outputs": [
    {
     "name": "stdout",
     "output_type": "stream",
     "text": [
      "  pv_system_own  dataid\n",
      "1           Yes     107\n",
      "0            No     132\n"
     ]
    },
    {
     "data": {
      "text/plain": [
       "<matplotlib.axes._subplots.AxesSubplot at 0x14399b01390>"
      ]
     },
     "execution_count": 16,
     "metadata": {},
     "output_type": "execute_result"
    },
    {
     "data": {
      "image/png": "[encoded data removed]",
      "text/plain": [
       "<Figure size 432x288 with 1 Axes>"
      ]
     },
     "metadata": {
      "needs_background": "light"
     },
     "output_type": "display_data"
    }
   ],
   "source": [
    "pv = survey.groupby(\"pv_system_own\").dataid.count()\n",
    "pv = pd.DataFrame(pv).reset_index()\n",
    "pv = pv.sort_values(by=[\"dataid\"])\n",
    "\n",
    "print(pv)\n",
    "\n",
    "\n",
    "pv.plot(\"pv_system_own\", \"dataid\", kind=\"bar\")"
   ]
  },
  {
   "cell_type": "code",
   "execution_count": 17,
   "metadata": {},
   "outputs": [
    {
     "name": "stdout",
     "output_type": "stream",
     "text": [
      "pv_system_satisfied\n",
      "Neutral                   1\n",
      "Somewhat dissatisfied     1\n",
      "Somewhat satisfied       26\n",
      "Very                     79\n",
      "Name: dataid, dtype: int64\n"
     ]
    },
    {
     "data": {
      "text/plain": [
       "<matplotlib.axes._subplots.AxesSubplot at 0x1439abcfd30>"
      ]
     },
     "execution_count": 17,
     "metadata": {},
     "output_type": "execute_result"
    },
    {
     "data": {
      "image/png": "[encoded data removed]",
      "text/plain": [
       "<Figure size 432x288 with 1 Axes>"
      ]
     },
     "metadata": {},
     "output_type": "display_data"
    }
   ],
   "source": [
    "pv_satisifaction = survey.groupby(\"pv_system_satisfied\").dataid.count()\n",
    "#pv_satisifaction = pd.DataFrame(pv_satisifaction).reset_index()\n",
    "#pv_satisifaction = pv_satisifaction.sort_values(by=[\"dataid\"])\n",
    "\n",
    "print(pv_satisifaction)\n",
    "\n",
    "\n",
    "pv_satisifaction.plot( kind=\"pie\")"
   ]
  },
  {
   "cell_type": "markdown",
   "metadata": {},
   "source": [
    "# updates for energy efficiency"
   ]
  },
  {
   "cell_type": "code",
   "execution_count": 18,
   "metadata": {},
   "outputs": [
    {
     "data": {
      "text/plain": [
       "Index(['retrofits_weather', 'hvac_sealed_duct_leak',\n",
       "       'energy_efficient_windows'],\n",
       "      dtype='object')"
      ]
     },
     "execution_count": 18,
     "metadata": {},
     "output_type": "execute_result"
    }
   ],
   "source": [
    "#create list for spend time a thome\n",
    "energy_update = survey.columns[48:51] \n",
    "energy_update"
   ]
  },
  {
   "cell_type": "code",
   "execution_count": 19,
   "metadata": {},
   "outputs": [],
   "source": [
    "def updates (row):\n",
    "    \n",
    "    return len(row.loc[~row.isnull()])\n",
    "  "
   ]
  },
  {
   "cell_type": "code",
   "execution_count": 20,
   "metadata": {},
   "outputs": [],
   "source": [
    "survey['energy_updates'] = survey[energy_update].apply(updates, axis=1)"
   ]
  },
  {
   "cell_type": "code",
   "execution_count": 21,
   "metadata": {},
   "outputs": [
    {
     "data": {
      "text/html": [
       "<div>\n",
       "<style scoped>\n",
       "    .dataframe tbody tr th:only-of-type {\n",
       "        vertical-align: middle;\n",
       "    }\n",
       "\n",
       "    .dataframe tbody tr th {\n",
       "        vertical-align: top;\n",
       "    }\n",
       "\n",
       "    .dataframe thead th {\n",
       "        text-align: right;\n",
       "    }\n",
       "</style>\n",
       "<table border=\"1\" class=\"dataframe\">\n",
       "  <thead>\n",
       "    <tr style=\"text-align: right;\">\n",
       "      <th></th>\n",
       "      <th>dataid</th>\n",
       "      <th>status</th>\n",
       "      <th>foundation_pier_beam</th>\n",
       "      <th>foundation_slab</th>\n",
       "      <th>spend_time_at_home_none</th>\n",
       "      <th>spend_time_at_home_monday</th>\n",
       "      <th>spend_time_at_home_tuesday</th>\n",
       "      <th>spend_time_at_home_wednesday</th>\n",
       "      <th>spend_time_at_home_thursday</th>\n",
       "      <th>spend_time_at_home_friday</th>\n",
       "      <th>...</th>\n",
       "      <th>know_steps_reduce_energy_consumption</th>\n",
       "      <th>cannot_reduce_energy_consumption</th>\n",
       "      <th>individual_responsible_energy_reduce</th>\n",
       "      <th>energy_reduce_regulation</th>\n",
       "      <th>energy_reduce_risky</th>\n",
       "      <th>can_lower_energy_use</th>\n",
       "      <th>energy_reduce_other_ways</th>\n",
       "      <th>at_home</th>\n",
       "      <th>total_residents</th>\n",
       "      <th>energy_updates</th>\n",
       "    </tr>\n",
       "  </thead>\n",
       "  <tbody>\n",
       "    <tr>\n",
       "      <th>0</th>\n",
       "      <td>﻿18</td>\n",
       "      <td>Complete</td>\n",
       "      <td>NaN</td>\n",
       "      <td>Slab</td>\n",
       "      <td>NaN</td>\n",
       "      <td>Monday</td>\n",
       "      <td>NaN</td>\n",
       "      <td>NaN</td>\n",
       "      <td>NaN</td>\n",
       "      <td>Friday</td>\n",
       "      <td>...</td>\n",
       "      <td>Neither</td>\n",
       "      <td>Slightly disagree</td>\n",
       "      <td>Neither</td>\n",
       "      <td>Slightly agree</td>\n",
       "      <td>Strongly disagree</td>\n",
       "      <td>Strongly disagree</td>\n",
       "      <td>NaN</td>\n",
       "      <td>2</td>\n",
       "      <td>1.0</td>\n",
       "      <td>0</td>\n",
       "    </tr>\n",
       "    <tr>\n",
       "      <th>1</th>\n",
       "      <td>26</td>\n",
       "      <td>Complete</td>\n",
       "      <td>NaN</td>\n",
       "      <td>Slab</td>\n",
       "      <td>none</td>\n",
       "      <td>NaN</td>\n",
       "      <td>NaN</td>\n",
       "      <td>NaN</td>\n",
       "      <td>NaN</td>\n",
       "      <td>NaN</td>\n",
       "      <td>...</td>\n",
       "      <td>Strongly agree</td>\n",
       "      <td>Slightly agree</td>\n",
       "      <td>Slightly disagree</td>\n",
       "      <td>Slightly agree</td>\n",
       "      <td>Strongly disagree</td>\n",
       "      <td>Slightly agree</td>\n",
       "      <td>You should draw a distinction about summer and...</td>\n",
       "      <td>0</td>\n",
       "      <td>2.0</td>\n",
       "      <td>0</td>\n",
       "    </tr>\n",
       "    <tr>\n",
       "      <th>2</th>\n",
       "      <td>43</td>\n",
       "      <td>Complete</td>\n",
       "      <td>NaN</td>\n",
       "      <td>Slab</td>\n",
       "      <td>NaN</td>\n",
       "      <td>Monday</td>\n",
       "      <td>Tuesday</td>\n",
       "      <td>Wednesday</td>\n",
       "      <td>Thursday</td>\n",
       "      <td>Friday</td>\n",
       "      <td>...</td>\n",
       "      <td>Strongly agree</td>\n",
       "      <td>Slightly disagree</td>\n",
       "      <td>Slightly agree</td>\n",
       "      <td>Strongly agree</td>\n",
       "      <td>Strongly disagree</td>\n",
       "      <td>Strongly agree</td>\n",
       "      <td>What price/value would you give to a battery b...</td>\n",
       "      <td>5</td>\n",
       "      <td>2.0</td>\n",
       "      <td>0</td>\n",
       "    </tr>\n",
       "    <tr>\n",
       "      <th>3</th>\n",
       "      <td>50</td>\n",
       "      <td>Complete</td>\n",
       "      <td>NaN</td>\n",
       "      <td>Slab</td>\n",
       "      <td>NaN</td>\n",
       "      <td>Monday</td>\n",
       "      <td>Tuesday</td>\n",
       "      <td>Wednesday</td>\n",
       "      <td>Thursday</td>\n",
       "      <td>Friday</td>\n",
       "      <td>...</td>\n",
       "      <td>Strongly agree</td>\n",
       "      <td>Slightly disagree</td>\n",
       "      <td>Slightly agree</td>\n",
       "      <td>Slightly disagree</td>\n",
       "      <td>Slightly disagree</td>\n",
       "      <td>Slightly agree</td>\n",
       "      <td>NaN</td>\n",
       "      <td>5</td>\n",
       "      <td>2.0</td>\n",
       "      <td>0</td>\n",
       "    </tr>\n",
       "    <tr>\n",
       "      <th>4</th>\n",
       "      <td>125</td>\n",
       "      <td>Complete</td>\n",
       "      <td>NaN</td>\n",
       "      <td>Slab</td>\n",
       "      <td>NaN</td>\n",
       "      <td>Monday</td>\n",
       "      <td>Tuesday</td>\n",
       "      <td>Wednesday</td>\n",
       "      <td>Thursday</td>\n",
       "      <td>Friday</td>\n",
       "      <td>...</td>\n",
       "      <td>Neither</td>\n",
       "      <td>Neither</td>\n",
       "      <td>Neither</td>\n",
       "      <td>Neither</td>\n",
       "      <td>Neither</td>\n",
       "      <td>Neither</td>\n",
       "      <td>NaN</td>\n",
       "      <td>5</td>\n",
       "      <td>2.0</td>\n",
       "      <td>3</td>\n",
       "    </tr>\n",
       "  </tbody>\n",
       "</table>\n",
       "<p>5 rows × 182 columns</p>\n",
       "</div>"
      ],
      "text/plain": [
       "  dataid    status foundation_pier_beam foundation_slab  \\\n",
       "0    ﻿18  Complete                  NaN            Slab   \n",
       "1     26  Complete                  NaN            Slab   \n",
       "2     43  Complete                  NaN            Slab   \n",
       "3     50  Complete                  NaN            Slab   \n",
       "4    125  Complete                  NaN            Slab   \n",
       "\n",
       "  spend_time_at_home_none spend_time_at_home_monday  \\\n",
       "0                     NaN                    Monday   \n",
       "1                    none                       NaN   \n",
       "2                     NaN                    Monday   \n",
       "3                     NaN                    Monday   \n",
       "4                     NaN                    Monday   \n",
       "\n",
       "  spend_time_at_home_tuesday spend_time_at_home_wednesday  \\\n",
       "0                        NaN                          NaN   \n",
       "1                        NaN                          NaN   \n",
       "2                    Tuesday                    Wednesday   \n",
       "3                    Tuesday                    Wednesday   \n",
       "4                    Tuesday                    Wednesday   \n",
       "\n",
       "  spend_time_at_home_thursday spend_time_at_home_friday  ...  \\\n",
       "0                         NaN                    Friday  ...   \n",
       "1                         NaN                       NaN  ...   \n",
       "2                    Thursday                    Friday  ...   \n",
       "3                    Thursday                    Friday  ...   \n",
       "4                    Thursday                    Friday  ...   \n",
       "\n",
       "  know_steps_reduce_energy_consumption cannot_reduce_energy_consumption  \\\n",
       "0                              Neither                Slightly disagree   \n",
       "1                       Strongly agree                   Slightly agree   \n",
       "2                       Strongly agree                Slightly disagree   \n",
       "3                       Strongly agree                Slightly disagree   \n",
       "4                              Neither                          Neither   \n",
       "\n",
       "  individual_responsible_energy_reduce energy_reduce_regulation  \\\n",
       "0                              Neither           Slightly agree   \n",
       "1                    Slightly disagree           Slightly agree   \n",
       "2                       Slightly agree           Strongly agree   \n",
       "3                       Slightly agree        Slightly disagree   \n",
       "4                              Neither                  Neither   \n",
       "\n",
       "  energy_reduce_risky can_lower_energy_use  \\\n",
       "0   Strongly disagree    Strongly disagree   \n",
       "1   Strongly disagree       Slightly agree   \n",
       "2   Strongly disagree       Strongly agree   \n",
       "3   Slightly disagree       Slightly agree   \n",
       "4             Neither              Neither   \n",
       "\n",
       "                            energy_reduce_other_ways  at_home  \\\n",
       "0                                                NaN        2   \n",
       "1  You should draw a distinction about summer and...        0   \n",
       "2  What price/value would you give to a battery b...        5   \n",
       "3                                                NaN        5   \n",
       "4                                                NaN        5   \n",
       "\n",
       "   total_residents  energy_updates  \n",
       "0              1.0               0  \n",
       "1              2.0               0  \n",
       "2              2.0               0  \n",
       "3              2.0               0  \n",
       "4              2.0               3  \n",
       "\n",
       "[5 rows x 182 columns]"
      ]
     },
     "execution_count": 21,
     "metadata": {},
     "output_type": "execute_result"
    }
   ],
   "source": [
    "survey.head()"
   ]
  },
  {
   "cell_type": "code",
   "execution_count": 22,
   "metadata": {},
   "outputs": [
    {
     "data": {
      "text/plain": [
       "array([[<matplotlib.axes._subplots.AxesSubplot object at 0x0000014399BB2048>]],\n",
       "      dtype=object)"
      ]
     },
     "execution_count": 22,
     "metadata": {},
     "output_type": "execute_result"
    },
    {
     "data": {
      "image/png": "[encoded data removed]",
      "text/plain": [
       "<Figure size 432x288 with 1 Axes>"
      ]
     },
     "metadata": {
      "needs_background": "light"
     },
     "output_type": "display_data"
    }
   ],
   "source": [
    "survey.hist(\"energy_updates\")"
   ]
  },
  {
   "cell_type": "markdown",
   "metadata": {},
   "source": [
    "# Temperature Settings"
   ]
  },
  {
   "cell_type": "code",
   "execution_count": 23,
   "metadata": {},
   "outputs": [],
   "source": [
    "import numpy as np\n",
    "def floatfunc(value):\n",
    "    try: \n",
    "        return float(value)\n",
    "    except ValueError:\n",
    "        return np.nan\n",
    "    \n",
    "#survey[\"temp_setting_weekday_sleeping_hr_sumr\"] = survey[\"temp_setting_weekday_sleeping_hr_sumr\"].apply(floatfunc)\n"
   ]
  },
  {
   "cell_type": "code",
   "execution_count": 24,
   "metadata": {},
   "outputs": [],
   "source": [
    "#convert to float\n",
    "for i in survey.columns:\n",
    "    if i.startswith(\"temp_setting\"):\n",
    "        survey[i] = survey[i].apply(floatfunc)\n",
    "        "
   ]
  },
  {
   "cell_type": "code",
   "execution_count": 25,
   "metadata": {},
   "outputs": [
    {
     "data": {
      "text/plain": [
       "array([[<matplotlib.axes._subplots.AxesSubplot object at 0x000001439AD64E48>]],\n",
       "      dtype=object)"
      ]
     },
     "execution_count": 25,
     "metadata": {},
     "output_type": "execute_result"
    },
    {
     "data": {
      "image/png": "[encoded data removed]",
      "text/plain": [
       "<Figure size 432x288 with 1 Axes>"
      ]
     },
     "metadata": {
      "needs_background": "light"
     },
     "output_type": "display_data"
    },
    {
     "data": {
      "image/png": "[encoded data removed]",
      "text/plain": [
       "<Figure size 432x288 with 1 Axes>"
      ]
     },
     "metadata": {
      "needs_background": "light"
     },
     "output_type": "display_data"
    },
    {
     "data": {
      "image/png": "[encoded data removed]",
      "text/plain": [
       "<Figure size 432x288 with 1 Axes>"
      ]
     },
     "metadata": {
      "needs_background": "light"
     },
     "output_type": "display_data"
    },
    {
     "data": {
      "image/png": "[encoded data removed]",
      "text/plain": [
       "<Figure size 432x288 with 1 Axes>"
      ]
     },
     "metadata": {
      "needs_background": "light"
     },
     "output_type": "display_data"
    },
    {
     "data": {
      "image/png": "[encoded data removed]",
      "text/plain": [
       "<Figure size 432x288 with 1 Axes>"
      ]
     },
     "metadata": {
      "needs_background": "light"
     },
     "output_type": "display_data"
    }
   ],
   "source": [
    "#plot temperatur\n",
    "survey.hist(\"temp_setting_weekday_workday_sumr\")\n",
    "survey.hist(\"temp_setting_weekday_morning_sumr\")\n",
    "survey.hist(\"temp_setting_weekday_evening_sumr\")\n",
    "survey.hist(\"temp_setting_weekday_sleeping_hr_sumr\")\n",
    "survey.hist(\"temp_setting_weekend_daylight_sumr\")\n"
   ]
  },
  {
   "cell_type": "code",
   "execution_count": 26,
   "metadata": {},
   "outputs": [
    {
     "data": {
      "text/plain": [
       "array([[<matplotlib.axes._subplots.AxesSubplot object at 0x000001439AFEB9B0>]],\n",
       "      dtype=object)"
      ]
     },
     "execution_count": 26,
     "metadata": {},
     "output_type": "execute_result"
    },
    {
     "data": {
      "image/png": "[encoded data removed]",
      "text/plain": [
       "<Figure size 432x288 with 1 Axes>"
      ]
     },
     "metadata": {
      "needs_background": "light"
     },
     "output_type": "display_data"
    },
    {
     "data": {
      "image/png": "[encoded data removed]",
      "text/plain": [
       "<Figure size 432x288 with 1 Axes>"
      ]
     },
     "metadata": {
      "needs_background": "light"
     },
     "output_type": "display_data"
    },
    {
     "data": {
      "image/png": "[encoded data removed]",
      "text/plain": [
       "<Figure size 432x288 with 1 Axes>"
      ]
     },
     "metadata": {
      "needs_background": "light"
     },
     "output_type": "display_data"
    },
    {
     "data": {
      "image/png": "[encoded data removed]",
      "text/plain": [
       "<Figure size 432x288 with 1 Axes>"
      ]
     },
     "metadata": {
      "needs_background": "light"
     },
     "output_type": "display_data"
    },
    {
     "data": {
      "image/png": "[encoded data removed]",
      "text/plain": [
       "<Figure size 432x288 with 1 Axes>"
      ]
     },
     "metadata": {
      "needs_background": "light"
     },
     "output_type": "display_data"
    }
   ],
   "source": [
    "#plot temperatur\n",
    "survey.hist(\"temp_setting_weekday_workday_wintr\")\n",
    "survey.hist(\"temp_setting_weekday_morning_wintr\")\n",
    "survey.hist(\"temp_setting_weekday_evening_wintr\")\n",
    "survey.hist(\"temp_setting_sleeping_hr_wintr\")\n",
    "survey.hist(\"temp_setting_weekend_daylight_wintr\")\n"
   ]
  },
  {
   "cell_type": "code",
   "execution_count": 27,
   "metadata": {},
   "outputs": [
    {
     "name": "stdout",
     "output_type": "stream",
     "text": [
      "{'temp_setting_weekday_workday_sumr': 78.0, 'temp_setting_weekday_morning_sumr': 77.0, 'temp_setting_weekday_evening_sumr': 76.0, 'temp_setting_weekday_sleeping_hr_sumr': 75.0, 'temp_setting_weekend_daylight_sumr': 76.5, 'temp_setting_weekday_workday_wintr': 68.0, 'temp_setting_weekday_morning_wintr': 70.0, 'temp_setting_weekday_evening_wintr': 70.0, 'temp_setting_sleeping_hr_wintr': 68.0, 'temp_setting_weekend_daylight_wintr': 70.0}\n"
     ]
    }
   ],
   "source": [
    "#find the median temperature for each\n",
    "medians = {}\n",
    "\n",
    "#convert to float\n",
    "for i in survey.columns:\n",
    "    if i.startswith(\"temp_setting\"):\n",
    "        medians[i] = survey[i].median()\n",
    "        \n",
    "print(medians)\n",
    "        \n",
    "\n",
    "\n",
    "\n"
   ]
  },
  {
   "cell_type": "code",
   "execution_count": 28,
   "metadata": {},
   "outputs": [
    {
     "name": "stdout",
     "output_type": "stream",
     "text": [
      "{'temp_setting_weekday_workday_sumr': 79.0, 'temp_setting_weekday_morning_sumr': 78.0, 'temp_setting_weekday_evening_sumr': 78.0, 'temp_setting_weekday_sleeping_hr_sumr': 78.0, 'temp_setting_weekend_daylight_sumr': 78.0, 'temp_setting_weekday_workday_wintr': 70.0, 'temp_setting_weekday_morning_wintr': 72.0, 'temp_setting_weekday_evening_wintr': 72.0, 'temp_setting_sleeping_hr_wintr': 70.0, 'temp_setting_weekend_daylight_wintr': 72.0} {'temp_setting_weekday_workday_sumr': 75.0, 'temp_setting_weekday_morning_sumr': 75.0, 'temp_setting_weekday_evening_sumr': 74.0, 'temp_setting_weekday_sleeping_hr_sumr': 73.0, 'temp_setting_weekend_daylight_sumr': 75.0, 'temp_setting_weekday_workday_wintr': 66.5, 'temp_setting_weekday_morning_wintr': 68.0, 'temp_setting_weekday_evening_wintr': 68.0, 'temp_setting_sleeping_hr_wintr': 66.0, 'temp_setting_weekend_daylight_wintr': 68.0}\n"
     ]
    }
   ],
   "source": [
    "#identify IQR\n",
    "quantile3 = {}\n",
    "quantile1 = {}\n",
    "\n",
    "#convert to float\n",
    "for i in survey.columns:\n",
    "    if i.startswith(\"temp_setting\"):\n",
    "        quantile3[i] = survey[i].quantile(.75) \n",
    "        quantile1[i] = survey[i].quantile(.25) \n",
    "        \n",
    "print(quantile3, quantile1)\n",
    "\n",
    "\n",
    "\n"
   ]
  },
  {
   "cell_type": "code",
   "execution_count": 29,
   "metadata": {},
   "outputs": [],
   "source": [
    "#if summer and below 25% than -1, if 25-75% then 0 and if above 75% then 1\n",
    "\n",
    "\n",
    "def energywaster(value, column):\n",
    "    if value < quantile1[column]:\n",
    "        return -1\n",
    "    elif value > quantile3[column]:\n",
    "        return 1\n",
    "    else:\n",
    "        return 0\n",
    "    \n",
    "#survey[\"temp_setting_weekday_workday_sumr\"].apply(energywaster, args=(\"temp_setting_weekday_workday_sumr\", ))\n",
    "\n",
    "\n",
    "for i in survey.columns:\n",
    "    if i.endswith(\"sumr\"):\n",
    "        survey[i+\"energyconserver\"] = survey[i].apply(energywaster, args=(i, ))\n",
    "        \n"
   ]
  },
  {
   "cell_type": "code",
   "execution_count": 30,
   "metadata": {},
   "outputs": [],
   "source": [
    "#if winter and below 25% than 1, if 25-75% then 0 and if above 75% then -1\n",
    "def wintenergywaster(value, column):\n",
    "    if value < quantile1[column]:\n",
    "        return 1\n",
    "    elif value > quantile3[column]:\n",
    "        return -1\n",
    "    else:\n",
    "        return 0\n",
    "    \n",
    "for i in survey.columns:\n",
    "    if i.endswith(\"wintr\"):\n",
    "        survey[i+\"wintenergyconserver\"] = survey[i].apply(wintenergywaster, args=(i, ))\n",
    "        "
   ]
  },
  {
   "cell_type": "code",
   "execution_count": 31,
   "metadata": {},
   "outputs": [
    {
     "data": {
      "text/html": [
       "<div>\n",
       "<style scoped>\n",
       "    .dataframe tbody tr th:only-of-type {\n",
       "        vertical-align: middle;\n",
       "    }\n",
       "\n",
       "    .dataframe tbody tr th {\n",
       "        vertical-align: top;\n",
       "    }\n",
       "\n",
       "    .dataframe thead th {\n",
       "        text-align: right;\n",
       "    }\n",
       "</style>\n",
       "<table border=\"1\" class=\"dataframe\">\n",
       "  <thead>\n",
       "    <tr style=\"text-align: right;\">\n",
       "      <th></th>\n",
       "      <th>dataid</th>\n",
       "      <th>status</th>\n",
       "      <th>foundation_pier_beam</th>\n",
       "      <th>foundation_slab</th>\n",
       "      <th>spend_time_at_home_none</th>\n",
       "      <th>spend_time_at_home_monday</th>\n",
       "      <th>spend_time_at_home_tuesday</th>\n",
       "      <th>spend_time_at_home_wednesday</th>\n",
       "      <th>spend_time_at_home_thursday</th>\n",
       "      <th>spend_time_at_home_friday</th>\n",
       "      <th>...</th>\n",
       "      <th>temp_setting_weekday_morning_sumrenergyconserver</th>\n",
       "      <th>temp_setting_weekday_evening_sumrenergyconserver</th>\n",
       "      <th>temp_setting_weekday_sleeping_hr_sumrenergyconserver</th>\n",
       "      <th>temp_setting_weekend_daylight_sumrenergyconserver</th>\n",
       "      <th>temp_setting_weekday_workday_wintrwintenergyconserver</th>\n",
       "      <th>temp_setting_weekday_morning_wintrwintenergyconserver</th>\n",
       "      <th>temp_setting_weekday_evening_wintrwintenergyconserver</th>\n",
       "      <th>temp_setting_sleeping_hr_wintrwintenergyconserver</th>\n",
       "      <th>temp_setting_weekend_daylight_wintrwintenergyconserver</th>\n",
       "      <th>temperatureUser</th>\n",
       "    </tr>\n",
       "  </thead>\n",
       "  <tbody>\n",
       "    <tr>\n",
       "      <th>0</th>\n",
       "      <td>﻿18</td>\n",
       "      <td>Complete</td>\n",
       "      <td>NaN</td>\n",
       "      <td>Slab</td>\n",
       "      <td>NaN</td>\n",
       "      <td>Monday</td>\n",
       "      <td>NaN</td>\n",
       "      <td>NaN</td>\n",
       "      <td>NaN</td>\n",
       "      <td>Friday</td>\n",
       "      <td>...</td>\n",
       "      <td>0</td>\n",
       "      <td>0</td>\n",
       "      <td>0</td>\n",
       "      <td>0</td>\n",
       "      <td>0</td>\n",
       "      <td>0</td>\n",
       "      <td>0</td>\n",
       "      <td>0</td>\n",
       "      <td>0</td>\n",
       "      <td>1</td>\n",
       "    </tr>\n",
       "    <tr>\n",
       "      <th>1</th>\n",
       "      <td>26</td>\n",
       "      <td>Complete</td>\n",
       "      <td>NaN</td>\n",
       "      <td>Slab</td>\n",
       "      <td>none</td>\n",
       "      <td>NaN</td>\n",
       "      <td>NaN</td>\n",
       "      <td>NaN</td>\n",
       "      <td>NaN</td>\n",
       "      <td>NaN</td>\n",
       "      <td>...</td>\n",
       "      <td>0</td>\n",
       "      <td>0</td>\n",
       "      <td>0</td>\n",
       "      <td>1</td>\n",
       "      <td>1</td>\n",
       "      <td>0</td>\n",
       "      <td>0</td>\n",
       "      <td>0</td>\n",
       "      <td>0</td>\n",
       "      <td>2</td>\n",
       "    </tr>\n",
       "    <tr>\n",
       "      <th>2</th>\n",
       "      <td>43</td>\n",
       "      <td>Complete</td>\n",
       "      <td>NaN</td>\n",
       "      <td>Slab</td>\n",
       "      <td>NaN</td>\n",
       "      <td>Monday</td>\n",
       "      <td>Tuesday</td>\n",
       "      <td>Wednesday</td>\n",
       "      <td>Thursday</td>\n",
       "      <td>Friday</td>\n",
       "      <td>...</td>\n",
       "      <td>0</td>\n",
       "      <td>0</td>\n",
       "      <td>0</td>\n",
       "      <td>0</td>\n",
       "      <td>1</td>\n",
       "      <td>1</td>\n",
       "      <td>1</td>\n",
       "      <td>1</td>\n",
       "      <td>1</td>\n",
       "      <td>5</td>\n",
       "    </tr>\n",
       "    <tr>\n",
       "      <th>3</th>\n",
       "      <td>50</td>\n",
       "      <td>Complete</td>\n",
       "      <td>NaN</td>\n",
       "      <td>Slab</td>\n",
       "      <td>NaN</td>\n",
       "      <td>Monday</td>\n",
       "      <td>Tuesday</td>\n",
       "      <td>Wednesday</td>\n",
       "      <td>Thursday</td>\n",
       "      <td>Friday</td>\n",
       "      <td>...</td>\n",
       "      <td>0</td>\n",
       "      <td>0</td>\n",
       "      <td>0</td>\n",
       "      <td>0</td>\n",
       "      <td>-1</td>\n",
       "      <td>0</td>\n",
       "      <td>0</td>\n",
       "      <td>-1</td>\n",
       "      <td>0</td>\n",
       "      <td>-2</td>\n",
       "    </tr>\n",
       "    <tr>\n",
       "      <th>4</th>\n",
       "      <td>125</td>\n",
       "      <td>Complete</td>\n",
       "      <td>NaN</td>\n",
       "      <td>Slab</td>\n",
       "      <td>NaN</td>\n",
       "      <td>Monday</td>\n",
       "      <td>Tuesday</td>\n",
       "      <td>Wednesday</td>\n",
       "      <td>Thursday</td>\n",
       "      <td>Friday</td>\n",
       "      <td>...</td>\n",
       "      <td>0</td>\n",
       "      <td>0</td>\n",
       "      <td>0</td>\n",
       "      <td>0</td>\n",
       "      <td>0</td>\n",
       "      <td>0</td>\n",
       "      <td>0</td>\n",
       "      <td>0</td>\n",
       "      <td>0</td>\n",
       "      <td>0</td>\n",
       "    </tr>\n",
       "  </tbody>\n",
       "</table>\n",
       "<p>5 rows × 193 columns</p>\n",
       "</div>"
      ],
      "text/plain": [
       "  dataid    status foundation_pier_beam foundation_slab  \\\n",
       "0    ﻿18  Complete                  NaN            Slab   \n",
       "1     26  Complete                  NaN            Slab   \n",
       "2     43  Complete                  NaN            Slab   \n",
       "3     50  Complete                  NaN            Slab   \n",
       "4    125  Complete                  NaN            Slab   \n",
       "\n",
       "  spend_time_at_home_none spend_time_at_home_monday  \\\n",
       "0                     NaN                    Monday   \n",
       "1                    none                       NaN   \n",
       "2                     NaN                    Monday   \n",
       "3                     NaN                    Monday   \n",
       "4                     NaN                    Monday   \n",
       "\n",
       "  spend_time_at_home_tuesday spend_time_at_home_wednesday  \\\n",
       "0                        NaN                          NaN   \n",
       "1                        NaN                          NaN   \n",
       "2                    Tuesday                    Wednesday   \n",
       "3                    Tuesday                    Wednesday   \n",
       "4                    Tuesday                    Wednesday   \n",
       "\n",
       "  spend_time_at_home_thursday spend_time_at_home_friday  ...  \\\n",
       "0                         NaN                    Friday  ...   \n",
       "1                         NaN                       NaN  ...   \n",
       "2                    Thursday                    Friday  ...   \n",
       "3                    Thursday                    Friday  ...   \n",
       "4                    Thursday                    Friday  ...   \n",
       "\n",
       "  temp_setting_weekday_morning_sumrenergyconserver  \\\n",
       "0                                                0   \n",
       "1                                                0   \n",
       "2                                                0   \n",
       "3                                                0   \n",
       "4                                                0   \n",
       "\n",
       "  temp_setting_weekday_evening_sumrenergyconserver  \\\n",
       "0                                                0   \n",
       "1                                                0   \n",
       "2                                                0   \n",
       "3                                                0   \n",
       "4                                                0   \n",
       "\n",
       "  temp_setting_weekday_sleeping_hr_sumrenergyconserver  \\\n",
       "0                                                  0     \n",
       "1                                                  0     \n",
       "2                                                  0     \n",
       "3                                                  0     \n",
       "4                                                  0     \n",
       "\n",
       "  temp_setting_weekend_daylight_sumrenergyconserver  \\\n",
       "0                                                 0   \n",
       "1                                                 1   \n",
       "2                                                 0   \n",
       "3                                                 0   \n",
       "4                                                 0   \n",
       "\n",
       "  temp_setting_weekday_workday_wintrwintenergyconserver  \\\n",
       "0                                                  0      \n",
       "1                                                  1      \n",
       "2                                                  1      \n",
       "3                                                 -1      \n",
       "4                                                  0      \n",
       "\n",
       "  temp_setting_weekday_morning_wintrwintenergyconserver  \\\n",
       "0                                                  0      \n",
       "1                                                  0      \n",
       "2                                                  1      \n",
       "3                                                  0      \n",
       "4                                                  0      \n",
       "\n",
       "  temp_setting_weekday_evening_wintrwintenergyconserver  \\\n",
       "0                                                  0      \n",
       "1                                                  0      \n",
       "2                                                  1      \n",
       "3                                                  0      \n",
       "4                                                  0      \n",
       "\n",
       "   temp_setting_sleeping_hr_wintrwintenergyconserver  \\\n",
       "0                                                  0   \n",
       "1                                                  0   \n",
       "2                                                  1   \n",
       "3                                                 -1   \n",
       "4                                                  0   \n",
       "\n",
       "   temp_setting_weekend_daylight_wintrwintenergyconserver  temperatureUser  \n",
       "0                                                  0                     1  \n",
       "1                                                  0                     2  \n",
       "2                                                  1                     5  \n",
       "3                                                  0                    -2  \n",
       "4                                                  0                     0  \n",
       "\n",
       "[5 rows x 193 columns]"
      ]
     },
     "execution_count": 31,
     "metadata": {},
     "output_type": "execute_result"
    }
   ],
   "source": [
    "#overall temperature user\n",
    "energytempcols = [c for c in survey.columns if c.endswith(\"energyconserver\")]\n",
    "\n",
    "survey[\"temperatureUser\"] = survey[energytempcols].sum(axis=1)\n",
    "\n",
    "survey.head()"
   ]
  },
  {
   "cell_type": "code",
   "execution_count": 32,
   "metadata": {},
   "outputs": [
    {
     "data": {
      "text/plain": [
       "array([[<matplotlib.axes._subplots.AxesSubplot object at 0x000001439B030668>]],\n",
       "      dtype=object)"
      ]
     },
     "execution_count": 32,
     "metadata": {},
     "output_type": "execute_result"
    },
    {
     "data": {
      "image/png": "[encoded data removed]",
      "text/plain": [
       "<Figure size 432x288 with 1 Axes>"
      ]
     },
     "metadata": {
      "needs_background": "light"
     },
     "output_type": "display_data"
    }
   ],
   "source": [
    "survey.hist(\"temperatureUser\")"
   ]
  },
  {
   "cell_type": "markdown",
   "metadata": {},
   "source": [
    "# Electric Vehicles"
   ]
  },
  {
   "cell_type": "code",
   "execution_count": 33,
   "metadata": {},
   "outputs": [],
   "source": [
    "survey[\"any_electric_vehicle\"] = survey[\"any_electric_vehicle\"].map({'Yes':1, 'No':0})"
   ]
  },
  {
   "cell_type": "code",
   "execution_count": 34,
   "metadata": {},
   "outputs": [
    {
     "name": "stdout",
     "output_type": "stream",
     "text": [
      "any_electric_vehicle\n",
      "0.0    180\n",
      "1.0     56\n",
      "Name: dataid, dtype: int64\n"
     ]
    },
    {
     "data": {
      "text/plain": [
       "<matplotlib.axes._subplots.AxesSubplot at 0x1439b150c50>"
      ]
     },
     "execution_count": 34,
     "metadata": {},
     "output_type": "execute_result"
    },
    {
     "data": {
      "image/png": "[encoded data removed]",
      "text/plain": [
       "<Figure size 432x288 with 1 Axes>"
      ]
     },
     "metadata": {},
     "output_type": "display_data"
    }
   ],
   "source": [
    "EV = survey.groupby(\"any_electric_vehicle\").dataid.count()\n",
    "\n",
    "\n",
    "print(EV)\n",
    "\n",
    "EV.plot( kind=\"pie\")\n",
    "\n"
   ]
  },
  {
   "cell_type": "code",
   "execution_count": 35,
   "metadata": {},
   "outputs": [
    {
     "name": "stdout",
     "output_type": "stream",
     "text": [
      "0%      37\n",
      "100%    13\n",
      "90%      2\n",
      "95%      2\n",
      "Name: vehicle_chargn_home, dtype: int64\n"
     ]
    },
    {
     "data": {
      "text/plain": [
       "<matplotlib.axes._subplots.AxesSubplot at 0x1439afcee48>"
      ]
     },
     "execution_count": 35,
     "metadata": {},
     "output_type": "execute_result"
    },
    {
     "data": {
      "image/png": "[encoded data removed]",
      "text/plain": [
       "<Figure size 432x288 with 1 Axes>"
      ]
     },
     "metadata": {},
     "output_type": "display_data"
    }
   ],
   "source": [
    "#charge at home\n",
    "home_charge = survey['vehicle_chargn_home'].value_counts()\n",
    "\n",
    "print(home_charge)\n",
    "\n",
    "home_charge.plot(kind=\"pie\")"
   ]
  },
  {
   "cell_type": "code",
   "execution_count": 120,
   "metadata": {},
   "outputs": [
    {
     "name": "stdout",
     "output_type": "stream",
     "text": [
      "0%      37\n",
      "100%    13\n",
      "95%      2\n",
      "90%      2\n",
      "Name: vehicle_chargn_home, dtype: int64\n"
     ]
    },
    {
     "data": {
      "text/plain": [
       "<matplotlib.axes._subplots.AxesSubplot at 0x1439f81a860>"
      ]
     },
     "execution_count": 120,
     "metadata": {},
     "output_type": "execute_result"
    },
    {
     "data": {
      "image/png": "[encoded data removed]",
      "text/plain": [
       "<Figure size 432x288 with 1 Axes>"
      ]
     },
     "metadata": {},
     "output_type": "display_data"
    }
   ],
   "source": [
    "EVonly = survey.loc[survey['any_electric_vehicle'] == 1.0 ]\n",
    "#charge at home\n",
    "home_charge_EV = EVonly['vehicle_chargn_home'].value_counts()\n",
    "\n",
    "print(home_charge_EV)\n",
    "\n",
    "home_charge_EV.plot(kind=\"pie\")"
   ]
  },
  {
   "cell_type": "code",
   "execution_count": 150,
   "metadata": {},
   "outputs": [
    {
     "data": {
      "text/html": [
       "<div>\n",
       "<style scoped>\n",
       "    .dataframe tbody tr th:only-of-type {\n",
       "        vertical-align: middle;\n",
       "    }\n",
       "\n",
       "    .dataframe tbody tr th {\n",
       "        vertical-align: top;\n",
       "    }\n",
       "\n",
       "    .dataframe thead th {\n",
       "        text-align: right;\n",
       "    }\n",
       "</style>\n",
       "<table border=\"1\" class=\"dataframe\">\n",
       "  <thead>\n",
       "    <tr style=\"text-align: right;\">\n",
       "      <th></th>\n",
       "      <th>index</th>\n",
       "      <th>vehicle_chargn_home</th>\n",
       "    </tr>\n",
       "  </thead>\n",
       "  <tbody>\n",
       "    <tr>\n",
       "      <th>0</th>\n",
       "      <td>0%</td>\n",
       "      <td>37</td>\n",
       "    </tr>\n",
       "    <tr>\n",
       "      <th>1</th>\n",
       "      <td>100%</td>\n",
       "      <td>13</td>\n",
       "    </tr>\n",
       "    <tr>\n",
       "      <th>2</th>\n",
       "      <td>95%</td>\n",
       "      <td>2</td>\n",
       "    </tr>\n",
       "    <tr>\n",
       "      <th>3</th>\n",
       "      <td>90%</td>\n",
       "      <td>2</td>\n",
       "    </tr>\n",
       "  </tbody>\n",
       "</table>\n",
       "</div>"
      ],
      "text/plain": [
       "  index  vehicle_chargn_home\n",
       "0    0%                   37\n",
       "1  100%                   13\n",
       "2   95%                    2\n",
       "3   90%                    2"
      ]
     },
     "execution_count": 150,
     "metadata": {},
     "output_type": "execute_result"
    }
   ],
   "source": [
    "charge_at_home = home_charge_EV.to_frame().reset_index()\n",
    "charge_at_home.head()\n"
   ]
  },
  {
   "cell_type": "code",
   "execution_count": 151,
   "metadata": {},
   "outputs": [
    {
     "data": {
      "text/html": [
       "<div>\n",
       "<style scoped>\n",
       "    .dataframe tbody tr th:only-of-type {\n",
       "        vertical-align: middle;\n",
       "    }\n",
       "\n",
       "    .dataframe tbody tr th {\n",
       "        vertical-align: top;\n",
       "    }\n",
       "\n",
       "    .dataframe thead th {\n",
       "        text-align: right;\n",
       "    }\n",
       "</style>\n",
       "<table border=\"1\" class=\"dataframe\">\n",
       "  <thead>\n",
       "    <tr style=\"text-align: right;\">\n",
       "      <th></th>\n",
       "      <th>index</th>\n",
       "      <th>vehicle_chargn_home</th>\n",
       "      <th>percentused</th>\n",
       "      <th>label</th>\n",
       "    </tr>\n",
       "  </thead>\n",
       "  <tbody>\n",
       "    <tr>\n",
       "      <th>0</th>\n",
       "      <td>0%</td>\n",
       "      <td>37</td>\n",
       "      <td>0%</td>\n",
       "      <td>no</td>\n",
       "    </tr>\n",
       "    <tr>\n",
       "      <th>1</th>\n",
       "      <td>100%</td>\n",
       "      <td>13</td>\n",
       "      <td>100%</td>\n",
       "      <td>yes</td>\n",
       "    </tr>\n",
       "    <tr>\n",
       "      <th>2</th>\n",
       "      <td>95%</td>\n",
       "      <td>2</td>\n",
       "      <td>95%</td>\n",
       "      <td>sometimes</td>\n",
       "    </tr>\n",
       "    <tr>\n",
       "      <th>3</th>\n",
       "      <td>90%</td>\n",
       "      <td>2</td>\n",
       "      <td>90%</td>\n",
       "      <td>sometimes</td>\n",
       "    </tr>\n",
       "  </tbody>\n",
       "</table>\n",
       "</div>"
      ],
      "text/plain": [
       "  index  vehicle_chargn_home percentused      label\n",
       "0    0%                   37          0%         no\n",
       "1  100%                   13        100%        yes\n",
       "2   95%                    2         95%  sometimes\n",
       "3   90%                    2         90%  sometimes"
      ]
     },
     "execution_count": 151,
     "metadata": {},
     "output_type": "execute_result"
    }
   ],
   "source": [
    "#recode to be yes, no and sometimes\n",
    "charge_at_home[\"percentused\"] = charge_at_home[\"index\"]\n",
    "charge_at_home['label'] = charge_at_home[\"percentused\"].map({'0%':'no', '100%':'yes', '90%':'sometimes','95%':'sometimes'})\n",
    "charge_at_home.head()"
   ]
  },
  {
   "cell_type": "code",
   "execution_count": 152,
   "metadata": {},
   "outputs": [
    {
     "name": "stdout",
     "output_type": "stream",
     "text": [
      "   vehicle_chargn_home      label\n",
      "0                   37         no\n",
      "1                   13        yes\n",
      "2                    2  sometimes\n",
      "3                    2  sometimes\n"
     ]
    }
   ],
   "source": [
    "charge_at_home =charge_at_home.drop(\"index\", axis=1)\n",
    "\n",
    "charge_at_home = charge_at_home.drop(\"percentused\", axis=1)\n",
    "print(charge_at_home)"
   ]
  },
  {
   "cell_type": "code",
   "execution_count": 153,
   "metadata": {},
   "outputs": [
    {
     "data": {
      "text/plain": [
       "label\n",
       "no           37\n",
       "sometimes     4\n",
       "yes          13\n",
       "Name: vehicle_chargn_home, dtype: int64"
      ]
     },
     "execution_count": 153,
     "metadata": {},
     "output_type": "execute_result"
    }
   ],
   "source": [
    "#groupby label\n",
    "charge_at_home = charge_at_home.groupby(['label'])['vehicle_chargn_home'].sum()\n",
    "charge_at_home"
   ]
  },
  {
   "cell_type": "code",
   "execution_count": 154,
   "metadata": {},
   "outputs": [
    {
     "data": {
      "text/plain": [
       "<matplotlib.axes._subplots.AxesSubplot at 0x1439fcedb38>"
      ]
     },
     "execution_count": 154,
     "metadata": {},
     "output_type": "execute_result"
    },
    {
     "data": {
      "image/png": "[encoded data removed]",
      "text/plain": [
       "<Figure size 432x288 with 1 Axes>"
      ]
     },
     "metadata": {},
     "output_type": "display_data"
    }
   ],
   "source": [
    "charge_at_home.plot(kind=\"pie\")"
   ]
  },
  {
   "cell_type": "code",
   "execution_count": 112,
   "metadata": {},
   "outputs": [
    {
     "name": "stdout",
     "output_type": "stream",
     "text": [
      "100%    26\n",
      "0%      11\n",
      "95%      4\n",
      "90%      3\n",
      "20%      2\n",
      "10%      2\n",
      "40%      1\n",
      "25%      1\n",
      "75%      1\n",
      "Name: vehicle_chargn_level2ev, dtype: int64\n",
      "100%    26\n",
      "0%      11\n",
      "95%      4\n",
      "90%      3\n",
      "20%      2\n",
      "10%      2\n",
      "40%      1\n",
      "25%      1\n",
      "75%      1\n",
      "Name: vehicle_chargn_level2ev, dtype: int64\n"
     ]
    },
    {
     "data": {
      "text/plain": [
       "<matplotlib.axes._subplots.AxesSubplot at 0x1439f97df98>"
      ]
     },
     "execution_count": 112,
     "metadata": {},
     "output_type": "execute_result"
    },
    {
     "data": {
      "image/png": "[encoded data removed]",
      "text/plain": [
       "<Figure size 432x288 with 1 Axes>"
      ]
     },
     "metadata": {},
     "output_type": "display_data"
    }
   ],
   "source": [
    "#charge at level2\n",
    "chargelevel2 = survey['vehicle_chargn_level2ev'].value_counts()\n",
    "\n",
    "print(chargelevel2)\n",
    "\n",
    "chargelevel2.plot(kind=\"pie\")\n",
    "\n",
    "#make sure it is for EV only\n",
    "chargelevel2EV = EVonly['vehicle_chargn_level2ev'].value_counts()\n",
    "\n",
    "print(chargelevel2EV)\n",
    "\n",
    "chargelevel2EV.plot(kind=\"pie\")\n"
   ]
  },
  {
   "cell_type": "code",
   "execution_count": 38,
   "metadata": {},
   "outputs": [
    {
     "name": "stdout",
     "output_type": "stream",
     "text": [
      "0%     34\n",
      "5%      9\n",
      "10%     5\n",
      "25%     1\n",
      "75%     1\n",
      "Name: vehicle_chargn_public, dtype: int64\n"
     ]
    },
    {
     "data": {
      "text/plain": [
       "<matplotlib.axes._subplots.AxesSubplot at 0x1439af4a240>"
      ]
     },
     "execution_count": 38,
     "metadata": {},
     "output_type": "execute_result"
    },
    {
     "data": {
      "image/png": "[encoded data removed]",
      "text/plain": [
       "<Figure size 432x288 with 1 Axes>"
      ]
     },
     "metadata": {},
     "output_type": "display_data"
    }
   ],
   "source": [
    "#charge in public\n",
    "charge_public = survey['vehicle_chargn_public'].value_counts()\n",
    "\n",
    "print(charge_public)\n",
    "\n",
    "charge_public.plot(kind=\"pie\")"
   ]
  },
  {
   "cell_type": "code",
   "execution_count": 39,
   "metadata": {},
   "outputs": [
    {
     "name": "stdout",
     "output_type": "stream",
     "text": [
      "0%     43\n",
      "75%     2\n",
      "5%      1\n",
      "90%     1\n",
      "85%     1\n",
      "40%     1\n",
      "Name: vehicle_chargn_work, dtype: int64\n"
     ]
    },
    {
     "data": {
      "text/plain": [
       "<matplotlib.axes._subplots.AxesSubplot at 0x1439ada0c88>"
      ]
     },
     "execution_count": 39,
     "metadata": {},
     "output_type": "execute_result"
    },
    {
     "data": {
      "image/png": "[encoded data removed]",
      "text/plain": [
       "<Figure size 432x288 with 1 Axes>"
      ]
     },
     "metadata": {},
     "output_type": "display_data"
    }
   ],
   "source": [
    "#charge at work\n",
    "charge_work = survey['vehicle_chargn_work'].value_counts()\n",
    "\n",
    "print(charge_work)\n",
    "\n",
    "charge_work.plot(kind=\"pie\")"
   ]
  },
  {
   "cell_type": "code",
   "execution_count": 40,
   "metadata": {},
   "outputs": [
    {
     "name": "stdout",
     "output_type": "stream",
     "text": [
      "No                  125\n",
      "Yes                  52\n",
      "I work from home     51\n",
      "Name: vehicle_chargn_work_avail, dtype: int64\n"
     ]
    },
    {
     "data": {
      "text/plain": [
       "<matplotlib.axes._subplots.AxesSubplot at 0x1439ae997f0>"
      ]
     },
     "execution_count": 40,
     "metadata": {},
     "output_type": "execute_result"
    },
    {
     "data": {
      "image/png": "[encoded data removed]",
      "text/plain": [
       "<Figure size 432x288 with 1 Axes>"
      ]
     },
     "metadata": {},
     "output_type": "display_data"
    }
   ],
   "source": [
    "#charge at work available\n",
    "charge_work_available = survey['vehicle_chargn_work_avail'].value_counts()\n",
    "\n",
    "print(charge_work_available)\n",
    "\n",
    "charge_work_available.plot(kind=\"pie\")"
   ]
  },
  {
   "cell_type": "code",
   "execution_count": 41,
   "metadata": {},
   "outputs": [
    {
     "name": "stdout",
     "output_type": "stream",
     "text": [
      "When I arrive home                                                                                                        30\n",
      "I have pre-set a delayed charge through my vehicle's telematics service (e.g. OnStar for Volts and CarWings for Leafs)    13\n",
      "I manually delay the time I start charging my vehicle                                                                     11\n",
      "Name: vehicle_chargn_time, dtype: int64\n"
     ]
    },
    {
     "data": {
      "text/plain": [
       "<matplotlib.axes._subplots.AxesSubplot at 0x1439ae114a8>"
      ]
     },
     "execution_count": 41,
     "metadata": {},
     "output_type": "execute_result"
    },
    {
     "data": {
      "image/png": "[encoded data removed]",
      "text/plain": [
       "<Figure size 432x288 with 1 Axes>"
      ]
     },
     "metadata": {},
     "output_type": "display_data"
    }
   ],
   "source": [
    "#charge time\n",
    "charge_time = survey['vehicle_chargn_time'].value_counts()\n",
    "\n",
    "print(charge_time)\n",
    "\n",
    "charge_time.plot(kind=\"pie\")"
   ]
  },
  {
   "cell_type": "code",
   "execution_count": 42,
   "metadata": {},
   "outputs": [
    {
     "name": "stdout",
     "output_type": "stream",
     "text": [
      "Environmental benefit    52\n",
      "Name: electric_vehicle_buy_reason_envir, dtype: int64\n",
      "total 239\n"
     ]
    }
   ],
   "source": [
    "#reason to buy\n",
    "reason = survey['electric_vehicle_buy_reason_envir'].value_counts()\n",
    "\n",
    "print(reason)\n",
    "print('total', len(survey))\n",
    "\n",
    "\n",
    "\n"
   ]
  },
  {
   "cell_type": "markdown",
   "metadata": {},
   "source": [
    "# Devices"
   ]
  },
  {
   "cell_type": "code",
   "execution_count": 43,
   "metadata": {},
   "outputs": [
    {
     "data": {
      "text/plain": [
       "Index(['have_dishwasher', 'have_clotheswasher_front_load',\n",
       "       'have_clotheswasher_top_load', 'have_water_softner', 'have_icemaker',\n",
       "       'have_swimming_pool', 'have_hot_tub', 'have_outdoor_sprinkler',\n",
       "       'have_landscape_water_feature', 'have_automated_drip_irrigation',\n",
       "       'have_water_garden', 'have_other_water_using_appliance'],\n",
       "      dtype='object')"
      ]
     },
     "execution_count": 43,
     "metadata": {},
     "output_type": "execute_result"
    }
   ],
   "source": [
    "have_devices = survey.columns[109:121]\n",
    "have_devices"
   ]
  },
  {
   "cell_type": "code",
   "execution_count": 44,
   "metadata": {},
   "outputs": [],
   "source": [
    "def devices (row):\n",
    "    \n",
    "    return len(row.loc[~row.isnull()])\n",
    "    "
   ]
  },
  {
   "cell_type": "code",
   "execution_count": 45,
   "metadata": {},
   "outputs": [
    {
     "data": {
      "text/html": [
       "<div>\n",
       "<style scoped>\n",
       "    .dataframe tbody tr th:only-of-type {\n",
       "        vertical-align: middle;\n",
       "    }\n",
       "\n",
       "    .dataframe tbody tr th {\n",
       "        vertical-align: top;\n",
       "    }\n",
       "\n",
       "    .dataframe thead th {\n",
       "        text-align: right;\n",
       "    }\n",
       "</style>\n",
       "<table border=\"1\" class=\"dataframe\">\n",
       "  <thead>\n",
       "    <tr style=\"text-align: right;\">\n",
       "      <th></th>\n",
       "      <th>dataid</th>\n",
       "      <th>status</th>\n",
       "      <th>foundation_pier_beam</th>\n",
       "      <th>foundation_slab</th>\n",
       "      <th>spend_time_at_home_none</th>\n",
       "      <th>spend_time_at_home_monday</th>\n",
       "      <th>spend_time_at_home_tuesday</th>\n",
       "      <th>spend_time_at_home_wednesday</th>\n",
       "      <th>spend_time_at_home_thursday</th>\n",
       "      <th>spend_time_at_home_friday</th>\n",
       "      <th>...</th>\n",
       "      <th>temp_setting_weekday_evening_sumrenergyconserver</th>\n",
       "      <th>temp_setting_weekday_sleeping_hr_sumrenergyconserver</th>\n",
       "      <th>temp_setting_weekend_daylight_sumrenergyconserver</th>\n",
       "      <th>temp_setting_weekday_workday_wintrwintenergyconserver</th>\n",
       "      <th>temp_setting_weekday_morning_wintrwintenergyconserver</th>\n",
       "      <th>temp_setting_weekday_evening_wintrwintenergyconserver</th>\n",
       "      <th>temp_setting_sleeping_hr_wintrwintenergyconserver</th>\n",
       "      <th>temp_setting_weekend_daylight_wintrwintenergyconserver</th>\n",
       "      <th>temperatureUser</th>\n",
       "      <th>devices_have</th>\n",
       "    </tr>\n",
       "  </thead>\n",
       "  <tbody>\n",
       "    <tr>\n",
       "      <th>0</th>\n",
       "      <td>﻿18</td>\n",
       "      <td>Complete</td>\n",
       "      <td>NaN</td>\n",
       "      <td>Slab</td>\n",
       "      <td>NaN</td>\n",
       "      <td>Monday</td>\n",
       "      <td>NaN</td>\n",
       "      <td>NaN</td>\n",
       "      <td>NaN</td>\n",
       "      <td>Friday</td>\n",
       "      <td>...</td>\n",
       "      <td>0</td>\n",
       "      <td>0</td>\n",
       "      <td>0</td>\n",
       "      <td>0</td>\n",
       "      <td>0</td>\n",
       "      <td>0</td>\n",
       "      <td>0</td>\n",
       "      <td>0</td>\n",
       "      <td>1</td>\n",
       "      <td>3</td>\n",
       "    </tr>\n",
       "    <tr>\n",
       "      <th>1</th>\n",
       "      <td>26</td>\n",
       "      <td>Complete</td>\n",
       "      <td>NaN</td>\n",
       "      <td>Slab</td>\n",
       "      <td>none</td>\n",
       "      <td>NaN</td>\n",
       "      <td>NaN</td>\n",
       "      <td>NaN</td>\n",
       "      <td>NaN</td>\n",
       "      <td>NaN</td>\n",
       "      <td>...</td>\n",
       "      <td>0</td>\n",
       "      <td>0</td>\n",
       "      <td>1</td>\n",
       "      <td>1</td>\n",
       "      <td>0</td>\n",
       "      <td>0</td>\n",
       "      <td>0</td>\n",
       "      <td>0</td>\n",
       "      <td>2</td>\n",
       "      <td>4</td>\n",
       "    </tr>\n",
       "    <tr>\n",
       "      <th>2</th>\n",
       "      <td>43</td>\n",
       "      <td>Complete</td>\n",
       "      <td>NaN</td>\n",
       "      <td>Slab</td>\n",
       "      <td>NaN</td>\n",
       "      <td>Monday</td>\n",
       "      <td>Tuesday</td>\n",
       "      <td>Wednesday</td>\n",
       "      <td>Thursday</td>\n",
       "      <td>Friday</td>\n",
       "      <td>...</td>\n",
       "      <td>0</td>\n",
       "      <td>0</td>\n",
       "      <td>0</td>\n",
       "      <td>1</td>\n",
       "      <td>1</td>\n",
       "      <td>1</td>\n",
       "      <td>1</td>\n",
       "      <td>1</td>\n",
       "      <td>5</td>\n",
       "      <td>2</td>\n",
       "    </tr>\n",
       "    <tr>\n",
       "      <th>3</th>\n",
       "      <td>50</td>\n",
       "      <td>Complete</td>\n",
       "      <td>NaN</td>\n",
       "      <td>Slab</td>\n",
       "      <td>NaN</td>\n",
       "      <td>Monday</td>\n",
       "      <td>Tuesday</td>\n",
       "      <td>Wednesday</td>\n",
       "      <td>Thursday</td>\n",
       "      <td>Friday</td>\n",
       "      <td>...</td>\n",
       "      <td>0</td>\n",
       "      <td>0</td>\n",
       "      <td>0</td>\n",
       "      <td>-1</td>\n",
       "      <td>0</td>\n",
       "      <td>0</td>\n",
       "      <td>-1</td>\n",
       "      <td>0</td>\n",
       "      <td>-2</td>\n",
       "      <td>5</td>\n",
       "    </tr>\n",
       "    <tr>\n",
       "      <th>4</th>\n",
       "      <td>125</td>\n",
       "      <td>Complete</td>\n",
       "      <td>NaN</td>\n",
       "      <td>Slab</td>\n",
       "      <td>NaN</td>\n",
       "      <td>Monday</td>\n",
       "      <td>Tuesday</td>\n",
       "      <td>Wednesday</td>\n",
       "      <td>Thursday</td>\n",
       "      <td>Friday</td>\n",
       "      <td>...</td>\n",
       "      <td>0</td>\n",
       "      <td>0</td>\n",
       "      <td>0</td>\n",
       "      <td>0</td>\n",
       "      <td>0</td>\n",
       "      <td>0</td>\n",
       "      <td>0</td>\n",
       "      <td>0</td>\n",
       "      <td>0</td>\n",
       "      <td>8</td>\n",
       "    </tr>\n",
       "  </tbody>\n",
       "</table>\n",
       "<p>5 rows × 194 columns</p>\n",
       "</div>"
      ],
      "text/plain": [
       "  dataid    status foundation_pier_beam foundation_slab  \\\n",
       "0    ﻿18  Complete                  NaN            Slab   \n",
       "1     26  Complete                  NaN            Slab   \n",
       "2     43  Complete                  NaN            Slab   \n",
       "3     50  Complete                  NaN            Slab   \n",
       "4    125  Complete                  NaN            Slab   \n",
       "\n",
       "  spend_time_at_home_none spend_time_at_home_monday  \\\n",
       "0                     NaN                    Monday   \n",
       "1                    none                       NaN   \n",
       "2                     NaN                    Monday   \n",
       "3                     NaN                    Monday   \n",
       "4                     NaN                    Monday   \n",
       "\n",
       "  spend_time_at_home_tuesday spend_time_at_home_wednesday  \\\n",
       "0                        NaN                          NaN   \n",
       "1                        NaN                          NaN   \n",
       "2                    Tuesday                    Wednesday   \n",
       "3                    Tuesday                    Wednesday   \n",
       "4                    Tuesday                    Wednesday   \n",
       "\n",
       "  spend_time_at_home_thursday spend_time_at_home_friday  ...  \\\n",
       "0                         NaN                    Friday  ...   \n",
       "1                         NaN                       NaN  ...   \n",
       "2                    Thursday                    Friday  ...   \n",
       "3                    Thursday                    Friday  ...   \n",
       "4                    Thursday                    Friday  ...   \n",
       "\n",
       "  temp_setting_weekday_evening_sumrenergyconserver  \\\n",
       "0                                                0   \n",
       "1                                                0   \n",
       "2                                                0   \n",
       "3                                                0   \n",
       "4                                                0   \n",
       "\n",
       "  temp_setting_weekday_sleeping_hr_sumrenergyconserver  \\\n",
       "0                                                  0     \n",
       "1                                                  0     \n",
       "2                                                  0     \n",
       "3                                                  0     \n",
       "4                                                  0     \n",
       "\n",
       "  temp_setting_weekend_daylight_sumrenergyconserver  \\\n",
       "0                                                 0   \n",
       "1                                                 1   \n",
       "2                                                 0   \n",
       "3                                                 0   \n",
       "4                                                 0   \n",
       "\n",
       "  temp_setting_weekday_workday_wintrwintenergyconserver  \\\n",
       "0                                                  0      \n",
       "1                                                  1      \n",
       "2                                                  1      \n",
       "3                                                 -1      \n",
       "4                                                  0      \n",
       "\n",
       "  temp_setting_weekday_morning_wintrwintenergyconserver  \\\n",
       "0                                                  0      \n",
       "1                                                  0      \n",
       "2                                                  1      \n",
       "3                                                  0      \n",
       "4                                                  0      \n",
       "\n",
       "  temp_setting_weekday_evening_wintrwintenergyconserver  \\\n",
       "0                                                  0      \n",
       "1                                                  0      \n",
       "2                                                  1      \n",
       "3                                                  0      \n",
       "4                                                  0      \n",
       "\n",
       "  temp_setting_sleeping_hr_wintrwintenergyconserver  \\\n",
       "0                                                 0   \n",
       "1                                                 0   \n",
       "2                                                 1   \n",
       "3                                                -1   \n",
       "4                                                 0   \n",
       "\n",
       "   temp_setting_weekend_daylight_wintrwintenergyconserver  temperatureUser  \\\n",
       "0                                                  0                     1   \n",
       "1                                                  0                     2   \n",
       "2                                                  1                     5   \n",
       "3                                                  0                    -2   \n",
       "4                                                  0                     0   \n",
       "\n",
       "   devices_have  \n",
       "0             3  \n",
       "1             4  \n",
       "2             2  \n",
       "3             5  \n",
       "4             8  \n",
       "\n",
       "[5 rows x 194 columns]"
      ]
     },
     "execution_count": 45,
     "metadata": {},
     "output_type": "execute_result"
    }
   ],
   "source": [
    "survey['devices_have'] = survey[have_devices].apply(devices, axis=1)\n",
    "survey.head()"
   ]
  },
  {
   "cell_type": "code",
   "execution_count": 46,
   "metadata": {},
   "outputs": [
    {
     "data": {
      "text/plain": [
       "array([[<matplotlib.axes._subplots.AxesSubplot object at 0x000001439AE424A8>]],\n",
       "      dtype=object)"
      ]
     },
     "execution_count": 46,
     "metadata": {},
     "output_type": "execute_result"
    },
    {
     "data": {
      "image/png": "[encoded data removed]",
      "text/plain": [
       "<Figure size 432x288 with 1 Axes>"
      ]
     },
     "metadata": {
      "needs_background": "light"
     },
     "output_type": "display_data"
    }
   ],
   "source": [
    "survey.hist(column=\"devices_have\")"
   ]
  },
  {
   "cell_type": "markdown",
   "metadata": {},
   "source": [
    "# energy Saving"
   ]
  },
  {
   "cell_type": "code",
   "execution_count": 47,
   "metadata": {},
   "outputs": [
    {
     "data": {
      "text/plain": [
       "Index(['energy_saving_led', 'energy_saving_attic_insulation',\n",
       "       'energy_saving_efficient_windows', 'energy_saving_efficient_furnace',\n",
       "       'energy_saving_efficient_ac', 'energy_saving_efficient_water_heater',\n",
       "       'energy_saving_efficient_thermostat', 'energy_saving_add_caulking',\n",
       "       'energy_saving_replace_showerhead', 'energy_saving_renewable_sys',\n",
       "       'energy_saving_other'],\n",
       "      dtype='object')"
      ]
     },
     "execution_count": 47,
     "metadata": {},
     "output_type": "execute_result"
    }
   ],
   "source": [
    "#look at energy saving features\n",
    "energy_saving = survey.columns[148:159]\n",
    "energy_saving"
   ]
  },
  {
   "cell_type": "code",
   "execution_count": 48,
   "metadata": {},
   "outputs": [],
   "source": [
    "def saving_energy (row):\n",
    "    \n",
    "    return len(row.loc[~row.isnull()])\n",
    "    "
   ]
  },
  {
   "cell_type": "code",
   "execution_count": 49,
   "metadata": {},
   "outputs": [
    {
     "data": {
      "text/html": [
       "<div>\n",
       "<style scoped>\n",
       "    .dataframe tbody tr th:only-of-type {\n",
       "        vertical-align: middle;\n",
       "    }\n",
       "\n",
       "    .dataframe tbody tr th {\n",
       "        vertical-align: top;\n",
       "    }\n",
       "\n",
       "    .dataframe thead th {\n",
       "        text-align: right;\n",
       "    }\n",
       "</style>\n",
       "<table border=\"1\" class=\"dataframe\">\n",
       "  <thead>\n",
       "    <tr style=\"text-align: right;\">\n",
       "      <th></th>\n",
       "      <th>dataid</th>\n",
       "      <th>status</th>\n",
       "      <th>foundation_pier_beam</th>\n",
       "      <th>foundation_slab</th>\n",
       "      <th>spend_time_at_home_none</th>\n",
       "      <th>spend_time_at_home_monday</th>\n",
       "      <th>spend_time_at_home_tuesday</th>\n",
       "      <th>spend_time_at_home_wednesday</th>\n",
       "      <th>spend_time_at_home_thursday</th>\n",
       "      <th>spend_time_at_home_friday</th>\n",
       "      <th>...</th>\n",
       "      <th>temp_setting_weekday_sleeping_hr_sumrenergyconserver</th>\n",
       "      <th>temp_setting_weekend_daylight_sumrenergyconserver</th>\n",
       "      <th>temp_setting_weekday_workday_wintrwintenergyconserver</th>\n",
       "      <th>temp_setting_weekday_morning_wintrwintenergyconserver</th>\n",
       "      <th>temp_setting_weekday_evening_wintrwintenergyconserver</th>\n",
       "      <th>temp_setting_sleeping_hr_wintrwintenergyconserver</th>\n",
       "      <th>temp_setting_weekend_daylight_wintrwintenergyconserver</th>\n",
       "      <th>temperatureUser</th>\n",
       "      <th>devices_have</th>\n",
       "      <th>energy_savings</th>\n",
       "    </tr>\n",
       "  </thead>\n",
       "  <tbody>\n",
       "    <tr>\n",
       "      <th>0</th>\n",
       "      <td>﻿18</td>\n",
       "      <td>Complete</td>\n",
       "      <td>NaN</td>\n",
       "      <td>Slab</td>\n",
       "      <td>NaN</td>\n",
       "      <td>Monday</td>\n",
       "      <td>NaN</td>\n",
       "      <td>NaN</td>\n",
       "      <td>NaN</td>\n",
       "      <td>Friday</td>\n",
       "      <td>...</td>\n",
       "      <td>0</td>\n",
       "      <td>0</td>\n",
       "      <td>0</td>\n",
       "      <td>0</td>\n",
       "      <td>0</td>\n",
       "      <td>0</td>\n",
       "      <td>0</td>\n",
       "      <td>1</td>\n",
       "      <td>3</td>\n",
       "      <td>1</td>\n",
       "    </tr>\n",
       "    <tr>\n",
       "      <th>1</th>\n",
       "      <td>26</td>\n",
       "      <td>Complete</td>\n",
       "      <td>NaN</td>\n",
       "      <td>Slab</td>\n",
       "      <td>none</td>\n",
       "      <td>NaN</td>\n",
       "      <td>NaN</td>\n",
       "      <td>NaN</td>\n",
       "      <td>NaN</td>\n",
       "      <td>NaN</td>\n",
       "      <td>...</td>\n",
       "      <td>0</td>\n",
       "      <td>1</td>\n",
       "      <td>1</td>\n",
       "      <td>0</td>\n",
       "      <td>0</td>\n",
       "      <td>0</td>\n",
       "      <td>0</td>\n",
       "      <td>2</td>\n",
       "      <td>4</td>\n",
       "      <td>3</td>\n",
       "    </tr>\n",
       "    <tr>\n",
       "      <th>2</th>\n",
       "      <td>43</td>\n",
       "      <td>Complete</td>\n",
       "      <td>NaN</td>\n",
       "      <td>Slab</td>\n",
       "      <td>NaN</td>\n",
       "      <td>Monday</td>\n",
       "      <td>Tuesday</td>\n",
       "      <td>Wednesday</td>\n",
       "      <td>Thursday</td>\n",
       "      <td>Friday</td>\n",
       "      <td>...</td>\n",
       "      <td>0</td>\n",
       "      <td>0</td>\n",
       "      <td>1</td>\n",
       "      <td>1</td>\n",
       "      <td>1</td>\n",
       "      <td>1</td>\n",
       "      <td>1</td>\n",
       "      <td>5</td>\n",
       "      <td>2</td>\n",
       "      <td>4</td>\n",
       "    </tr>\n",
       "    <tr>\n",
       "      <th>3</th>\n",
       "      <td>50</td>\n",
       "      <td>Complete</td>\n",
       "      <td>NaN</td>\n",
       "      <td>Slab</td>\n",
       "      <td>NaN</td>\n",
       "      <td>Monday</td>\n",
       "      <td>Tuesday</td>\n",
       "      <td>Wednesday</td>\n",
       "      <td>Thursday</td>\n",
       "      <td>Friday</td>\n",
       "      <td>...</td>\n",
       "      <td>0</td>\n",
       "      <td>0</td>\n",
       "      <td>-1</td>\n",
       "      <td>0</td>\n",
       "      <td>0</td>\n",
       "      <td>-1</td>\n",
       "      <td>0</td>\n",
       "      <td>-2</td>\n",
       "      <td>5</td>\n",
       "      <td>6</td>\n",
       "    </tr>\n",
       "    <tr>\n",
       "      <th>4</th>\n",
       "      <td>125</td>\n",
       "      <td>Complete</td>\n",
       "      <td>NaN</td>\n",
       "      <td>Slab</td>\n",
       "      <td>NaN</td>\n",
       "      <td>Monday</td>\n",
       "      <td>Tuesday</td>\n",
       "      <td>Wednesday</td>\n",
       "      <td>Thursday</td>\n",
       "      <td>Friday</td>\n",
       "      <td>...</td>\n",
       "      <td>0</td>\n",
       "      <td>0</td>\n",
       "      <td>0</td>\n",
       "      <td>0</td>\n",
       "      <td>0</td>\n",
       "      <td>0</td>\n",
       "      <td>0</td>\n",
       "      <td>0</td>\n",
       "      <td>8</td>\n",
       "      <td>9</td>\n",
       "    </tr>\n",
       "  </tbody>\n",
       "</table>\n",
       "<p>5 rows × 195 columns</p>\n",
       "</div>"
      ],
      "text/plain": [
       "  dataid    status foundation_pier_beam foundation_slab  \\\n",
       "0    ﻿18  Complete                  NaN            Slab   \n",
       "1     26  Complete                  NaN            Slab   \n",
       "2     43  Complete                  NaN            Slab   \n",
       "3     50  Complete                  NaN            Slab   \n",
       "4    125  Complete                  NaN            Slab   \n",
       "\n",
       "  spend_time_at_home_none spend_time_at_home_monday  \\\n",
       "0                     NaN                    Monday   \n",
       "1                    none                       NaN   \n",
       "2                     NaN                    Monday   \n",
       "3                     NaN                    Monday   \n",
       "4                     NaN                    Monday   \n",
       "\n",
       "  spend_time_at_home_tuesday spend_time_at_home_wednesday  \\\n",
       "0                        NaN                          NaN   \n",
       "1                        NaN                          NaN   \n",
       "2                    Tuesday                    Wednesday   \n",
       "3                    Tuesday                    Wednesday   \n",
       "4                    Tuesday                    Wednesday   \n",
       "\n",
       "  spend_time_at_home_thursday spend_time_at_home_friday  ...  \\\n",
       "0                         NaN                    Friday  ...   \n",
       "1                         NaN                       NaN  ...   \n",
       "2                    Thursday                    Friday  ...   \n",
       "3                    Thursday                    Friday  ...   \n",
       "4                    Thursday                    Friday  ...   \n",
       "\n",
       "  temp_setting_weekday_sleeping_hr_sumrenergyconserver  \\\n",
       "0                                                  0     \n",
       "1                                                  0     \n",
       "2                                                  0     \n",
       "3                                                  0     \n",
       "4                                                  0     \n",
       "\n",
       "  temp_setting_weekend_daylight_sumrenergyconserver  \\\n",
       "0                                                 0   \n",
       "1                                                 1   \n",
       "2                                                 0   \n",
       "3                                                 0   \n",
       "4                                                 0   \n",
       "\n",
       "  temp_setting_weekday_workday_wintrwintenergyconserver  \\\n",
       "0                                                  0      \n",
       "1                                                  1      \n",
       "2                                                  1      \n",
       "3                                                 -1      \n",
       "4                                                  0      \n",
       "\n",
       "  temp_setting_weekday_morning_wintrwintenergyconserver  \\\n",
       "0                                                  0      \n",
       "1                                                  0      \n",
       "2                                                  1      \n",
       "3                                                  0      \n",
       "4                                                  0      \n",
       "\n",
       "  temp_setting_weekday_evening_wintrwintenergyconserver  \\\n",
       "0                                                  0      \n",
       "1                                                  0      \n",
       "2                                                  1      \n",
       "3                                                  0      \n",
       "4                                                  0      \n",
       "\n",
       "  temp_setting_sleeping_hr_wintrwintenergyconserver  \\\n",
       "0                                                 0   \n",
       "1                                                 0   \n",
       "2                                                 1   \n",
       "3                                                -1   \n",
       "4                                                 0   \n",
       "\n",
       "  temp_setting_weekend_daylight_wintrwintenergyconserver  temperatureUser  \\\n",
       "0                                                  0                    1   \n",
       "1                                                  0                    2   \n",
       "2                                                  1                    5   \n",
       "3                                                  0                   -2   \n",
       "4                                                  0                    0   \n",
       "\n",
       "   devices_have  energy_savings  \n",
       "0             3               1  \n",
       "1             4               3  \n",
       "2             2               4  \n",
       "3             5               6  \n",
       "4             8               9  \n",
       "\n",
       "[5 rows x 195 columns]"
      ]
     },
     "execution_count": 49,
     "metadata": {},
     "output_type": "execute_result"
    }
   ],
   "source": [
    "survey['energy_savings'] = survey[energy_saving].apply(saving_energy, axis=1)\n",
    "survey.head()"
   ]
  },
  {
   "cell_type": "code",
   "execution_count": 50,
   "metadata": {},
   "outputs": [
    {
     "data": {
      "text/plain": [
       "array([[<matplotlib.axes._subplots.AxesSubplot object at 0x000001439AF542B0>]],\n",
       "      dtype=object)"
      ]
     },
     "execution_count": 50,
     "metadata": {},
     "output_type": "execute_result"
    },
    {
     "data": {
      "image/png": "[encoded data removed]",
      "text/plain": [
       "<Figure size 432x288 with 1 Axes>"
      ]
     },
     "metadata": {
      "needs_background": "light"
     },
     "output_type": "display_data"
    }
   ],
   "source": [
    "survey.hist(column=\"energy_savings\")"
   ]
  },
  {
   "cell_type": "markdown",
   "metadata": {},
   "source": [
    "# Energy Development"
   ]
  },
  {
   "cell_type": "code",
   "execution_count": 51,
   "metadata": {},
   "outputs": [
    {
     "data": {
      "text/html": [
       "<div>\n",
       "<style scoped>\n",
       "    .dataframe tbody tr th:only-of-type {\n",
       "        vertical-align: middle;\n",
       "    }\n",
       "\n",
       "    .dataframe tbody tr th {\n",
       "        vertical-align: top;\n",
       "    }\n",
       "\n",
       "    .dataframe thead th {\n",
       "        text-align: right;\n",
       "    }\n",
       "</style>\n",
       "<table border=\"1\" class=\"dataframe\">\n",
       "  <thead>\n",
       "    <tr style=\"text-align: right;\">\n",
       "      <th></th>\n",
       "      <th>dataid</th>\n",
       "      <th>status</th>\n",
       "      <th>foundation_pier_beam</th>\n",
       "      <th>foundation_slab</th>\n",
       "      <th>spend_time_at_home_none</th>\n",
       "      <th>spend_time_at_home_monday</th>\n",
       "      <th>spend_time_at_home_tuesday</th>\n",
       "      <th>spend_time_at_home_wednesday</th>\n",
       "      <th>spend_time_at_home_thursday</th>\n",
       "      <th>spend_time_at_home_friday</th>\n",
       "      <th>...</th>\n",
       "      <th>energy_savings</th>\n",
       "      <th>oil</th>\n",
       "      <th>coal</th>\n",
       "      <th>wind</th>\n",
       "      <th>natural_gas</th>\n",
       "      <th>natural_gas_shale</th>\n",
       "      <th>nuclear</th>\n",
       "      <th>solar</th>\n",
       "      <th>hydropower</th>\n",
       "      <th>bioenergy</th>\n",
       "    </tr>\n",
       "  </thead>\n",
       "  <tbody>\n",
       "    <tr>\n",
       "      <th>0</th>\n",
       "      <td>﻿18</td>\n",
       "      <td>Complete</td>\n",
       "      <td>NaN</td>\n",
       "      <td>Slab</td>\n",
       "      <td>NaN</td>\n",
       "      <td>Monday</td>\n",
       "      <td>NaN</td>\n",
       "      <td>NaN</td>\n",
       "      <td>NaN</td>\n",
       "      <td>Friday</td>\n",
       "      <td>...</td>\n",
       "      <td>1</td>\n",
       "      <td>1.0</td>\n",
       "      <td>1.0</td>\n",
       "      <td>1.0</td>\n",
       "      <td>NaN</td>\n",
       "      <td>NaN</td>\n",
       "      <td>-1.0</td>\n",
       "      <td>NaN</td>\n",
       "      <td>NaN</td>\n",
       "      <td>NaN</td>\n",
       "    </tr>\n",
       "    <tr>\n",
       "      <th>1</th>\n",
       "      <td>26</td>\n",
       "      <td>Complete</td>\n",
       "      <td>NaN</td>\n",
       "      <td>Slab</td>\n",
       "      <td>none</td>\n",
       "      <td>NaN</td>\n",
       "      <td>NaN</td>\n",
       "      <td>NaN</td>\n",
       "      <td>NaN</td>\n",
       "      <td>NaN</td>\n",
       "      <td>...</td>\n",
       "      <td>3</td>\n",
       "      <td>1.0</td>\n",
       "      <td>1.0</td>\n",
       "      <td>1.0</td>\n",
       "      <td>-1.0</td>\n",
       "      <td>-1.0</td>\n",
       "      <td>-1.0</td>\n",
       "      <td>1.0</td>\n",
       "      <td>1.0</td>\n",
       "      <td>1.0</td>\n",
       "    </tr>\n",
       "    <tr>\n",
       "      <th>2</th>\n",
       "      <td>43</td>\n",
       "      <td>Complete</td>\n",
       "      <td>NaN</td>\n",
       "      <td>Slab</td>\n",
       "      <td>NaN</td>\n",
       "      <td>Monday</td>\n",
       "      <td>Tuesday</td>\n",
       "      <td>Wednesday</td>\n",
       "      <td>Thursday</td>\n",
       "      <td>Friday</td>\n",
       "      <td>...</td>\n",
       "      <td>4</td>\n",
       "      <td>1.0</td>\n",
       "      <td>NaN</td>\n",
       "      <td>1.0</td>\n",
       "      <td>-1.0</td>\n",
       "      <td>-1.0</td>\n",
       "      <td>-1.0</td>\n",
       "      <td>1.0</td>\n",
       "      <td>1.0</td>\n",
       "      <td>-1.0</td>\n",
       "    </tr>\n",
       "    <tr>\n",
       "      <th>3</th>\n",
       "      <td>50</td>\n",
       "      <td>Complete</td>\n",
       "      <td>NaN</td>\n",
       "      <td>Slab</td>\n",
       "      <td>NaN</td>\n",
       "      <td>Monday</td>\n",
       "      <td>Tuesday</td>\n",
       "      <td>Wednesday</td>\n",
       "      <td>Thursday</td>\n",
       "      <td>Friday</td>\n",
       "      <td>...</td>\n",
       "      <td>6</td>\n",
       "      <td>-1.0</td>\n",
       "      <td>0.0</td>\n",
       "      <td>1.0</td>\n",
       "      <td>1.0</td>\n",
       "      <td>1.0</td>\n",
       "      <td>0.0</td>\n",
       "      <td>1.0</td>\n",
       "      <td>1.0</td>\n",
       "      <td>0.0</td>\n",
       "    </tr>\n",
       "    <tr>\n",
       "      <th>4</th>\n",
       "      <td>125</td>\n",
       "      <td>Complete</td>\n",
       "      <td>NaN</td>\n",
       "      <td>Slab</td>\n",
       "      <td>NaN</td>\n",
       "      <td>Monday</td>\n",
       "      <td>Tuesday</td>\n",
       "      <td>Wednesday</td>\n",
       "      <td>Thursday</td>\n",
       "      <td>Friday</td>\n",
       "      <td>...</td>\n",
       "      <td>9</td>\n",
       "      <td>-1.0</td>\n",
       "      <td>-1.0</td>\n",
       "      <td>0.0</td>\n",
       "      <td>1.0</td>\n",
       "      <td>1.0</td>\n",
       "      <td>1.0</td>\n",
       "      <td>1.0</td>\n",
       "      <td>1.0</td>\n",
       "      <td>0.0</td>\n",
       "    </tr>\n",
       "  </tbody>\n",
       "</table>\n",
       "<p>5 rows × 204 columns</p>\n",
       "</div>"
      ],
      "text/plain": [
       "  dataid    status foundation_pier_beam foundation_slab  \\\n",
       "0    ﻿18  Complete                  NaN            Slab   \n",
       "1     26  Complete                  NaN            Slab   \n",
       "2     43  Complete                  NaN            Slab   \n",
       "3     50  Complete                  NaN            Slab   \n",
       "4    125  Complete                  NaN            Slab   \n",
       "\n",
       "  spend_time_at_home_none spend_time_at_home_monday  \\\n",
       "0                     NaN                    Monday   \n",
       "1                    none                       NaN   \n",
       "2                     NaN                    Monday   \n",
       "3                     NaN                    Monday   \n",
       "4                     NaN                    Monday   \n",
       "\n",
       "  spend_time_at_home_tuesday spend_time_at_home_wednesday  \\\n",
       "0                        NaN                          NaN   \n",
       "1                        NaN                          NaN   \n",
       "2                    Tuesday                    Wednesday   \n",
       "3                    Tuesday                    Wednesday   \n",
       "4                    Tuesday                    Wednesday   \n",
       "\n",
       "  spend_time_at_home_thursday spend_time_at_home_friday  ... energy_savings  \\\n",
       "0                         NaN                    Friday  ...              1   \n",
       "1                         NaN                       NaN  ...              3   \n",
       "2                    Thursday                    Friday  ...              4   \n",
       "3                    Thursday                    Friday  ...              6   \n",
       "4                    Thursday                    Friday  ...              9   \n",
       "\n",
       "   oil coal wind natural_gas natural_gas_shale nuclear  solar  hydropower  \\\n",
       "0  1.0  1.0  1.0         NaN               NaN    -1.0    NaN         NaN   \n",
       "1  1.0  1.0  1.0        -1.0              -1.0    -1.0    1.0         1.0   \n",
       "2  1.0  NaN  1.0        -1.0              -1.0    -1.0    1.0         1.0   \n",
       "3 -1.0  0.0  1.0         1.0               1.0     0.0    1.0         1.0   \n",
       "4 -1.0 -1.0  0.0         1.0               1.0     1.0    1.0         1.0   \n",
       "\n",
       "   bioenergy  \n",
       "0        NaN  \n",
       "1        1.0  \n",
       "2       -1.0  \n",
       "3        0.0  \n",
       "4        0.0  \n",
       "\n",
       "[5 rows x 204 columns]"
      ]
     },
     "execution_count": 51,
     "metadata": {},
     "output_type": "execute_result"
    }
   ],
   "source": [
    "#energy sources\n",
    "\n",
    "#divide enrgy sources into clean and not clean based on eia.gov explnatnion of renewable energy\n",
    "\n",
    "#clean: wind, natural gas, natural_gas_shale, nuclear, solar, hydropower, bioenergy\n",
    "#notsoclean: oil, coal\n",
    "\n",
    "#if support renewable get 1, if netural get 0, if opposed get -1\n",
    "#if supoprt nonrenwable get -1, if netural get 0, if opposed get 1\n",
    "\n",
    "survey[\"oil\"] = survey[\"energy_development_oil\"].map({'Slightly support':-1, 'Strongly support':-1, 'Neither':0, 'Slightly oppose':1, 'Strongly oppose':1})\n",
    "survey[\"coal\"] = survey[\"energy_development_coal\"].map({'Slightly support':-1, 'Strongly support':-1, 'Neither':0, 'Slightly oppose':1, 'Strongly oppose':1})\n",
    "\n",
    "survey[\"wind\"] = survey[\"energy_development_wind\"].map({'Slightly support':1, 'Strongly support':1, 'Neither':0, 'Slightly oppose':-1, 'Strongly oppose':-1})\n",
    "survey[\"natural_gas\"] = survey[\"energy_development_natural_gas\"].map({'Slightly support':1, 'Strongly support':1, 'Neither':0, 'Slightly oppose':-1, 'Strongly oppose':-1})\n",
    "survey[\"natural_gas_shale\"] = survey[\"energy_development_natural_gas_shale\"].map({'Slightly support':1, 'Strongly support':1, 'Neither':0, 'Slightly oppose':-1, 'Strongly oppose':-1})\n",
    "survey[\"nuclear\"] = survey[\"energy_development_nuclear\"].map({'Slightly support':1, 'Strongly support':1, 'Neither':0, 'Slightly oppose':-1, 'Strongly oppose':-1})\n",
    "survey[\"solar\"] = survey[\"energy_development_solar\"].map({'Slightly support':1, 'Strongly support':1, 'Neither':0, 'Slightly oppose':-1, 'Strongly oppose':-1})\n",
    "survey[\"hydropower\"] = survey[\"energy_development_hydropower\"].map({'Slightly support':1, 'Strongly support':1, 'Neither':0, 'Slightly oppose':-1, 'Strongly oppose':-1})\n",
    "survey[\"bioenergy\"] = survey[\"energy_development_bioenergy\"].map({'Slightly support':1, 'Strongly support':1, 'Neither':0, 'Slightly oppose':-1, 'Strongly oppose':-1})\n",
    "\n",
    "survey.head()"
   ]
  },
  {
   "cell_type": "code",
   "execution_count": 52,
   "metadata": {},
   "outputs": [
    {
     "data": {
      "text/plain": [
       "Index(['oil', 'coal', 'wind', 'natural_gas', 'natural_gas_shale', 'nuclear',\n",
       "       'solar', 'hydropower', 'bioenergy'],\n",
       "      dtype='object')"
      ]
     },
     "execution_count": 52,
     "metadata": {},
     "output_type": "execute_result"
    }
   ],
   "source": [
    "#look at energy development\n",
    "developing_energy = survey.columns[195:204]\n",
    "developing_energy"
   ]
  },
  {
   "cell_type": "code",
   "execution_count": 53,
   "metadata": {},
   "outputs": [
    {
     "data": {
      "text/html": [
       "<div>\n",
       "<style scoped>\n",
       "    .dataframe tbody tr th:only-of-type {\n",
       "        vertical-align: middle;\n",
       "    }\n",
       "\n",
       "    .dataframe tbody tr th {\n",
       "        vertical-align: top;\n",
       "    }\n",
       "\n",
       "    .dataframe thead th {\n",
       "        text-align: right;\n",
       "    }\n",
       "</style>\n",
       "<table border=\"1\" class=\"dataframe\">\n",
       "  <thead>\n",
       "    <tr style=\"text-align: right;\">\n",
       "      <th></th>\n",
       "      <th>dataid</th>\n",
       "      <th>status</th>\n",
       "      <th>foundation_pier_beam</th>\n",
       "      <th>foundation_slab</th>\n",
       "      <th>spend_time_at_home_none</th>\n",
       "      <th>spend_time_at_home_monday</th>\n",
       "      <th>spend_time_at_home_tuesday</th>\n",
       "      <th>spend_time_at_home_wednesday</th>\n",
       "      <th>spend_time_at_home_thursday</th>\n",
       "      <th>spend_time_at_home_friday</th>\n",
       "      <th>...</th>\n",
       "      <th>oil</th>\n",
       "      <th>coal</th>\n",
       "      <th>wind</th>\n",
       "      <th>natural_gas</th>\n",
       "      <th>natural_gas_shale</th>\n",
       "      <th>nuclear</th>\n",
       "      <th>solar</th>\n",
       "      <th>hydropower</th>\n",
       "      <th>bioenergy</th>\n",
       "      <th>development</th>\n",
       "    </tr>\n",
       "  </thead>\n",
       "  <tbody>\n",
       "    <tr>\n",
       "      <th>0</th>\n",
       "      <td>﻿18</td>\n",
       "      <td>Complete</td>\n",
       "      <td>NaN</td>\n",
       "      <td>Slab</td>\n",
       "      <td>NaN</td>\n",
       "      <td>Monday</td>\n",
       "      <td>NaN</td>\n",
       "      <td>NaN</td>\n",
       "      <td>NaN</td>\n",
       "      <td>Friday</td>\n",
       "      <td>...</td>\n",
       "      <td>1.0</td>\n",
       "      <td>1.0</td>\n",
       "      <td>1.0</td>\n",
       "      <td>NaN</td>\n",
       "      <td>NaN</td>\n",
       "      <td>-1.0</td>\n",
       "      <td>NaN</td>\n",
       "      <td>NaN</td>\n",
       "      <td>NaN</td>\n",
       "      <td>2.0</td>\n",
       "    </tr>\n",
       "    <tr>\n",
       "      <th>1</th>\n",
       "      <td>26</td>\n",
       "      <td>Complete</td>\n",
       "      <td>NaN</td>\n",
       "      <td>Slab</td>\n",
       "      <td>none</td>\n",
       "      <td>NaN</td>\n",
       "      <td>NaN</td>\n",
       "      <td>NaN</td>\n",
       "      <td>NaN</td>\n",
       "      <td>NaN</td>\n",
       "      <td>...</td>\n",
       "      <td>1.0</td>\n",
       "      <td>1.0</td>\n",
       "      <td>1.0</td>\n",
       "      <td>-1.0</td>\n",
       "      <td>-1.0</td>\n",
       "      <td>-1.0</td>\n",
       "      <td>1.0</td>\n",
       "      <td>1.0</td>\n",
       "      <td>1.0</td>\n",
       "      <td>3.0</td>\n",
       "    </tr>\n",
       "    <tr>\n",
       "      <th>2</th>\n",
       "      <td>43</td>\n",
       "      <td>Complete</td>\n",
       "      <td>NaN</td>\n",
       "      <td>Slab</td>\n",
       "      <td>NaN</td>\n",
       "      <td>Monday</td>\n",
       "      <td>Tuesday</td>\n",
       "      <td>Wednesday</td>\n",
       "      <td>Thursday</td>\n",
       "      <td>Friday</td>\n",
       "      <td>...</td>\n",
       "      <td>1.0</td>\n",
       "      <td>NaN</td>\n",
       "      <td>1.0</td>\n",
       "      <td>-1.0</td>\n",
       "      <td>-1.0</td>\n",
       "      <td>-1.0</td>\n",
       "      <td>1.0</td>\n",
       "      <td>1.0</td>\n",
       "      <td>-1.0</td>\n",
       "      <td>0.0</td>\n",
       "    </tr>\n",
       "    <tr>\n",
       "      <th>3</th>\n",
       "      <td>50</td>\n",
       "      <td>Complete</td>\n",
       "      <td>NaN</td>\n",
       "      <td>Slab</td>\n",
       "      <td>NaN</td>\n",
       "      <td>Monday</td>\n",
       "      <td>Tuesday</td>\n",
       "      <td>Wednesday</td>\n",
       "      <td>Thursday</td>\n",
       "      <td>Friday</td>\n",
       "      <td>...</td>\n",
       "      <td>-1.0</td>\n",
       "      <td>0.0</td>\n",
       "      <td>1.0</td>\n",
       "      <td>1.0</td>\n",
       "      <td>1.0</td>\n",
       "      <td>0.0</td>\n",
       "      <td>1.0</td>\n",
       "      <td>1.0</td>\n",
       "      <td>0.0</td>\n",
       "      <td>4.0</td>\n",
       "    </tr>\n",
       "    <tr>\n",
       "      <th>4</th>\n",
       "      <td>125</td>\n",
       "      <td>Complete</td>\n",
       "      <td>NaN</td>\n",
       "      <td>Slab</td>\n",
       "      <td>NaN</td>\n",
       "      <td>Monday</td>\n",
       "      <td>Tuesday</td>\n",
       "      <td>Wednesday</td>\n",
       "      <td>Thursday</td>\n",
       "      <td>Friday</td>\n",
       "      <td>...</td>\n",
       "      <td>-1.0</td>\n",
       "      <td>-1.0</td>\n",
       "      <td>0.0</td>\n",
       "      <td>1.0</td>\n",
       "      <td>1.0</td>\n",
       "      <td>1.0</td>\n",
       "      <td>1.0</td>\n",
       "      <td>1.0</td>\n",
       "      <td>0.0</td>\n",
       "      <td>3.0</td>\n",
       "    </tr>\n",
       "  </tbody>\n",
       "</table>\n",
       "<p>5 rows × 205 columns</p>\n",
       "</div>"
      ],
      "text/plain": [
       "  dataid    status foundation_pier_beam foundation_slab  \\\n",
       "0    ﻿18  Complete                  NaN            Slab   \n",
       "1     26  Complete                  NaN            Slab   \n",
       "2     43  Complete                  NaN            Slab   \n",
       "3     50  Complete                  NaN            Slab   \n",
       "4    125  Complete                  NaN            Slab   \n",
       "\n",
       "  spend_time_at_home_none spend_time_at_home_monday  \\\n",
       "0                     NaN                    Monday   \n",
       "1                    none                       NaN   \n",
       "2                     NaN                    Monday   \n",
       "3                     NaN                    Monday   \n",
       "4                     NaN                    Monday   \n",
       "\n",
       "  spend_time_at_home_tuesday spend_time_at_home_wednesday  \\\n",
       "0                        NaN                          NaN   \n",
       "1                        NaN                          NaN   \n",
       "2                    Tuesday                    Wednesday   \n",
       "3                    Tuesday                    Wednesday   \n",
       "4                    Tuesday                    Wednesday   \n",
       "\n",
       "  spend_time_at_home_thursday spend_time_at_home_friday  ...  oil coal wind  \\\n",
       "0                         NaN                    Friday  ...  1.0  1.0  1.0   \n",
       "1                         NaN                       NaN  ...  1.0  1.0  1.0   \n",
       "2                    Thursday                    Friday  ...  1.0  NaN  1.0   \n",
       "3                    Thursday                    Friday  ... -1.0  0.0  1.0   \n",
       "4                    Thursday                    Friday  ... -1.0 -1.0  0.0   \n",
       "\n",
       "  natural_gas natural_gas_shale nuclear solar  hydropower  bioenergy  \\\n",
       "0         NaN               NaN    -1.0   NaN         NaN        NaN   \n",
       "1        -1.0              -1.0    -1.0   1.0         1.0        1.0   \n",
       "2        -1.0              -1.0    -1.0   1.0         1.0       -1.0   \n",
       "3         1.0               1.0     0.0   1.0         1.0        0.0   \n",
       "4         1.0               1.0     1.0   1.0         1.0        0.0   \n",
       "\n",
       "   development  \n",
       "0          2.0  \n",
       "1          3.0  \n",
       "2          0.0  \n",
       "3          4.0  \n",
       "4          3.0  \n",
       "\n",
       "[5 rows x 205 columns]"
      ]
     },
     "execution_count": 53,
     "metadata": {},
     "output_type": "execute_result"
    }
   ],
   "source": [
    "#sum the energy development \n",
    "\n",
    "survey[\"development\"] = survey[survey.columns[195:204]].sum(axis=1)\n",
    "survey.head()"
   ]
  },
  {
   "cell_type": "code",
   "execution_count": 54,
   "metadata": {},
   "outputs": [
    {
     "data": {
      "text/plain": [
       "array([[<matplotlib.axes._subplots.AxesSubplot object at 0x000001439ACCA710>]],\n",
       "      dtype=object)"
      ]
     },
     "execution_count": 54,
     "metadata": {},
     "output_type": "execute_result"
    },
    {
     "data": {
      "image/png": "[encoded data removed]",
      "text/plain": [
       "<Figure size 432x288 with 1 Axes>"
      ]
     },
     "metadata": {
      "needs_background": "light"
     },
     "output_type": "display_data"
    }
   ],
   "source": [
    "survey.hist(column=\"development\")"
   ]
  },
  {
   "cell_type": "markdown",
   "metadata": {},
   "source": [
    "# knows how to reduce energy"
   ]
  },
  {
   "cell_type": "code",
   "execution_count": 55,
   "metadata": {},
   "outputs": [
    {
     "name": "stdout",
     "output_type": "stream",
     "text": [
      "Slightly agree       108\n",
      "Strongly agree        72\n",
      "Neither               27\n",
      "Slightly disagree     26\n",
      "Strongly disagree      2\n",
      "Name: know_steps_reduce_energy_consumption, dtype: int64\n"
     ]
    },
    {
     "data": {
      "text/plain": [
       "<matplotlib.axes._subplots.AxesSubplot at 0x1439ad7cf28>"
      ]
     },
     "execution_count": 55,
     "metadata": {},
     "output_type": "execute_result"
    },
    {
     "data": {
      "image/png": "[encoded data removed]",
      "text/plain": [
       "<Figure size 432x288 with 1 Axes>"
      ]
     },
     "metadata": {},
     "output_type": "display_data"
    }
   ],
   "source": [
    "#responsibility\n",
    "knowledge = survey['know_steps_reduce_energy_consumption'].value_counts()\n",
    "\n",
    "print(knowledge)\n",
    "\n",
    "knowledge.plot(kind=\"pie\")"
   ]
  },
  {
   "cell_type": "markdown",
   "metadata": {},
   "source": [
    "# individual responsible for energy reduction"
   ]
  },
  {
   "cell_type": "code",
   "execution_count": 56,
   "metadata": {},
   "outputs": [
    {
     "name": "stdout",
     "output_type": "stream",
     "text": [
      "Slightly agree       87\n",
      "Strongly agree       53\n",
      "Slightly disagree    43\n",
      "Neither              36\n",
      "Strongly disagree    15\n",
      "Name: individual_responsible_energy_reduce, dtype: int64\n"
     ]
    },
    {
     "data": {
      "text/plain": [
       "<matplotlib.axes._subplots.AxesSubplot at 0x1439ad4eb70>"
      ]
     },
     "execution_count": 56,
     "metadata": {},
     "output_type": "execute_result"
    },
    {
     "data": {
      "image/png": "[encoded data removed]",
      "text/plain": [
       "<Figure size 432x288 with 1 Axes>"
      ]
     },
     "metadata": {},
     "output_type": "display_data"
    }
   ],
   "source": [
    "#responsibility\n",
    "responsible = survey['individual_responsible_energy_reduce'].value_counts()\n",
    "\n",
    "print(responsible)\n",
    "\n",
    "responsible.plot(kind=\"pie\")"
   ]
  },
  {
   "cell_type": "code",
   "execution_count": 57,
   "metadata": {},
   "outputs": [],
   "source": [
    "#recode indidivudal reponse for energy reduction\n",
    "\n",
    "survey[\"energy_reduce\"] = survey[\"individual_responsible_energy_reduce\"].map({'Slightly disagree':-1, 'Strongly disagree':-1, 'Neither':0, 'Slightly agree':1, 'Strongly agree':1})\n"
   ]
  },
  {
   "cell_type": "markdown",
   "metadata": {},
   "source": [
    "# Let's compare EV and non EV homes"
   ]
  },
  {
   "cell_type": "code",
   "execution_count": 58,
   "metadata": {},
   "outputs": [],
   "source": [
    "\n",
    "#plot EV with other features to see how they relate\n",
    "groupbyEV =survey.groupby('any_electric_vehicle')"
   ]
  },
  {
   "cell_type": "code",
   "execution_count": 59,
   "metadata": {},
   "outputs": [
    {
     "data": {
      "text/plain": [
       "Text(0.5, 1.0, 'temperatureUser')"
      ]
     },
     "execution_count": 59,
     "metadata": {},
     "output_type": "execute_result"
    },
    {
     "data": {
      "image/png": "[encoded data removed]",
      "text/plain": [
       "<Figure size 864x720 with 7 Axes>"
      ]
     },
     "metadata": {
      "needs_background": "light"
     },
     "output_type": "display_data"
    }
   ],
   "source": [
    "#replot the historgram but with showing off EV and not EV\n",
    "fig, axes = plt.subplots(nrows=1, ncols=7, figsize=(12,10))\n",
    "for axis, col in zip(axes, ['devices_have', 'at_home', 'total_residents', 'energy_updates', 'energy_savings', 'development', 'temperatureUser']):\n",
    "    groupbyEV[col].hist(ax=axis)\n",
    "#plt.legend()\n",
    "plt.title(col)"
   ]
  },
  {
   "cell_type": "code",
   "execution_count": 60,
   "metadata": {},
   "outputs": [
    {
     "name": "stdout",
     "output_type": "stream",
     "text": [
      "                       any_electric_vehicle  dataid\n",
      "total_annual_income                                \n",
      "$10,000 - $19,999                       1.0       1\n",
      "$100,000 - $149,999                     0.0      57\n",
      "$100,000 - $149,999                     1.0      18\n",
      "$150,000 - $299,000                     0.0      47\n",
      "$150,000 - $299,000                     1.0      16\n",
      "$20,000 - $34,999                       0.0       5\n",
      "$300,000 - $1,000,000                   0.0      13\n",
      "$300,000 - $1,000,000                   1.0       6\n",
      "$35,000 - $49,999                       0.0       4\n",
      "$50,000 - $74,999                       0.0      19\n",
      "$50,000 - $74,999                       1.0       3\n",
      "$75,000 - $99,999                       0.0      20\n",
      "$75,000 - $99,999                       1.0       7\n",
      "Less than $10,000                       0.0       1\n"
     ]
    },
    {
     "data": {
      "text/plain": [
       "<matplotlib.axes._subplots.AxesSubplot at 0x1439b2854a8>"
      ]
     },
     "execution_count": 60,
     "metadata": {},
     "output_type": "execute_result"
    },
    {
     "data": {
      "image/png": "[encoded data removed]",
      "text/plain": [
       "<Figure size 432x288 with 1 Axes>"
      ]
     },
     "metadata": {
      "needs_background": "light"
     },
     "output_type": "display_data"
    }
   ],
   "source": [
    "#look at income by Ev versus not EV\n",
    "\n",
    "incomegrouped = survey.groupby([\"total_annual_income\", \"any_electric_vehicle\"]).dataid.count()\n",
    "incomegrouped = pd.DataFrame(incomegrouped).reset_index()\n",
    "incomegrouped['sortindex'] = incomegrouped[\"total_annual_income\"].apply(indexsort)\n",
    "incomegrouped = incomegrouped.sort_values(by=[\"sortindex\"])\n",
    "incomegrouped = incomegrouped.drop(['sortindex'], axis=1)\n",
    "incomegrouped = incomegrouped.sort_values(by=[\"total_annual_income\"])\n",
    "incomegrouped = incomegrouped.set_index(\"total_annual_income\")\n",
    "print(incomegrouped)\n",
    "\n",
    "pivot = incomegrouped.pivot(columns='any_electric_vehicle', values='dataid')\n",
    "\n",
    "pivot = pivot.reindex(incomegrouped.index)\n",
    "pivot = pivot.drop_duplicates()\n",
    "pivot\n",
    "\n",
    "\n",
    "pivot.plot(kind=\"bar\", stacked=True)\n"
   ]
  },
  {
   "cell_type": "code",
   "execution_count": 61,
   "metadata": {},
   "outputs": [
    {
     "name": "stdout",
     "output_type": "stream",
     "text": [
      "                                      any_electric_vehicle  dataid\n",
      "education_level                                                   \n",
      "College graduate                                       0.0      62\n",
      "College graduate                                       1.0      16\n",
      "High School graduate                                   0.0       1\n",
      "Postgraduate degree                                    0.0     115\n",
      "Postgraduate degree                                    1.0      39\n",
      "Some college/trade/vocational school                   0.0       2\n",
      "Some college/trade/vocational school                   1.0       1\n"
     ]
    },
    {
     "data": {
      "text/plain": [
       "<matplotlib.axes._subplots.AxesSubplot at 0x1439b416d68>"
      ]
     },
     "execution_count": 61,
     "metadata": {},
     "output_type": "execute_result"
    },
    {
     "data": {
      "image/png": "[encoded data removed]",
      "text/plain": [
       "<Figure size 432x288 with 1 Axes>"
      ]
     },
     "metadata": {
      "needs_background": "light"
     },
     "output_type": "display_data"
    }
   ],
   "source": [
    "#look at education level by Ev versus not EV\n",
    "\n",
    "edugrouped = survey.groupby([\"education_level\", \"any_electric_vehicle\"]).dataid.count()\n",
    "edugrouped = pd.DataFrame(edugrouped).reset_index()\n",
    "\n",
    "\n",
    "edugrouped = edugrouped.sort_values(by=[\"education_level\"])\n",
    "edugrouped = edugrouped.set_index(\"education_level\")\n",
    "print(edugrouped)\n",
    "\n",
    "pivotedu = edugrouped.pivot(columns='any_electric_vehicle', values='dataid')\n",
    "\n",
    "pivotedu = pivotedu.reindex(edugrouped.index)\n",
    "pivotedu = pivotedu.drop_duplicates()\n",
    "pivotedu\n",
    "\n",
    "\n",
    "pivotedu.plot(kind=\"bar\", stacked=True)\n"
   ]
  },
  {
   "cell_type": "code",
   "execution_count": 62,
   "metadata": {},
   "outputs": [
    {
     "name": "stdout",
     "output_type": "stream",
     "text": [
      "               any_electric_vehicle  dataid\n",
      "pv_system_own                              \n",
      "No                              0.0     115\n",
      "No                              1.0      14\n",
      "Yes                             0.0      65\n",
      "Yes                             1.0      42\n"
     ]
    },
    {
     "data": {
      "text/plain": [
       "<matplotlib.axes._subplots.AxesSubplot at 0x1439b6464e0>"
      ]
     },
     "execution_count": 62,
     "metadata": {},
     "output_type": "execute_result"
    },
    {
     "data": {
      "image/png": "[encoded data removed]",
      "text/plain": [
       "<Figure size 432x288 with 1 Axes>"
      ]
     },
     "metadata": {
      "needs_background": "light"
     },
     "output_type": "display_data"
    }
   ],
   "source": [
    "#look at pv system  by Ev versus not EV\n",
    "\n",
    "pvgrouped = survey.groupby([\"pv_system_own\", \"any_electric_vehicle\"]).dataid.count()\n",
    "pvgrouped = pd.DataFrame(pvgrouped).reset_index()\n",
    "\n",
    "\n",
    "pvgrouped = pvgrouped.sort_values(by=[\"pv_system_own\"])\n",
    "pvgrouped = pvgrouped.set_index(\"pv_system_own\")\n",
    "print(pvgrouped)\n",
    "\n",
    "pivotpv = pvgrouped.pivot(columns='any_electric_vehicle', values='dataid')\n",
    "\n",
    "pivotpv = pivotpv.reindex(pvgrouped.index)\n",
    "pivotpv = pivotpv.drop_duplicates()\n",
    "pivotpv\n",
    "\n",
    "\n",
    "pivotpv.plot(kind=\"bar\", stacked=True)\n"
   ]
  },
  {
   "cell_type": "code",
   "execution_count": 63,
   "metadata": {},
   "outputs": [
    {
     "name": "stdout",
     "output_type": "stream",
     "text": [
      "                       any_electric_vehicle  dataid\n",
      "pv_system_satisfied                                \n",
      "Neutral                                 0.0       1\n",
      "Somewhat dissatisfied                   0.0       1\n",
      "Somewhat satisfied                      0.0      14\n",
      "Somewhat satisfied                      1.0      12\n",
      "Very                                    0.0      49\n",
      "Very                                    1.0      30\n"
     ]
    },
    {
     "data": {
      "text/plain": [
       "<matplotlib.axes._subplots.AxesSubplot at 0x1439b6b47b8>"
      ]
     },
     "execution_count": 63,
     "metadata": {},
     "output_type": "execute_result"
    },
    {
     "data": {
      "image/png": "[encoded data removed]",
      "text/plain": [
       "<Figure size 432x288 with 1 Axes>"
      ]
     },
     "metadata": {
      "needs_background": "light"
     },
     "output_type": "display_data"
    }
   ],
   "source": [
    "#look at pv system satisfaction by Ev versus not EV\n",
    "\n",
    "pvsgrouped = survey.groupby([\"pv_system_satisfied\", \"any_electric_vehicle\"]).dataid.count()\n",
    "pvsgrouped = pd.DataFrame(pvsgrouped).reset_index()\n",
    "\n",
    "\n",
    "pvsgrouped = pvsgrouped.sort_values(by=[\"pv_system_satisfied\"])\n",
    "pvsgrouped = pvsgrouped.set_index(\"pv_system_satisfied\")\n",
    "print(pvsgrouped)\n",
    "\n",
    "pivotpvs = pvsgrouped.pivot(columns='any_electric_vehicle', values='dataid')\n",
    "\n",
    "pivotpvs = pivotpvs.reindex(pvsgrouped.index)\n",
    "pivotpvs = pivotpvs.drop_duplicates()\n",
    "pivotpvs\n",
    "\n",
    "\n",
    "pivotpvs.plot(kind=\"bar\", stacked=True)\n"
   ]
  },
  {
   "cell_type": "code",
   "execution_count": 64,
   "metadata": {},
   "outputs": [
    {
     "name": "stdout",
     "output_type": "stream",
     "text": [
      "                           any_electric_vehicle  dataid\n",
      "vehicle_chargn_work_avail                              \n",
      "I work from home                            0.0      32\n",
      "I work from home                            1.0      18\n",
      "No                                          0.0     100\n",
      "No                                          1.0      24\n",
      "Yes                                         0.0      38\n",
      "Yes                                         1.0      13\n"
     ]
    },
    {
     "data": {
      "text/plain": [
       "<matplotlib.axes._subplots.AxesSubplot at 0x1439b71c9b0>"
      ]
     },
     "execution_count": 64,
     "metadata": {},
     "output_type": "execute_result"
    },
    {
     "data": {
      "image/png": "[encoded data removed]",
      "text/plain": [
       "<Figure size 432x288 with 1 Axes>"
      ]
     },
     "metadata": {
      "needs_background": "light"
     },
     "output_type": "display_data"
    }
   ],
   "source": [
    "#look at ev charge work avaialble  by Ev versus not EV\n",
    "\n",
    "evworkgrouped = survey.groupby([\"vehicle_chargn_work_avail\", \"any_electric_vehicle\"]).dataid.count()\n",
    "evworkgrouped = pd.DataFrame(evworkgrouped).reset_index()\n",
    "\n",
    "\n",
    "evworkgrouped = evworkgrouped.sort_values(by=[\"vehicle_chargn_work_avail\"])\n",
    "evworkgrouped = evworkgrouped.set_index(\"vehicle_chargn_work_avail\")\n",
    "print(evworkgrouped)\n",
    "\n",
    "pivotevwork = evworkgrouped.pivot(columns='any_electric_vehicle', values='dataid')\n",
    "\n",
    "pivotevwork = pivotevwork.reindex(evworkgrouped.index)\n",
    "pivotevwork = pivotevwork.drop_duplicates()\n",
    "pivotevwork\n",
    "\n",
    "\n",
    "pivotevwork.plot(kind=\"bar\", stacked=True)\n"
   ]
  },
  {
   "cell_type": "code",
   "execution_count": 65,
   "metadata": {},
   "outputs": [
    {
     "name": "stdout",
     "output_type": "stream",
     "text": [
      "                                      any_electric_vehicle  dataid\n",
      "know_steps_reduce_energy_consumption                              \n",
      "Neither                                                0.0      22\n",
      "Neither                                                1.0       5\n",
      "Slightly agree                                         0.0      79\n",
      "Slightly agree                                         1.0      27\n",
      "Slightly disagree                                      0.0      22\n",
      "Slightly disagree                                      1.0       4\n",
      "Strongly agree                                         0.0      52\n",
      "Strongly agree                                         1.0      19\n",
      "Strongly disagree                                      0.0       2\n"
     ]
    },
    {
     "data": {
      "text/plain": [
       "<matplotlib.axes._subplots.AxesSubplot at 0x1439ca86320>"
      ]
     },
     "execution_count": 65,
     "metadata": {},
     "output_type": "execute_result"
    },
    {
     "data": {
      "image/png": "[encoded data removed]",
      "text/plain": [
       "<Figure size 432x288 with 1 Axes>"
      ]
     },
     "metadata": {
      "needs_background": "light"
     },
     "output_type": "display_data"
    }
   ],
   "source": [
    "#look at knows steps reduce energy by Ev versus not EV\n",
    "\n",
    "reducegrouped = survey.groupby([\"know_steps_reduce_energy_consumption\", \"any_electric_vehicle\"]).dataid.count()\n",
    "reducegrouped = pd.DataFrame(reducegrouped).reset_index()\n",
    "\n",
    "reducegrouped = reducegrouped.sort_values(by=[\"know_steps_reduce_energy_consumption\"])\n",
    "reducegrouped = reducegrouped.set_index(\"know_steps_reduce_energy_consumption\")\n",
    "print(reducegrouped)\n",
    "\n",
    "pivotreduce = reducegrouped.pivot(columns='any_electric_vehicle', values='dataid')\n",
    "\n",
    "pivotreduce = pivotreduce.reindex(reducegrouped.index)\n",
    "pivotreduce = pivotreduce.drop_duplicates()\n",
    "pivotreduce\n",
    "\n",
    "\n",
    "pivotreduce.plot(kind=\"bar\", stacked=True)\n"
   ]
  },
  {
   "cell_type": "code",
   "execution_count": 66,
   "metadata": {},
   "outputs": [
    {
     "name": "stdout",
     "output_type": "stream",
     "text": [
      "                                      any_electric_vehicle  dataid\n",
      "individual_responsible_energy_reduce                              \n",
      "Neither                                                0.0      29\n",
      "Neither                                                1.0       5\n",
      "Slightly agree                                         0.0      64\n",
      "Slightly agree                                         1.0      23\n",
      "Slightly disagree                                      0.0      32\n",
      "Slightly disagree                                      1.0      11\n",
      "Strongly agree                                         0.0      40\n",
      "Strongly agree                                         1.0      12\n",
      "Strongly disagree                                      0.0      11\n",
      "Strongly disagree                                      1.0       4\n"
     ]
    },
    {
     "data": {
      "text/plain": [
       "<matplotlib.axes._subplots.AxesSubplot at 0x1439caf74a8>"
      ]
     },
     "execution_count": 66,
     "metadata": {},
     "output_type": "execute_result"
    },
    {
     "data": {
      "image/png": "[encoded data removed]",
      "text/plain": [
       "<Figure size 432x288 with 1 Axes>"
      ]
     },
     "metadata": {
      "needs_background": "light"
     },
     "output_type": "display_data"
    }
   ],
   "source": [
    "#look at indidiuval response to energy by Ev versus not EV\n",
    "\n",
    "indigrouped = survey.groupby([\"individual_responsible_energy_reduce\", \"any_electric_vehicle\"]).dataid.count()\n",
    "indigrouped = pd.DataFrame(indigrouped).reset_index()\n",
    "\n",
    "indigrouped = indigrouped.sort_values(by=[\"individual_responsible_energy_reduce\"])\n",
    "indigrouped = indigrouped.set_index(\"individual_responsible_energy_reduce\")\n",
    "print(indigrouped)\n",
    "\n",
    "pivotindi = indigrouped.pivot(columns='any_electric_vehicle', values='dataid')\n",
    "\n",
    "pivotindi = pivotindi.reindex(indigrouped.index)\n",
    "pivotindi = pivotindi.drop_duplicates()\n",
    "pivotindi\n",
    "\n",
    "\n",
    "pivotindi.plot(kind=\"bar\", stacked=True)\n"
   ]
  },
  {
   "cell_type": "markdown",
   "metadata": {},
   "source": [
    "# Let's look at the Survey features that will help inform "
   ]
  },
  {
   "cell_type": "code",
   "execution_count": 67,
   "metadata": {},
   "outputs": [],
   "source": [
    "survey_model = survey.copy()"
   ]
  },
  {
   "cell_type": "code",
   "execution_count": 68,
   "metadata": {},
   "outputs": [],
   "source": [
    "survey_model = survey_model[['dataid','any_electric_vehicle','at_home', 'total_annual_income', 'total_residents', 'education_level', 'pv_system_own', 'energy_updates', 'temperatureUser', 'devices_have', 'energy_savings', 'development', 'energy_reduce']]"
   ]
  },
  {
   "cell_type": "code",
   "execution_count": 69,
   "metadata": {},
   "outputs": [
    {
     "data": {
      "text/html": [
       "<div>\n",
       "<style scoped>\n",
       "    .dataframe tbody tr th:only-of-type {\n",
       "        vertical-align: middle;\n",
       "    }\n",
       "\n",
       "    .dataframe tbody tr th {\n",
       "        vertical-align: top;\n",
       "    }\n",
       "\n",
       "    .dataframe thead th {\n",
       "        text-align: right;\n",
       "    }\n",
       "</style>\n",
       "<table border=\"1\" class=\"dataframe\">\n",
       "  <thead>\n",
       "    <tr style=\"text-align: right;\">\n",
       "      <th></th>\n",
       "      <th>dataid</th>\n",
       "      <th>any_electric_vehicle</th>\n",
       "      <th>at_home</th>\n",
       "      <th>total_annual_income</th>\n",
       "      <th>total_residents</th>\n",
       "      <th>education_level</th>\n",
       "      <th>pv_system_own</th>\n",
       "      <th>energy_updates</th>\n",
       "      <th>temperatureUser</th>\n",
       "      <th>devices_have</th>\n",
       "      <th>energy_savings</th>\n",
       "      <th>development</th>\n",
       "      <th>energy_reduce</th>\n",
       "    </tr>\n",
       "  </thead>\n",
       "  <tbody>\n",
       "    <tr>\n",
       "      <th>0</th>\n",
       "      <td>﻿18</td>\n",
       "      <td>0.0</td>\n",
       "      <td>2</td>\n",
       "      <td>$100,000 - $149,999</td>\n",
       "      <td>1.0</td>\n",
       "      <td>Postgraduate degree</td>\n",
       "      <td>Yes</td>\n",
       "      <td>0</td>\n",
       "      <td>1</td>\n",
       "      <td>3</td>\n",
       "      <td>1</td>\n",
       "      <td>2.0</td>\n",
       "      <td>0.0</td>\n",
       "    </tr>\n",
       "    <tr>\n",
       "      <th>1</th>\n",
       "      <td>26</td>\n",
       "      <td>1.0</td>\n",
       "      <td>0</td>\n",
       "      <td>$150,000 - $299,000</td>\n",
       "      <td>2.0</td>\n",
       "      <td>Postgraduate degree</td>\n",
       "      <td>Yes</td>\n",
       "      <td>0</td>\n",
       "      <td>2</td>\n",
       "      <td>4</td>\n",
       "      <td>3</td>\n",
       "      <td>3.0</td>\n",
       "      <td>-1.0</td>\n",
       "    </tr>\n",
       "    <tr>\n",
       "      <th>2</th>\n",
       "      <td>43</td>\n",
       "      <td>1.0</td>\n",
       "      <td>5</td>\n",
       "      <td>$10,000 - $19,999</td>\n",
       "      <td>2.0</td>\n",
       "      <td>College graduate</td>\n",
       "      <td>Yes</td>\n",
       "      <td>0</td>\n",
       "      <td>5</td>\n",
       "      <td>2</td>\n",
       "      <td>4</td>\n",
       "      <td>0.0</td>\n",
       "      <td>1.0</td>\n",
       "    </tr>\n",
       "    <tr>\n",
       "      <th>3</th>\n",
       "      <td>50</td>\n",
       "      <td>0.0</td>\n",
       "      <td>5</td>\n",
       "      <td>$300,000 - $1,000,000</td>\n",
       "      <td>2.0</td>\n",
       "      <td>Postgraduate degree</td>\n",
       "      <td>Yes</td>\n",
       "      <td>0</td>\n",
       "      <td>-2</td>\n",
       "      <td>5</td>\n",
       "      <td>6</td>\n",
       "      <td>4.0</td>\n",
       "      <td>1.0</td>\n",
       "    </tr>\n",
       "    <tr>\n",
       "      <th>4</th>\n",
       "      <td>125</td>\n",
       "      <td>0.0</td>\n",
       "      <td>5</td>\n",
       "      <td>Less than $10,000</td>\n",
       "      <td>2.0</td>\n",
       "      <td>Postgraduate degree</td>\n",
       "      <td>No</td>\n",
       "      <td>3</td>\n",
       "      <td>0</td>\n",
       "      <td>8</td>\n",
       "      <td>9</td>\n",
       "      <td>3.0</td>\n",
       "      <td>0.0</td>\n",
       "    </tr>\n",
       "  </tbody>\n",
       "</table>\n",
       "</div>"
      ],
      "text/plain": [
       "  dataid  any_electric_vehicle  at_home    total_annual_income  \\\n",
       "0    ﻿18                   0.0        2    $100,000 - $149,999   \n",
       "1     26                   1.0        0    $150,000 - $299,000   \n",
       "2     43                   1.0        5      $10,000 - $19,999   \n",
       "3     50                   0.0        5  $300,000 - $1,000,000   \n",
       "4    125                   0.0        5      Less than $10,000   \n",
       "\n",
       "   total_residents      education_level pv_system_own  energy_updates  \\\n",
       "0              1.0  Postgraduate degree           Yes               0   \n",
       "1              2.0  Postgraduate degree           Yes               0   \n",
       "2              2.0     College graduate           Yes               0   \n",
       "3              2.0  Postgraduate degree           Yes               0   \n",
       "4              2.0  Postgraduate degree            No               3   \n",
       "\n",
       "   temperatureUser  devices_have  energy_savings  development  energy_reduce  \n",
       "0                1             3               1          2.0            0.0  \n",
       "1                2             4               3          3.0           -1.0  \n",
       "2                5             2               4          0.0            1.0  \n",
       "3               -2             5               6          4.0            1.0  \n",
       "4                0             8               9          3.0            0.0  "
      ]
     },
     "execution_count": 69,
     "metadata": {},
     "output_type": "execute_result"
    }
   ],
   "source": [
    "survey_model.head()"
   ]
  },
  {
   "cell_type": "code",
   "execution_count": 70,
   "metadata": {},
   "outputs": [],
   "source": [
    "# need to compress into less features\n",
    "\n",
    "#switch pv to 1 nad 0\n",
    "survey_model[\"PV\"] = survey_model[\"pv_system_own\"].map({'Yes':1, 'No':0})\n",
    "\n"
   ]
  },
  {
   "cell_type": "code",
   "execution_count": 71,
   "metadata": {},
   "outputs": [],
   "source": [
    "#find average number of days at home and if more than -1 if less 1 if in IQR than 0\n",
    "\n",
    "Q1days = survey_model[\"at_home\"].quantile(q=.25)\n",
    "Q3days = survey_model[\"at_home\"].quantile(q=.75)\n",
    "maxdays = max(survey_model[\"at_home\"])\n",
    "mindays = min(survey_model[\"at_home\"])\n",
    "\n",
    "def hometime(value):\n",
    "    if value > Q3days:\n",
    "        return -1\n",
    "    elif value < Q1days:\n",
    "        return 1\n",
    "    else:\n",
    "        return 0\n",
    "    \n",
    "survey_model[\"at_home_days\"] = survey_model[\"at_home\"].apply(hometime)\n",
    "        \n"
   ]
  },
  {
   "cell_type": "code",
   "execution_count": 72,
   "metadata": {},
   "outputs": [],
   "source": [
    "#find average number of total residents and if more than -1 if less 1 if in IQR than 0\n",
    "\n",
    "Q1residents = survey_model[\"total_residents\"].quantile(q=.25)\n",
    "Q3resients = survey_model[\"total_residents\"].quantile(q=.75)\n",
    "\n",
    "\n",
    "def people(value):\n",
    "    if value > Q3days:\n",
    "        return -1\n",
    "    elif value < Q1days:\n",
    "        return 1\n",
    "    else:\n",
    "        return 0\n",
    "    \n",
    "survey_model[\"total_residents_home\"] = survey_model[\"total_residents\"].apply(people)\n",
    "        \n"
   ]
  },
  {
   "cell_type": "code",
   "execution_count": 73,
   "metadata": {},
   "outputs": [
    {
     "data": {
      "text/plain": [
       "Index(['energy_updates', 'temperatureUser', 'devices_have', 'energy_savings',\n",
       "       'development', 'energy_reduce', 'PV', 'at_home_days',\n",
       "       'total_residents_home'],\n",
       "      dtype='object')"
      ]
     },
     "execution_count": 73,
     "metadata": {},
     "output_type": "execute_result"
    }
   ],
   "source": [
    "\n",
    "survey_model.columns[7:16]"
   ]
  },
  {
   "cell_type": "code",
   "execution_count": 74,
   "metadata": {},
   "outputs": [
    {
     "data": {
      "text/html": [
       "<div>\n",
       "<style scoped>\n",
       "    .dataframe tbody tr th:only-of-type {\n",
       "        vertical-align: middle;\n",
       "    }\n",
       "\n",
       "    .dataframe tbody tr th {\n",
       "        vertical-align: top;\n",
       "    }\n",
       "\n",
       "    .dataframe thead th {\n",
       "        text-align: right;\n",
       "    }\n",
       "</style>\n",
       "<table border=\"1\" class=\"dataframe\">\n",
       "  <thead>\n",
       "    <tr style=\"text-align: right;\">\n",
       "      <th></th>\n",
       "      <th>dataid</th>\n",
       "      <th>any_electric_vehicle</th>\n",
       "      <th>at_home</th>\n",
       "      <th>total_annual_income</th>\n",
       "      <th>total_residents</th>\n",
       "      <th>education_level</th>\n",
       "      <th>pv_system_own</th>\n",
       "      <th>energy_updates</th>\n",
       "      <th>temperatureUser</th>\n",
       "      <th>devices_have</th>\n",
       "      <th>energy_savings</th>\n",
       "      <th>development</th>\n",
       "      <th>energy_reduce</th>\n",
       "      <th>PV</th>\n",
       "      <th>at_home_days</th>\n",
       "      <th>total_residents_home</th>\n",
       "      <th>energy_helper</th>\n",
       "    </tr>\n",
       "  </thead>\n",
       "  <tbody>\n",
       "    <tr>\n",
       "      <th>0</th>\n",
       "      <td>﻿18</td>\n",
       "      <td>0.0</td>\n",
       "      <td>2</td>\n",
       "      <td>$100,000 - $149,999</td>\n",
       "      <td>1.0</td>\n",
       "      <td>Postgraduate degree</td>\n",
       "      <td>Yes</td>\n",
       "      <td>0</td>\n",
       "      <td>1</td>\n",
       "      <td>3</td>\n",
       "      <td>1</td>\n",
       "      <td>2.0</td>\n",
       "      <td>0.0</td>\n",
       "      <td>1</td>\n",
       "      <td>0</td>\n",
       "      <td>0</td>\n",
       "      <td>8.0</td>\n",
       "    </tr>\n",
       "    <tr>\n",
       "      <th>1</th>\n",
       "      <td>26</td>\n",
       "      <td>1.0</td>\n",
       "      <td>0</td>\n",
       "      <td>$150,000 - $299,000</td>\n",
       "      <td>2.0</td>\n",
       "      <td>Postgraduate degree</td>\n",
       "      <td>Yes</td>\n",
       "      <td>0</td>\n",
       "      <td>2</td>\n",
       "      <td>4</td>\n",
       "      <td>3</td>\n",
       "      <td>3.0</td>\n",
       "      <td>-1.0</td>\n",
       "      <td>1</td>\n",
       "      <td>1</td>\n",
       "      <td>0</td>\n",
       "      <td>13.0</td>\n",
       "    </tr>\n",
       "    <tr>\n",
       "      <th>2</th>\n",
       "      <td>43</td>\n",
       "      <td>1.0</td>\n",
       "      <td>5</td>\n",
       "      <td>$10,000 - $19,999</td>\n",
       "      <td>2.0</td>\n",
       "      <td>College graduate</td>\n",
       "      <td>Yes</td>\n",
       "      <td>0</td>\n",
       "      <td>5</td>\n",
       "      <td>2</td>\n",
       "      <td>4</td>\n",
       "      <td>0.0</td>\n",
       "      <td>1.0</td>\n",
       "      <td>1</td>\n",
       "      <td>0</td>\n",
       "      <td>0</td>\n",
       "      <td>13.0</td>\n",
       "    </tr>\n",
       "    <tr>\n",
       "      <th>3</th>\n",
       "      <td>50</td>\n",
       "      <td>0.0</td>\n",
       "      <td>5</td>\n",
       "      <td>$300,000 - $1,000,000</td>\n",
       "      <td>2.0</td>\n",
       "      <td>Postgraduate degree</td>\n",
       "      <td>Yes</td>\n",
       "      <td>0</td>\n",
       "      <td>-2</td>\n",
       "      <td>5</td>\n",
       "      <td>6</td>\n",
       "      <td>4.0</td>\n",
       "      <td>1.0</td>\n",
       "      <td>1</td>\n",
       "      <td>0</td>\n",
       "      <td>0</td>\n",
       "      <td>15.0</td>\n",
       "    </tr>\n",
       "    <tr>\n",
       "      <th>4</th>\n",
       "      <td>125</td>\n",
       "      <td>0.0</td>\n",
       "      <td>5</td>\n",
       "      <td>Less than $10,000</td>\n",
       "      <td>2.0</td>\n",
       "      <td>Postgraduate degree</td>\n",
       "      <td>No</td>\n",
       "      <td>3</td>\n",
       "      <td>0</td>\n",
       "      <td>8</td>\n",
       "      <td>9</td>\n",
       "      <td>3.0</td>\n",
       "      <td>0.0</td>\n",
       "      <td>0</td>\n",
       "      <td>0</td>\n",
       "      <td>0</td>\n",
       "      <td>23.0</td>\n",
       "    </tr>\n",
       "  </tbody>\n",
       "</table>\n",
       "</div>"
      ],
      "text/plain": [
       "  dataid  any_electric_vehicle  at_home    total_annual_income  \\\n",
       "0    ﻿18                   0.0        2    $100,000 - $149,999   \n",
       "1     26                   1.0        0    $150,000 - $299,000   \n",
       "2     43                   1.0        5      $10,000 - $19,999   \n",
       "3     50                   0.0        5  $300,000 - $1,000,000   \n",
       "4    125                   0.0        5      Less than $10,000   \n",
       "\n",
       "   total_residents      education_level pv_system_own  energy_updates  \\\n",
       "0              1.0  Postgraduate degree           Yes               0   \n",
       "1              2.0  Postgraduate degree           Yes               0   \n",
       "2              2.0     College graduate           Yes               0   \n",
       "3              2.0  Postgraduate degree           Yes               0   \n",
       "4              2.0  Postgraduate degree            No               3   \n",
       "\n",
       "   temperatureUser  devices_have  energy_savings  development  energy_reduce  \\\n",
       "0                1             3               1          2.0            0.0   \n",
       "1                2             4               3          3.0           -1.0   \n",
       "2                5             2               4          0.0            1.0   \n",
       "3               -2             5               6          4.0            1.0   \n",
       "4                0             8               9          3.0            0.0   \n",
       "\n",
       "   PV  at_home_days  total_residents_home  energy_helper  \n",
       "0   1             0                     0            8.0  \n",
       "1   1             1                     0           13.0  \n",
       "2   1             0                     0           13.0  \n",
       "3   1             0                     0           15.0  \n",
       "4   0             0                     0           23.0  "
      ]
     },
     "execution_count": 74,
     "metadata": {},
     "output_type": "execute_result"
    }
   ],
   "source": [
    "#sum all of the columns that are postiive number if good for environemntly frienldy, enregy conservation and negative if not\n",
    "\n",
    "survey_model[\"energy_helper\"] = survey_model[survey_model.columns[7:16]].sum(axis=1)\n",
    "survey_model.head()"
   ]
  },
  {
   "cell_type": "code",
   "execution_count": 75,
   "metadata": {},
   "outputs": [],
   "source": [
    "#instead of creating multiple dummy variable income and educaiton level will be turned into binary variables\n",
    "\n",
    "#education - postgrad or not\n",
    "\n",
    "# recode to be Austin or other\n",
    "survey_model['postgrad'] = np.where(survey_model['education_level']=='Postgraduate degree', 1, 0)\n",
    "\n",
    "#income - greater than and less than 100K\n",
    "survey_model[\"income\"] = survey_model[\"total_annual_income\"].map({'Less than $10,000':0, '$10,000 - $19,999':0, '$20,000 - $34,999':0, '$35,000 - $49,999':0, '$50,000 - $74,999':0,'$75,000 - $99,999':0, '$100,000 - $149,999':1, '$150,000 - $299,000':1, '$300,000 - $1,000,000':1 })"
   ]
  },
  {
   "cell_type": "code",
   "execution_count": 76,
   "metadata": {},
   "outputs": [],
   "source": [
    "survey_modeled = survey_model.copy()"
   ]
  },
  {
   "cell_type": "code",
   "execution_count": 77,
   "metadata": {},
   "outputs": [],
   "source": [
    "survey_modeled = survey_modeled[['dataid','any_electric_vehicle','energy_helper', 'income', 'postgrad']]"
   ]
  },
  {
   "cell_type": "code",
   "execution_count": 78,
   "metadata": {},
   "outputs": [
    {
     "data": {
      "text/plain": [
       "dataid                   0\n",
       "any_electric_vehicle     3\n",
       "energy_helper            0\n",
       "income                  20\n",
       "postgrad                 0\n",
       "dtype: int64"
      ]
     },
     "execution_count": 78,
     "metadata": {},
     "output_type": "execute_result"
    }
   ],
   "source": [
    "#count NA values\n",
    "survey_modeled.isna().sum()"
   ]
  },
  {
   "cell_type": "code",
   "execution_count": 79,
   "metadata": {},
   "outputs": [
    {
     "data": {
      "text/plain": [
       "dataid                  0\n",
       "any_electric_vehicle    0\n",
       "energy_helper           0\n",
       "income                  0\n",
       "postgrad                0\n",
       "dtype: int64"
      ]
     },
     "execution_count": 79,
     "metadata": {},
     "output_type": "execute_result"
    }
   ],
   "source": [
    "survey_modeled.fillna(0, inplace=True)\n",
    "survey_modeled.isna().sum()"
   ]
  },
  {
   "cell_type": "markdown",
   "metadata": {},
   "source": [
    "# test if these features influence EV"
   ]
  },
  {
   "cell_type": "code",
   "execution_count": 80,
   "metadata": {},
   "outputs": [],
   "source": [
    "\n",
    "# Specify the name of the target\n",
    "target = 'any_electric_vehicle'\n",
    "\n",
    "# Get the target vector\n",
    "y= survey_modeled[target]\n",
    "\n",
    "features = survey_modeled.drop('dataid', axis=1)\n",
    "# Specify the name of the features\n",
    "features = list(features.drop(target,axis=1).columns)\n",
    "\n",
    "\n",
    "# Get the feature vector\n",
    "x= survey_modeled[features]"
   ]
  },
  {
   "cell_type": "code",
   "execution_count": 81,
   "metadata": {},
   "outputs": [],
   "source": [
    "from sklearn.model_selection import train_test_split\n",
    "\n",
    "# Randomly choose 30% of the data for testing (using random_state = 0)\n",
    "X_train, X_test, y_train, y_test = train_test_split(x, y, test_size=0.3, random_state=0, stratify=y)"
   ]
  },
  {
   "cell_type": "code",
   "execution_count": 82,
   "metadata": {},
   "outputs": [],
   "source": [
    "#oversampling\n",
    "from imblearn import over_sampling, under_sampling\n",
    "from imblearn.over_sampling import SMOTE\n",
    "sm = SMOTE(random_state=12, ratio = 1)\n",
    "x_train_res, y_train_res = sm.fit_sample(X_train, y_train)"
   ]
  },
  {
   "cell_type": "code",
   "execution_count": 83,
   "metadata": {},
   "outputs": [
    {
     "name": "stderr",
     "output_type": "stream",
     "text": [
      "C:\\Users\\Krystin\\Anaconda3\\envs\\pecanpy-dev\\lib\\site-packages\\ipykernel_launcher.py:10: DataConversionWarning: Data with input dtype int32, float64 were all converted to float64 by StandardScaler.\n",
      "  # Remove the CWD from sys.path while we load stuff.\n"
     ]
    }
   ],
   "source": [
    "#standardize\n",
    "from sklearn.preprocessing import StandardScaler\n",
    "\n",
    "std_scaler = StandardScaler()\n",
    "\n",
    "# Standardize the training data\n",
    "x_train_res = std_scaler.fit_transform(x_train_res)\n",
    "\n",
    "# Standardize the testing data\n",
    "X_test = std_scaler.transform(X_test)"
   ]
  },
  {
   "cell_type": "code",
   "execution_count": 84,
   "metadata": {},
   "outputs": [
    {
     "name": "stdout",
     "output_type": "stream",
     "text": [
      "Optimization terminated successfully.\n",
      "         Current function value: 0.658501\n",
      "         Iterations 5\n",
      "                         Results: Logit\n",
      "=================================================================\n",
      "Model:              Logit            Pseudo R-squared: 0.050     \n",
      "Dependent Variable: y                AIC:              343.1527  \n",
      "Date:               2019-04-30 08:47 BIC:              353.7882  \n",
      "No. Observations:   256              Log-Likelihood:   -168.58   \n",
      "Df Model:           2                LL-Null:          -177.45   \n",
      "Df Residuals:       253              LLR p-value:      0.00014063\n",
      "Converged:          1.0000           Scale:            1.0000    \n",
      "No. Iterations:     5.0000                                       \n",
      "--------------------------------------------------------------------\n",
      "         Coef.     Std.Err.      z       P>|z|      [0.025    0.975]\n",
      "--------------------------------------------------------------------\n",
      "x1       0.4625      0.1410    3.2789    0.0010     0.1860    0.7389\n",
      "x2       0.1001      0.1367    0.7324    0.4639    -0.1678    0.3680\n",
      "x3       0.3497      0.1318    2.6530    0.0080     0.0914    0.6080\n",
      "=================================================================\n",
      "\n"
     ]
    }
   ],
   "source": [
    "\n",
    "import statsmodels.api as statsmodels\n",
    "\n",
    "logit_model = statsmodels.Logit(y_train_res, x_train_res)\n",
    "\n",
    "result = logit_model.fit()\n",
    "\n",
    "print(result.summary2())"
   ]
  },
  {
   "cell_type": "code",
   "execution_count": 85,
   "metadata": {},
   "outputs": [
    {
     "data": {
      "text/plain": [
       "['energy_helper', 'income', 'postgrad']"
      ]
     },
     "execution_count": 85,
     "metadata": {},
     "output_type": "execute_result"
    }
   ],
   "source": [
    "features"
   ]
  },
  {
   "cell_type": "code",
   "execution_count": null,
   "metadata": {},
   "outputs": [],
   "source": []
  }
 ],
 "metadata": {
  "kernelspec": {
   "display_name": "Python 3",
   "language": "python",
   "name": "python3"
  },
  "language_info": {
   "codemirror_mode": {
    "name": "ipython",
    "version": 3
   },
   "file_extension": ".py",
   "mimetype": "text/x-python",
   "name": "python",
   "nbconvert_exporter": "python",
   "pygments_lexer": "ipython3",
   "version": "3.7.2"
  }
 },
 "nbformat": 4,
 "nbformat_minor": 2
}
