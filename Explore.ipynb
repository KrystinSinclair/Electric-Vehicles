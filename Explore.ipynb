{
 "cells": [
  {
   "cell_type": "markdown",
   "metadata": {},
   "source": [
    "# Electric Vehicle Presence Discovery"
   ]
  },
  {
   "cell_type": "markdown",
   "metadata": {},
   "source": [
    "## EDA"
   ]
  },
  {
   "cell_type": "code",
   "execution_count": 1,
   "metadata": {},
   "outputs": [],
   "source": [
    "#import packages\n",
    "import datetime as dat\n",
    "import os\n",
    "import matplotlib.pyplot as plt\n",
    "import numpy as np\n",
    "import pandas as pd\n",
    "import pylab\n",
    "import scipy.stats as stats\n",
    "import seaborn as sns\n",
    "from sklearn.ensemble import RandomForestClassifier"
   ]
  },
  {
   "cell_type": "code",
   "execution_count": 2,
   "metadata": {},
   "outputs": [
    {
     "data": {
      "text/html": [
       "<div>\n",
       "<style scoped>\n",
       "    .dataframe tbody tr th:only-of-type {\n",
       "        vertical-align: middle;\n",
       "    }\n",
       "\n",
       "    .dataframe tbody tr th {\n",
       "        vertical-align: top;\n",
       "    }\n",
       "\n",
       "    .dataframe thead th {\n",
       "        text-align: right;\n",
       "    }\n",
       "</style>\n",
       "<table border=\"1\" class=\"dataframe\">\n",
       "  <thead>\n",
       "    <tr style=\"text-align: right;\">\n",
       "      <th></th>\n",
       "      <th>Unnamed: 0</th>\n",
       "      <th>dataid</th>\n",
       "      <th>use</th>\n",
       "      <th>building_type</th>\n",
       "      <th>city</th>\n",
       "      <th>pv</th>\n",
       "      <th>house_construction_year</th>\n",
       "      <th>total_square_footage</th>\n",
       "      <th>car1_y</th>\n",
       "    </tr>\n",
       "  </thead>\n",
       "  <tbody>\n",
       "    <tr>\n",
       "      <th>0</th>\n",
       "      <td>0</td>\n",
       "      <td>59</td>\n",
       "      <td>1.752956</td>\n",
       "      <td>Single-Family Home</td>\n",
       "      <td>Austin</td>\n",
       "      <td>0</td>\n",
       "      <td>2011.0</td>\n",
       "      <td>3825.0</td>\n",
       "      <td>0</td>\n",
       "    </tr>\n",
       "    <tr>\n",
       "      <th>1</th>\n",
       "      <td>1</td>\n",
       "      <td>77</td>\n",
       "      <td>1.638684</td>\n",
       "      <td>Single-Family Home</td>\n",
       "      <td>Austin</td>\n",
       "      <td>1</td>\n",
       "      <td>2009.0</td>\n",
       "      <td>2669.0</td>\n",
       "      <td>0</td>\n",
       "    </tr>\n",
       "    <tr>\n",
       "      <th>2</th>\n",
       "      <td>2</td>\n",
       "      <td>86</td>\n",
       "      <td>1.495249</td>\n",
       "      <td>Single-Family Home</td>\n",
       "      <td>Austin</td>\n",
       "      <td>0</td>\n",
       "      <td>1948.0</td>\n",
       "      <td>1788.0</td>\n",
       "      <td>0</td>\n",
       "    </tr>\n",
       "    <tr>\n",
       "      <th>3</th>\n",
       "      <td>3</td>\n",
       "      <td>93</td>\n",
       "      <td>1.051423</td>\n",
       "      <td>Single-Family Home</td>\n",
       "      <td>Austin</td>\n",
       "      <td>1</td>\n",
       "      <td>1993.0</td>\n",
       "      <td>2934.0</td>\n",
       "      <td>0</td>\n",
       "    </tr>\n",
       "    <tr>\n",
       "      <th>4</th>\n",
       "      <td>4</td>\n",
       "      <td>94</td>\n",
       "      <td>0.691208</td>\n",
       "      <td>Single-Family Home</td>\n",
       "      <td>Austin</td>\n",
       "      <td>0</td>\n",
       "      <td>1975.0</td>\n",
       "      <td>1713.0</td>\n",
       "      <td>0</td>\n",
       "    </tr>\n",
       "  </tbody>\n",
       "</table>\n",
       "</div>"
      ],
      "text/plain": [
       "   Unnamed: 0  dataid       use       building_type    city  pv  \\\n",
       "0           0      59  1.752956  Single-Family Home  Austin   0   \n",
       "1           1      77  1.638684  Single-Family Home  Austin   1   \n",
       "2           2      86  1.495249  Single-Family Home  Austin   0   \n",
       "3           3      93  1.051423  Single-Family Home  Austin   1   \n",
       "4           4      94  0.691208  Single-Family Home  Austin   0   \n",
       "\n",
       "   house_construction_year  total_square_footage  car1_y  \n",
       "0                   2011.0                3825.0       0  \n",
       "1                   2009.0                2669.0       0  \n",
       "2                   1948.0                1788.0       0  \n",
       "3                   1993.0                2934.0       0  \n",
       "4                   1975.0                1713.0       0  "
      ]
     },
     "execution_count": 2,
     "metadata": {},
     "output_type": "execute_result"
    }
   ],
   "source": [
    "#load data\n",
    "df = pd.read_csv('Data/averagehour.csv')\n",
    "#view data\n",
    "df.head()"
   ]
  },
  {
   "cell_type": "code",
   "execution_count": 3,
   "metadata": {},
   "outputs": [],
   "source": [
    "#drop the unamed column\n",
    "df = df.drop(['Unnamed: 0'], axis=1)"
   ]
  },
  {
   "cell_type": "code",
   "execution_count": 4,
   "metadata": {},
   "outputs": [],
   "source": [
    "#rename variable to be more understandable\n",
    "#from car1_y to EV\n",
    "\n",
    "df['EV'] = df['car1_y']\n",
    "#this created a new variable of equaltity to car1_y named EV\n",
    "#we only need EV not car1_y, we can drop car1_y\n",
    "df = df.drop(['car1_y'], axis=1)"
   ]
  },
  {
   "cell_type": "code",
   "execution_count": 5,
   "metadata": {},
   "outputs": [
    {
     "data": {
      "text/html": [
       "<div>\n",
       "<style scoped>\n",
       "    .dataframe tbody tr th:only-of-type {\n",
       "        vertical-align: middle;\n",
       "    }\n",
       "\n",
       "    .dataframe tbody tr th {\n",
       "        vertical-align: top;\n",
       "    }\n",
       "\n",
       "    .dataframe thead th {\n",
       "        text-align: right;\n",
       "    }\n",
       "</style>\n",
       "<table border=\"1\" class=\"dataframe\">\n",
       "  <thead>\n",
       "    <tr style=\"text-align: right;\">\n",
       "      <th></th>\n",
       "      <th>dataid</th>\n",
       "      <th>use</th>\n",
       "      <th>building_type</th>\n",
       "      <th>city</th>\n",
       "      <th>pv</th>\n",
       "      <th>house_construction_year</th>\n",
       "      <th>total_square_footage</th>\n",
       "      <th>EV</th>\n",
       "    </tr>\n",
       "  </thead>\n",
       "  <tbody>\n",
       "    <tr>\n",
       "      <th>0</th>\n",
       "      <td>59</td>\n",
       "      <td>1.752956</td>\n",
       "      <td>Single-Family Home</td>\n",
       "      <td>Austin</td>\n",
       "      <td>0</td>\n",
       "      <td>2011.0</td>\n",
       "      <td>3825.0</td>\n",
       "      <td>0</td>\n",
       "    </tr>\n",
       "    <tr>\n",
       "      <th>1</th>\n",
       "      <td>77</td>\n",
       "      <td>1.638684</td>\n",
       "      <td>Single-Family Home</td>\n",
       "      <td>Austin</td>\n",
       "      <td>1</td>\n",
       "      <td>2009.0</td>\n",
       "      <td>2669.0</td>\n",
       "      <td>0</td>\n",
       "    </tr>\n",
       "    <tr>\n",
       "      <th>2</th>\n",
       "      <td>86</td>\n",
       "      <td>1.495249</td>\n",
       "      <td>Single-Family Home</td>\n",
       "      <td>Austin</td>\n",
       "      <td>0</td>\n",
       "      <td>1948.0</td>\n",
       "      <td>1788.0</td>\n",
       "      <td>0</td>\n",
       "    </tr>\n",
       "    <tr>\n",
       "      <th>3</th>\n",
       "      <td>93</td>\n",
       "      <td>1.051423</td>\n",
       "      <td>Single-Family Home</td>\n",
       "      <td>Austin</td>\n",
       "      <td>1</td>\n",
       "      <td>1993.0</td>\n",
       "      <td>2934.0</td>\n",
       "      <td>0</td>\n",
       "    </tr>\n",
       "    <tr>\n",
       "      <th>4</th>\n",
       "      <td>94</td>\n",
       "      <td>0.691208</td>\n",
       "      <td>Single-Family Home</td>\n",
       "      <td>Austin</td>\n",
       "      <td>0</td>\n",
       "      <td>1975.0</td>\n",
       "      <td>1713.0</td>\n",
       "      <td>0</td>\n",
       "    </tr>\n",
       "  </tbody>\n",
       "</table>\n",
       "</div>"
      ],
      "text/plain": [
       "   dataid       use       building_type    city  pv  house_construction_year  \\\n",
       "0      59  1.752956  Single-Family Home  Austin   0                   2011.0   \n",
       "1      77  1.638684  Single-Family Home  Austin   1                   2009.0   \n",
       "2      86  1.495249  Single-Family Home  Austin   0                   1948.0   \n",
       "3      93  1.051423  Single-Family Home  Austin   1                   1993.0   \n",
       "4      94  0.691208  Single-Family Home  Austin   0                   1975.0   \n",
       "\n",
       "   total_square_footage  EV  \n",
       "0                3825.0   0  \n",
       "1                2669.0   0  \n",
       "2                1788.0   0  \n",
       "3                2934.0   0  \n",
       "4                1713.0   0  "
      ]
     },
     "execution_count": 5,
     "metadata": {},
     "output_type": "execute_result"
    }
   ],
   "source": [
    "df.head()"
   ]
  },
  {
   "cell_type": "markdown",
   "metadata": {},
   "source": [
    "### categorical Variables\n"
   ]
  },
  {
   "cell_type": "code",
   "execution_count": 6,
   "metadata": {},
   "outputs": [
    {
     "data": {
      "text/plain": [
       "Austin       187\n",
       "Boulder       16\n",
       "Dallas         3\n",
       "San Diego      2\n",
       "Plano          2\n",
       "Houston        1\n",
       "Humble         1\n",
       "Coppell        1\n",
       "Grapevine      1\n",
       "Name: city, dtype: int64"
      ]
     },
     "execution_count": 6,
     "metadata": {},
     "output_type": "execute_result"
    }
   ],
   "source": [
    "city_counts = df['city'].value_counts()\n",
    "city_counts\n",
    "#lookat city"
   ]
  },
  {
   "cell_type": "code",
   "execution_count": 7,
   "metadata": {},
   "outputs": [
    {
     "data": {
      "text/plain": [
       "1    187\n",
       "0     27\n",
       "Name: city, dtype: int64"
      ]
     },
     "execution_count": 7,
     "metadata": {},
     "output_type": "execute_result"
    }
   ],
   "source": [
    "# recode to be Austin or other\n",
    "df['city'] = np.where(df['city']=='Austin', 1, 0)\n",
    "city_counts = df['city'].value_counts()\n",
    "city_counts"
   ]
  },
  {
   "cell_type": "code",
   "execution_count": 8,
   "metadata": {},
   "outputs": [
    {
     "data": {
      "text/plain": [
       "Single-Family Home    201\n",
       "Town Home              11\n",
       "Mobile Home             1\n",
       "Apartment               1\n",
       "Name: building_type, dtype: int64"
      ]
     },
     "execution_count": 8,
     "metadata": {},
     "output_type": "execute_result"
    }
   ],
   "source": [
    "#look at builiding type\n",
    "building_type = df['building_type'].value_counts()\n",
    "building_type"
   ]
  },
  {
   "cell_type": "code",
   "execution_count": 9,
   "metadata": {},
   "outputs": [
    {
     "data": {
      "text/plain": [
       "1    201\n",
       "0     13\n",
       "Name: building_type, dtype: int64"
      ]
     },
     "execution_count": 9,
     "metadata": {},
     "output_type": "execute_result"
    }
   ],
   "source": [
    "\n",
    "#recode building_type\n",
    "df['building_type'] = np.where(df['building_type']=='Single-Family Home', 1, 0)\n",
    "building_counts = df['building_type'].value_counts()\n",
    "building_counts"
   ]
  },
  {
   "cell_type": "code",
   "execution_count": 10,
   "metadata": {},
   "outputs": [
    {
     "data": {
      "text/html": [
       "<div>\n",
       "<style scoped>\n",
       "    .dataframe tbody tr th:only-of-type {\n",
       "        vertical-align: middle;\n",
       "    }\n",
       "\n",
       "    .dataframe tbody tr th {\n",
       "        vertical-align: top;\n",
       "    }\n",
       "\n",
       "    .dataframe thead th {\n",
       "        text-align: right;\n",
       "    }\n",
       "</style>\n",
       "<table border=\"1\" class=\"dataframe\">\n",
       "  <thead>\n",
       "    <tr style=\"text-align: right;\">\n",
       "      <th></th>\n",
       "      <th>dataid</th>\n",
       "      <th>use</th>\n",
       "      <th>building_type</th>\n",
       "      <th>city</th>\n",
       "      <th>pv</th>\n",
       "      <th>house_construction_year</th>\n",
       "      <th>total_square_footage</th>\n",
       "    </tr>\n",
       "    <tr>\n",
       "      <th>EV</th>\n",
       "      <th></th>\n",
       "      <th></th>\n",
       "      <th></th>\n",
       "      <th></th>\n",
       "      <th></th>\n",
       "      <th></th>\n",
       "      <th></th>\n",
       "    </tr>\n",
       "  </thead>\n",
       "  <tbody>\n",
       "    <tr>\n",
       "      <th>0</th>\n",
       "      <td>5167.928994</td>\n",
       "      <td>1.255491</td>\n",
       "      <td>0.946746</td>\n",
       "      <td>0.857988</td>\n",
       "      <td>0.573964</td>\n",
       "      <td>1989.668639</td>\n",
       "      <td>2191.050296</td>\n",
       "    </tr>\n",
       "    <tr>\n",
       "      <th>1</th>\n",
       "      <td>5295.800000</td>\n",
       "      <td>1.657467</td>\n",
       "      <td>0.911111</td>\n",
       "      <td>0.933333</td>\n",
       "      <td>0.888889</td>\n",
       "      <td>1994.777778</td>\n",
       "      <td>2475.233333</td>\n",
       "    </tr>\n",
       "  </tbody>\n",
       "</table>\n",
       "</div>"
      ],
      "text/plain": [
       "         dataid       use  building_type      city        pv  \\\n",
       "EV                                                             \n",
       "0   5167.928994  1.255491       0.946746  0.857988  0.573964   \n",
       "1   5295.800000  1.657467       0.911111  0.933333  0.888889   \n",
       "\n",
       "    house_construction_year  total_square_footage  \n",
       "EV                                                 \n",
       "0               1989.668639           2191.050296  \n",
       "1               1994.777778           2475.233333  "
      ]
     },
     "execution_count": 10,
     "metadata": {},
     "output_type": "execute_result"
    }
   ],
   "source": [
    "#Understand EV\n",
    "df.groupby('EV').mean()"
   ]
  },
  {
   "cell_type": "code",
   "execution_count": 11,
   "metadata": {},
   "outputs": [
    {
     "data": {
      "text/plain": [
       "EV\n",
       "0    169\n",
       "1     45\n",
       "Name: dataid, dtype: int64"
      ]
     },
     "execution_count": 11,
     "metadata": {},
     "output_type": "execute_result"
    }
   ],
   "source": [
    "df.groupby('EV').dataid.nunique()"
   ]
  },
  {
   "cell_type": "code",
   "execution_count": 12,
   "metadata": {},
   "outputs": [
    {
     "data": {
      "text/html": [
       "<div>\n",
       "<style scoped>\n",
       "    .dataframe tbody tr th:only-of-type {\n",
       "        vertical-align: middle;\n",
       "    }\n",
       "\n",
       "    .dataframe tbody tr th {\n",
       "        vertical-align: top;\n",
       "    }\n",
       "\n",
       "    .dataframe thead th {\n",
       "        text-align: right;\n",
       "    }\n",
       "</style>\n",
       "<table border=\"1\" class=\"dataframe\">\n",
       "  <thead>\n",
       "    <tr style=\"text-align: right;\">\n",
       "      <th>pv</th>\n",
       "      <th>0</th>\n",
       "      <th>1</th>\n",
       "    </tr>\n",
       "    <tr>\n",
       "      <th>EV</th>\n",
       "      <th></th>\n",
       "      <th></th>\n",
       "    </tr>\n",
       "  </thead>\n",
       "  <tbody>\n",
       "    <tr>\n",
       "      <th>0</th>\n",
       "      <td>72</td>\n",
       "      <td>97</td>\n",
       "    </tr>\n",
       "    <tr>\n",
       "      <th>1</th>\n",
       "      <td>5</td>\n",
       "      <td>40</td>\n",
       "    </tr>\n",
       "  </tbody>\n",
       "</table>\n",
       "</div>"
      ],
      "text/plain": [
       "pv   0   1\n",
       "EV        \n",
       "0   72  97\n",
       "1    5  40"
      ]
     },
     "execution_count": 12,
     "metadata": {},
     "output_type": "execute_result"
    }
   ],
   "source": [
    "#look at EV and PV\n",
    "PV_EV = pd.crosstab(index=df[\"EV\"],\n",
    "                       columns=[df['pv']])\n",
    "\n",
    "PV_EV\n"
   ]
  },
  {
   "cell_type": "code",
   "execution_count": 13,
   "metadata": {},
   "outputs": [
    {
     "data": {
      "text/plain": [
       "<matplotlib.legend.Legend at 0x1bda7098a20>"
      ]
     },
     "execution_count": 13,
     "metadata": {},
     "output_type": "execute_result"
    },
    {
     "data": {
      "image/png": "[encoded data removed]",
      "text/plain": [
       "<Figure size 432x288 with 1 Axes>"
      ]
     },
     "metadata": {
      "needs_background": "light"
     },
     "output_type": "display_data"
    }
   ],
   "source": [
    "\n",
    "#create barchart to compare Pv and EV\n",
    "PV_EV.T.plot(kind='bar', color=['c','m'], grid=False)\n",
    "plt.title(\"Photovoltaic Cells with and without EV\")\n",
    "plt.legend(['no','yes'])  "
   ]
  },
  {
   "cell_type": "code",
   "execution_count": 14,
   "metadata": {},
   "outputs": [
    {
     "data": {
      "text/html": [
       "<div>\n",
       "<style scoped>\n",
       "    .dataframe tbody tr th:only-of-type {\n",
       "        vertical-align: middle;\n",
       "    }\n",
       "\n",
       "    .dataframe tbody tr th {\n",
       "        vertical-align: top;\n",
       "    }\n",
       "\n",
       "    .dataframe thead th {\n",
       "        text-align: right;\n",
       "    }\n",
       "</style>\n",
       "<table border=\"1\" class=\"dataframe\">\n",
       "  <thead>\n",
       "    <tr style=\"text-align: right;\">\n",
       "      <th>pv</th>\n",
       "      <th>0</th>\n",
       "      <th>1</th>\n",
       "    </tr>\n",
       "    <tr>\n",
       "      <th>EV</th>\n",
       "      <th></th>\n",
       "      <th></th>\n",
       "    </tr>\n",
       "  </thead>\n",
       "  <tbody>\n",
       "    <tr>\n",
       "      <th>0</th>\n",
       "      <td>0.94</td>\n",
       "      <td>0.71</td>\n",
       "    </tr>\n",
       "    <tr>\n",
       "      <th>1</th>\n",
       "      <td>0.06</td>\n",
       "      <td>0.29</td>\n",
       "    </tr>\n",
       "  </tbody>\n",
       "</table>\n",
       "</div>"
      ],
      "text/plain": [
       "pv     0     1\n",
       "EV            \n",
       "0   0.94  0.71\n",
       "1   0.06  0.29"
      ]
     },
     "execution_count": 14,
     "metadata": {},
     "output_type": "execute_result"
    }
   ],
   "source": [
    "#look at percentages\n",
    "round(PV_EV.transform(lambda x: x/x.sum()),2)"
   ]
  },
  {
   "cell_type": "code",
   "execution_count": 15,
   "metadata": {},
   "outputs": [
    {
     "data": {
      "text/html": [
       "<div>\n",
       "<style scoped>\n",
       "    .dataframe tbody tr th:only-of-type {\n",
       "        vertical-align: middle;\n",
       "    }\n",
       "\n",
       "    .dataframe tbody tr th {\n",
       "        vertical-align: top;\n",
       "    }\n",
       "\n",
       "    .dataframe thead th {\n",
       "        text-align: right;\n",
       "    }\n",
       "</style>\n",
       "<table border=\"1\" class=\"dataframe\">\n",
       "  <thead>\n",
       "    <tr style=\"text-align: right;\">\n",
       "      <th>building_type</th>\n",
       "      <th>0</th>\n",
       "      <th>1</th>\n",
       "    </tr>\n",
       "    <tr>\n",
       "      <th>EV</th>\n",
       "      <th></th>\n",
       "      <th></th>\n",
       "    </tr>\n",
       "  </thead>\n",
       "  <tbody>\n",
       "    <tr>\n",
       "      <th>0</th>\n",
       "      <td>9</td>\n",
       "      <td>160</td>\n",
       "    </tr>\n",
       "    <tr>\n",
       "      <th>1</th>\n",
       "      <td>4</td>\n",
       "      <td>41</td>\n",
       "    </tr>\n",
       "  </tbody>\n",
       "</table>\n",
       "</div>"
      ],
      "text/plain": [
       "building_type  0    1\n",
       "EV                   \n",
       "0              9  160\n",
       "1              4   41"
      ]
     },
     "execution_count": 15,
     "metadata": {},
     "output_type": "execute_result"
    }
   ],
   "source": [
    "# building type and EV\n",
    "buildingtype_EV = pd.crosstab(index=df[\"EV\"],\n",
    "                       columns=[df['building_type']])\n",
    "\n",
    "buildingtype_EV"
   ]
  },
  {
   "cell_type": "code",
   "execution_count": 16,
   "metadata": {},
   "outputs": [
    {
     "data": {
      "text/plain": [
       "<matplotlib.legend.Legend at 0x1bda73ea470>"
      ]
     },
     "execution_count": 16,
     "metadata": {},
     "output_type": "execute_result"
    },
    {
     "data": {
      "image/png": "[encoded data removed]",
      "text/plain": [
       "<Figure size 432x288 with 1 Axes>"
      ]
     },
     "metadata": {
      "needs_background": "light"
     },
     "output_type": "display_data"
    }
   ],
   "source": [
    "\n",
    "\n",
    "buildingtype_EV.T.plot(kind='bar', color=['c','m'], grid=False)\n",
    "plt.title(\"Single Family Home and EV\")\n",
    "plt.legend(['noEV', 'EV'])"
   ]
  },
  {
   "cell_type": "code",
   "execution_count": 17,
   "metadata": {},
   "outputs": [
    {
     "data": {
      "text/html": [
       "<div>\n",
       "<style scoped>\n",
       "    .dataframe tbody tr th:only-of-type {\n",
       "        vertical-align: middle;\n",
       "    }\n",
       "\n",
       "    .dataframe tbody tr th {\n",
       "        vertical-align: top;\n",
       "    }\n",
       "\n",
       "    .dataframe thead th {\n",
       "        text-align: right;\n",
       "    }\n",
       "</style>\n",
       "<table border=\"1\" class=\"dataframe\">\n",
       "  <thead>\n",
       "    <tr style=\"text-align: right;\">\n",
       "      <th>building_type</th>\n",
       "      <th>0</th>\n",
       "      <th>1</th>\n",
       "    </tr>\n",
       "    <tr>\n",
       "      <th>EV</th>\n",
       "      <th></th>\n",
       "      <th></th>\n",
       "    </tr>\n",
       "  </thead>\n",
       "  <tbody>\n",
       "    <tr>\n",
       "      <th>0</th>\n",
       "      <td>0.69</td>\n",
       "      <td>0.8</td>\n",
       "    </tr>\n",
       "    <tr>\n",
       "      <th>1</th>\n",
       "      <td>0.31</td>\n",
       "      <td>0.2</td>\n",
       "    </tr>\n",
       "  </tbody>\n",
       "</table>\n",
       "</div>"
      ],
      "text/plain": [
       "building_type     0    1\n",
       "EV                      \n",
       "0              0.69  0.8\n",
       "1              0.31  0.2"
      ]
     },
     "execution_count": 17,
     "metadata": {},
     "output_type": "execute_result"
    }
   ],
   "source": [
    "#look at percentages\n",
    "round(buildingtype_EV.transform(lambda x: x/x.sum()),2)"
   ]
  },
  {
   "cell_type": "code",
   "execution_count": 18,
   "metadata": {},
   "outputs": [
    {
     "data": {
      "text/plain": [
       "<matplotlib.legend.Legend at 0x1bda73ea710>"
      ]
     },
     "execution_count": 18,
     "metadata": {},
     "output_type": "execute_result"
    },
    {
     "data": {
      "image/png": "[encoded data removed]",
      "text/plain": [
       "<Figure size 432x288 with 1 Axes>"
      ]
     },
     "metadata": {
      "needs_background": "light"
     },
     "output_type": "display_data"
    }
   ],
   "source": [
    "#location and eV\n",
    "city_EV = pd.crosstab(index=df[\"EV\"],\n",
    "                       columns=[df['city']])\n",
    "city_EV.T.plot(kind='bar', color=['c','m'], grid=False)\n",
    "plt.title(\"Austin with and without EV\")\n",
    "plt.legend(['noEV', 'EV'])"
   ]
  },
  {
   "cell_type": "code",
   "execution_count": 19,
   "metadata": {},
   "outputs": [
    {
     "data": {
      "text/html": [
       "<div>\n",
       "<style scoped>\n",
       "    .dataframe tbody tr th:only-of-type {\n",
       "        vertical-align: middle;\n",
       "    }\n",
       "\n",
       "    .dataframe tbody tr th {\n",
       "        vertical-align: top;\n",
       "    }\n",
       "\n",
       "    .dataframe thead th {\n",
       "        text-align: right;\n",
       "    }\n",
       "</style>\n",
       "<table border=\"1\" class=\"dataframe\">\n",
       "  <thead>\n",
       "    <tr style=\"text-align: right;\">\n",
       "      <th>city</th>\n",
       "      <th>0</th>\n",
       "      <th>1</th>\n",
       "    </tr>\n",
       "    <tr>\n",
       "      <th>EV</th>\n",
       "      <th></th>\n",
       "      <th></th>\n",
       "    </tr>\n",
       "  </thead>\n",
       "  <tbody>\n",
       "    <tr>\n",
       "      <th>0</th>\n",
       "      <td>24</td>\n",
       "      <td>145</td>\n",
       "    </tr>\n",
       "    <tr>\n",
       "      <th>1</th>\n",
       "      <td>3</td>\n",
       "      <td>42</td>\n",
       "    </tr>\n",
       "  </tbody>\n",
       "</table>\n",
       "</div>"
      ],
      "text/plain": [
       "city   0    1\n",
       "EV           \n",
       "0     24  145\n",
       "1      3   42"
      ]
     },
     "execution_count": 19,
     "metadata": {},
     "output_type": "execute_result"
    }
   ],
   "source": [
    "city_EV"
   ]
  },
  {
   "cell_type": "code",
   "execution_count": 20,
   "metadata": {},
   "outputs": [
    {
     "data": {
      "text/html": [
       "<div>\n",
       "<style scoped>\n",
       "    .dataframe tbody tr th:only-of-type {\n",
       "        vertical-align: middle;\n",
       "    }\n",
       "\n",
       "    .dataframe tbody tr th {\n",
       "        vertical-align: top;\n",
       "    }\n",
       "\n",
       "    .dataframe thead th {\n",
       "        text-align: right;\n",
       "    }\n",
       "</style>\n",
       "<table border=\"1\" class=\"dataframe\">\n",
       "  <thead>\n",
       "    <tr style=\"text-align: right;\">\n",
       "      <th>city</th>\n",
       "      <th>0</th>\n",
       "      <th>1</th>\n",
       "    </tr>\n",
       "    <tr>\n",
       "      <th>EV</th>\n",
       "      <th></th>\n",
       "      <th></th>\n",
       "    </tr>\n",
       "  </thead>\n",
       "  <tbody>\n",
       "    <tr>\n",
       "      <th>0</th>\n",
       "      <td>0.89</td>\n",
       "      <td>0.78</td>\n",
       "    </tr>\n",
       "    <tr>\n",
       "      <th>1</th>\n",
       "      <td>0.11</td>\n",
       "      <td>0.22</td>\n",
       "    </tr>\n",
       "  </tbody>\n",
       "</table>\n",
       "</div>"
      ],
      "text/plain": [
       "city     0     1\n",
       "EV              \n",
       "0     0.89  0.78\n",
       "1     0.11  0.22"
      ]
     },
     "execution_count": 20,
     "metadata": {},
     "output_type": "execute_result"
    }
   ],
   "source": [
    "round(city_EV.transform(lambda x: x/x.sum()),2)\n"
   ]
  },
  {
   "cell_type": "markdown",
   "metadata": {},
   "source": [
    "### Continuous Features"
   ]
  },
  {
   "cell_type": "code",
   "execution_count": 21,
   "metadata": {},
   "outputs": [
    {
     "data": {
      "image/png": "[encoded data removed]",
      "text/plain": [
       "<Figure size 432x288 with 1 Axes>"
      ]
     },
     "metadata": {
      "needs_background": "light"
     },
     "output_type": "display_data"
    }
   ],
   "source": [
    "#look at enregy use\n",
    "plt.hist(df['use'])\n",
    "plt.title(\"histogram of energy use\")\n",
    "plt.show()"
   ]
  },
  {
   "cell_type": "code",
   "execution_count": 22,
   "metadata": {},
   "outputs": [
    {
     "data": {
      "image/png": "[encoded data removed]",
      "text/plain": [
       "<Figure size 432x288 with 1 Axes>"
      ]
     },
     "metadata": {
      "needs_background": "light"
     },
     "output_type": "display_data"
    }
   ],
   "source": [
    "#look at house construction year\n",
    "plt.hist(df['house_construction_year'])\n",
    "plt.title(\"histogram of house year\")\n",
    "plt.show()"
   ]
  },
  {
   "cell_type": "code",
   "execution_count": 23,
   "metadata": {},
   "outputs": [
    {
     "data": {
      "image/png": "[encoded data removed]",
      "text/plain": [
       "<Figure size 432x288 with 1 Axes>"
      ]
     },
     "metadata": {
      "needs_background": "light"
     },
     "output_type": "display_data"
    }
   ],
   "source": [
    "#look at total square footage\n",
    "plt.hist(df['total_square_footage'])\n",
    "plt.title(\"histogram of square footage\")\n",
    "plt.show()"
   ]
  },
  {
   "cell_type": "markdown",
   "metadata": {},
   "source": [
    "#### plot EV with other variables to see how they relate"
   ]
  },
  {
   "cell_type": "code",
   "execution_count": 24,
   "metadata": {},
   "outputs": [],
   "source": [
    "#plot EV with other features to see how they relate\n",
    "groupbyEV =df.groupby('EV')"
   ]
  },
  {
   "cell_type": "code",
   "execution_count": 25,
   "metadata": {},
   "outputs": [
    {
     "name": "stderr",
     "output_type": "stream",
     "text": [
      "No handles with labels found to put in legend.\n"
     ]
    },
    {
     "data": {
      "text/plain": [
       "<matplotlib.legend.Legend at 0x1bda75141d0>"
      ]
     },
     "execution_count": 25,
     "metadata": {},
     "output_type": "execute_result"
    },
    {
     "data": {
      "image/png": "[encoded data removed]",
      "text/plain": [
       "<Figure size 864x720 with 3 Axes>"
      ]
     },
     "metadata": {
      "needs_background": "light"
     },
     "output_type": "display_data"
    }
   ],
   "source": [
    "fig, axes = plt.subplots(nrows=1, ncols=3, figsize=(12,10))\n",
    "for axis, col in zip(axes, ['use', 'total_square_footage', 'house_construction_year']):\n",
    "    groupbyEV[col].hist(ax=axis)\n",
    "plt.legend()"
   ]
  },
  {
   "cell_type": "code",
   "execution_count": 26,
   "metadata": {},
   "outputs": [
    {
     "data": {
      "image/png": "[encoded data removed]",
      "text/plain": [
       "<Figure size 432x288 with 1 Axes>"
      ]
     },
     "metadata": {
      "needs_background": "light"
     },
     "output_type": "display_data"
    },
    {
     "data": {
      "image/png": "[encoded data removed]",
      "text/plain": [
       "<Figure size 432x288 with 1 Axes>"
      ]
     },
     "metadata": {
      "needs_background": "light"
     },
     "output_type": "display_data"
    },
    {
     "data": {
      "image/png": "[encoded data removed]",
      "text/plain": [
       "<Figure size 432x288 with 1 Axes>"
      ]
     },
     "metadata": {
      "needs_background": "light"
     },
     "output_type": "display_data"
    }
   ],
   "source": [
    "boxplotuse = df.boxplot(column=['use'], by = 'EV')\n",
    "plt.suptitle(\"\")\n",
    "plt.show()\n",
    "boxplotyear = df.boxplot(column=['house_construction_year'], by = 'EV')\n",
    "plt.suptitle(\"\")\n",
    "plt.show()\n",
    "boxplotsqfeet = df.boxplot(column=['total_square_footage'], by = 'EV')\n",
    "plt.suptitle(\"\")\n",
    "plt.show()\n"
   ]
  },
  {
   "cell_type": "markdown",
   "metadata": {},
   "source": [
    "### t test on energy use between ev and non ev homes"
   ]
  },
  {
   "cell_type": "code",
   "execution_count": 27,
   "metadata": {},
   "outputs": [
    {
     "data": {
      "text/html": [
       "<div>\n",
       "<style scoped>\n",
       "    .dataframe tbody tr th:only-of-type {\n",
       "        vertical-align: middle;\n",
       "    }\n",
       "\n",
       "    .dataframe tbody tr th {\n",
       "        vertical-align: top;\n",
       "    }\n",
       "\n",
       "    .dataframe thead th {\n",
       "        text-align: right;\n",
       "    }\n",
       "</style>\n",
       "<table border=\"1\" class=\"dataframe\">\n",
       "  <thead>\n",
       "    <tr style=\"text-align: right;\">\n",
       "      <th></th>\n",
       "      <th>dataid</th>\n",
       "      <th>use</th>\n",
       "      <th>building_type</th>\n",
       "      <th>city</th>\n",
       "      <th>pv</th>\n",
       "      <th>house_construction_year</th>\n",
       "      <th>total_square_footage</th>\n",
       "      <th>EV</th>\n",
       "    </tr>\n",
       "  </thead>\n",
       "  <tbody>\n",
       "    <tr>\n",
       "      <th>count</th>\n",
       "      <td>214.000000</td>\n",
       "      <td>214.000000</td>\n",
       "      <td>214.000000</td>\n",
       "      <td>214.000000</td>\n",
       "      <td>214.000000</td>\n",
       "      <td>214.000000</td>\n",
       "      <td>214.000000</td>\n",
       "      <td>214.000000</td>\n",
       "    </tr>\n",
       "    <tr>\n",
       "      <th>mean</th>\n",
       "      <td>5194.817757</td>\n",
       "      <td>1.340019</td>\n",
       "      <td>0.939252</td>\n",
       "      <td>0.873832</td>\n",
       "      <td>0.640187</td>\n",
       "      <td>1990.742991</td>\n",
       "      <td>2250.808411</td>\n",
       "      <td>0.210280</td>\n",
       "    </tr>\n",
       "    <tr>\n",
       "      <th>std</th>\n",
       "      <td>3015.338041</td>\n",
       "      <td>0.728233</td>\n",
       "      <td>0.239427</td>\n",
       "      <td>0.332817</td>\n",
       "      <td>0.481071</td>\n",
       "      <td>24.654501</td>\n",
       "      <td>903.651633</td>\n",
       "      <td>0.408463</td>\n",
       "    </tr>\n",
       "    <tr>\n",
       "      <th>min</th>\n",
       "      <td>59.000000</td>\n",
       "      <td>0.208700</td>\n",
       "      <td>0.000000</td>\n",
       "      <td>0.000000</td>\n",
       "      <td>0.000000</td>\n",
       "      <td>1912.000000</td>\n",
       "      <td>758.000000</td>\n",
       "      <td>0.000000</td>\n",
       "    </tr>\n",
       "    <tr>\n",
       "      <th>25%</th>\n",
       "      <td>2682.000000</td>\n",
       "      <td>0.875196</td>\n",
       "      <td>1.000000</td>\n",
       "      <td>1.000000</td>\n",
       "      <td>0.000000</td>\n",
       "      <td>1971.500000</td>\n",
       "      <td>1652.000000</td>\n",
       "      <td>0.000000</td>\n",
       "    </tr>\n",
       "    <tr>\n",
       "      <th>50%</th>\n",
       "      <td>5260.500000</td>\n",
       "      <td>1.230613</td>\n",
       "      <td>1.000000</td>\n",
       "      <td>1.000000</td>\n",
       "      <td>1.000000</td>\n",
       "      <td>2007.000000</td>\n",
       "      <td>2122.000000</td>\n",
       "      <td>0.000000</td>\n",
       "    </tr>\n",
       "    <tr>\n",
       "      <th>75%</th>\n",
       "      <td>7923.750000</td>\n",
       "      <td>1.558529</td>\n",
       "      <td>1.000000</td>\n",
       "      <td>1.000000</td>\n",
       "      <td>1.000000</td>\n",
       "      <td>2008.000000</td>\n",
       "      <td>2669.000000</td>\n",
       "      <td>0.000000</td>\n",
       "    </tr>\n",
       "    <tr>\n",
       "      <th>max</th>\n",
       "      <td>9983.000000</td>\n",
       "      <td>6.188534</td>\n",
       "      <td>1.000000</td>\n",
       "      <td>1.000000</td>\n",
       "      <td>1.000000</td>\n",
       "      <td>2014.000000</td>\n",
       "      <td>6408.000000</td>\n",
       "      <td>1.000000</td>\n",
       "    </tr>\n",
       "  </tbody>\n",
       "</table>\n",
       "</div>"
      ],
      "text/plain": [
       "            dataid         use  building_type        city          pv  \\\n",
       "count   214.000000  214.000000     214.000000  214.000000  214.000000   \n",
       "mean   5194.817757    1.340019       0.939252    0.873832    0.640187   \n",
       "std    3015.338041    0.728233       0.239427    0.332817    0.481071   \n",
       "min      59.000000    0.208700       0.000000    0.000000    0.000000   \n",
       "25%    2682.000000    0.875196       1.000000    1.000000    0.000000   \n",
       "50%    5260.500000    1.230613       1.000000    1.000000    1.000000   \n",
       "75%    7923.750000    1.558529       1.000000    1.000000    1.000000   \n",
       "max    9983.000000    6.188534       1.000000    1.000000    1.000000   \n",
       "\n",
       "       house_construction_year  total_square_footage          EV  \n",
       "count               214.000000            214.000000  214.000000  \n",
       "mean               1990.742991           2250.808411    0.210280  \n",
       "std                  24.654501            903.651633    0.408463  \n",
       "min                1912.000000            758.000000    0.000000  \n",
       "25%                1971.500000           1652.000000    0.000000  \n",
       "50%                2007.000000           2122.000000    0.000000  \n",
       "75%                2008.000000           2669.000000    0.000000  \n",
       "max                2014.000000           6408.000000    1.000000  "
      ]
     },
     "execution_count": 27,
     "metadata": {},
     "output_type": "execute_result"
    }
   ],
   "source": [
    "df.describe()"
   ]
  },
  {
   "cell_type": "code",
   "execution_count": 28,
   "metadata": {},
   "outputs": [
    {
     "data": {
      "text/plain": [
       "EV\n",
       "0    169\n",
       "1     45\n",
       "Name: dataid, dtype: int64"
      ]
     },
     "execution_count": 28,
     "metadata": {},
     "output_type": "execute_result"
    }
   ],
   "source": [
    "df.groupby('EV').dataid.nunique()"
   ]
  },
  {
   "cell_type": "code",
   "execution_count": 29,
   "metadata": {},
   "outputs": [],
   "source": [
    "#create two dataframes for with and without EV\n",
    "EV = df.loc[(df['EV']==1)]\n",
    "NOEV = df.loc[(df['EV']==0)]"
   ]
  },
  {
   "cell_type": "code",
   "execution_count": 30,
   "metadata": {},
   "outputs": [
    {
     "data": {
      "image/png": "[encoded data removed]",
      "text/plain": [
       "<Figure size 432x288 with 1 Axes>"
      ]
     },
     "metadata": {
      "needs_background": "light"
     },
     "output_type": "display_data"
    }
   ],
   "source": [
    "#use a qq plot to look for normality\n",
    "import statsmodels.api as sm\n",
    "fig = sm.qqplot(EV['use'])\n",
    "plt.title(\"Energy ues for Homes with Electric Vehicles\")\n",
    "plt.show()"
   ]
  },
  {
   "cell_type": "code",
   "execution_count": 31,
   "metadata": {},
   "outputs": [
    {
     "data": {
      "image/png": "[encoded data removed]",
      "text/plain": [
       "<Figure size 432x288 with 1 Axes>"
      ]
     },
     "metadata": {
      "needs_background": "light"
     },
     "output_type": "display_data"
    }
   ],
   "source": [
    "#use qq plot for normality on non EV enerygy use\n",
    "fig = sm.qqplot(NOEV['use'])\n",
    "plt.title(\"Energy use for Homes without Electric Vehicles\")\n",
    "plt.show()"
   ]
  },
  {
   "cell_type": "code",
   "execution_count": 32,
   "metadata": {},
   "outputs": [
    {
     "name": "stdout",
     "output_type": "stream",
     "text": [
      "2.7922847933801256 0.007123712930791133\n"
     ]
    }
   ],
   "source": [
    "#calcualte df for difference smaple sizes t test\n",
    "import scipy as scipy\n",
    "from scipy import stats\n",
    "t2, p2 = stats.ttest_ind(EV['use'], NOEV['use'], equal_var=False)\n",
    "print(t2, p2)\n",
    "\n",
    "#The p-value is very small. We reject the null hypothesis. Homes with electric vehicles use more energy. "
   ]
  },
  {
   "cell_type": "code",
   "execution_count": 33,
   "metadata": {},
   "outputs": [
    {
     "data": {
      "text/plain": [
       "(205, 8)"
      ]
     },
     "execution_count": 33,
     "metadata": {},
     "output_type": "execute_result"
    }
   ],
   "source": [
    "#try removing outliers and see if plots look different\n",
    "sorteduse = df.sort_values(by=['use'])\n",
    "q1, q3 = np.percentile(sorteduse['use'], [25,75])\n",
    "IQR = q3 - q1\n",
    "lowerbound = q1 -(1.5*IQR)\n",
    "upperbound = q3 +(1.5*IQR)\n",
    "nooutlieruse = df.loc[(df['use']>lowerbound)&(df['use']<upperbound)]\n",
    "nooutlieruse.shape"
   ]
  },
  {
   "cell_type": "code",
   "execution_count": 34,
   "metadata": {},
   "outputs": [],
   "source": [
    "#create two dataframes for with and without EV\n",
    "EV = nooutlieruse.loc[(nooutlieruse['EV']==1)]\n",
    "NOEV = nooutlieruse.loc[(nooutlieruse['EV']==0)]"
   ]
  },
  {
   "cell_type": "code",
   "execution_count": 35,
   "metadata": {},
   "outputs": [
    {
     "data": {
      "image/png": "[encoded data removed]",
      "text/plain": [
       "<Figure size 432x288 with 1 Axes>"
      ]
     },
     "metadata": {
      "needs_background": "light"
     },
     "output_type": "display_data"
    }
   ],
   "source": [
    "#use a qq plot to look for normality\n",
    "import statsmodels.api as sm\n",
    "fig = sm.qqplot(EV['use'])\n",
    "plt.title(\"Energy use for homes with EV\")\n",
    "plt.show()"
   ]
  },
  {
   "cell_type": "code",
   "execution_count": 36,
   "metadata": {},
   "outputs": [
    {
     "data": {
      "image/png": "[encoded data removed]",
      "text/plain": [
       "<Figure size 432x288 with 1 Axes>"
      ]
     },
     "metadata": {
      "needs_background": "light"
     },
     "output_type": "display_data"
    }
   ],
   "source": [
    "#use qq plot for normality on non EV enerygy use\n",
    "fig = sm.qqplot(NOEV['use'])\n",
    "plt.title(\"Energy Use for homes without EV\")\n",
    "plt.show()\n"
   ]
  },
  {
   "cell_type": "code",
   "execution_count": 37,
   "metadata": {},
   "outputs": [
    {
     "name": "stdout",
     "output_type": "stream",
     "text": [
      "3.594083349469587 0.0006316145372417538\n"
     ]
    }
   ],
   "source": [
    "import scipy as scipy\n",
    "from scipy import stats\n",
    "t2, p2 = stats.ttest_ind(EV['use'], NOEV['use'], equal_var=False)\n",
    "print(t2, p2)\n",
    "\n",
    "#The p-value is very small. We reject the null hypothesis. Homes with electric vehicles use more energy."
   ]
  },
  {
   "cell_type": "markdown",
   "metadata": {},
   "source": [
    "## Correlation"
   ]
  },
  {
   "cell_type": "code",
   "execution_count": 38,
   "metadata": {},
   "outputs": [
    {
     "data": {
      "image/png": "[encoded data removed]",
      "text/plain": [
       "<Figure size 576x576 with 2 Axes>"
      ]
     },
     "metadata": {
      "needs_background": "light"
     },
     "output_type": "display_data"
    }
   ],
   "source": [
    "#correlation on original continous features\n",
    "variables = ['house_construction_year','total_square_footage']\n",
    "target = 'use'\n",
    "cm = np.corrcoef(df[variables + [target]].T)\n",
    "# Get heat map\n",
    "plt.figure(figsize=(8,8))\n",
    "hm = sns.heatmap(cm,\n",
    "                 cbar=True,\n",
    "                 annot=True,\n",
    "                 square=True,\n",
    "                 fmt='.2f',\n",
    "                 annot_kws={'size': 15},\n",
    "                 yticklabels=variables + [target],\n",
    "                 xticklabels=variables + [target])\n",
    "\n",
    "# Show heat map\n",
    "plt.tight_layout()\n",
    "plt.show()"
   ]
  },
  {
   "cell_type": "markdown",
   "metadata": {},
   "source": [
    "### train test split"
   ]
  },
  {
   "cell_type": "code",
   "execution_count": 39,
   "metadata": {},
   "outputs": [],
   "source": [
    "# Specify the name of the target\n",
    "target = 'EV'\n",
    "\n",
    "# Get the target vector\n",
    "y= df[target]\n",
    "\n",
    "features = df.drop('dataid', axis=1)\n",
    "# Specify the name of the features\n",
    "features = list(features.drop(target,axis=1).columns)\n",
    "\n",
    "\n",
    "# Get the feature vector\n",
    "x= df[features]"
   ]
  },
  {
   "cell_type": "code",
   "execution_count": 40,
   "metadata": {},
   "outputs": [],
   "source": [
    "from sklearn.model_selection import train_test_split\n",
    "\n",
    "# Randomly choose 30% of the data for testing (using random_state = 0)\n",
    "X_train, X_test, y_train, y_test = train_test_split(x, y, test_size=0.3, random_state=0, stratify=y)"
   ]
  },
  {
   "cell_type": "code",
   "execution_count": 41,
   "metadata": {},
   "outputs": [
    {
     "data": {
      "text/plain": [
       "['use',\n",
       " 'building_type',\n",
       " 'city',\n",
       " 'pv',\n",
       " 'house_construction_year',\n",
       " 'total_square_footage']"
      ]
     },
     "execution_count": 41,
     "metadata": {},
     "output_type": "execute_result"
    }
   ],
   "source": [
    "features"
   ]
  },
  {
   "cell_type": "markdown",
   "metadata": {},
   "source": [
    "### oversampling"
   ]
  },
  {
   "cell_type": "code",
   "execution_count": 42,
   "metadata": {},
   "outputs": [],
   "source": [
    "#oversampling\n",
    "from imblearn import over_sampling, under_sampling\n",
    "from imblearn.over_sampling import SMOTE\n",
    "sm = SMOTE(random_state=12, ratio = 1)\n",
    "x_train_res, y_train_res = sm.fit_sample(X_train, y_train)"
   ]
  },
  {
   "cell_type": "code",
   "execution_count": 43,
   "metadata": {},
   "outputs": [
    {
     "data": {
      "text/plain": [
       "'0.4.3'"
      ]
     },
     "execution_count": 43,
     "metadata": {},
     "output_type": "execute_result"
    }
   ],
   "source": [
    "import imblearn\n",
    "imblearn.__version__"
   ]
  },
  {
   "cell_type": "code",
   "execution_count": 44,
   "metadata": {},
   "outputs": [
    {
     "data": {
      "text/plain": [
       "(array([0, 1], dtype=int64), array([118, 118], dtype=int64))"
      ]
     },
     "execution_count": 44,
     "metadata": {},
     "output_type": "execute_result"
    }
   ],
   "source": [
    "np.unique(y_train_res, return_counts=True)\n"
   ]
  },
  {
   "cell_type": "markdown",
   "metadata": {},
   "source": [
    "### standardize"
   ]
  },
  {
   "cell_type": "code",
   "execution_count": 45,
   "metadata": {},
   "outputs": [
    {
     "name": "stderr",
     "output_type": "stream",
     "text": [
      "C:\\Users\\Krystin\\Anaconda3\\envs\\pecanpy-dev\\lib\\site-packages\\ipykernel_launcher.py:9: DataConversionWarning: Data with input dtype int32, int64, float64 were all converted to float64 by StandardScaler.\n",
      "  if __name__ == '__main__':\n"
     ]
    }
   ],
   "source": [
    "from sklearn.preprocessing import StandardScaler\n",
    "\n",
    "std_scaler = StandardScaler()\n",
    "\n",
    "# Standardize the training data\n",
    "x_train_res = std_scaler.fit_transform(x_train_res)\n",
    "\n",
    "# Standardize the testing data\n",
    "X_test = std_scaler.transform(X_test)"
   ]
  },
  {
   "cell_type": "markdown",
   "metadata": {},
   "source": [
    "### logistic regression model"
   ]
  },
  {
   "cell_type": "code",
   "execution_count": 46,
   "metadata": {},
   "outputs": [
    {
     "name": "stdout",
     "output_type": "stream",
     "text": [
      "Optimization terminated successfully.\n",
      "         Current function value: 0.535040\n",
      "         Iterations 6\n",
      "                         Results: Logit\n",
      "=================================================================\n",
      "Model:              Logit            Pseudo R-squared: 0.228     \n",
      "Dependent Variable: y                AIC:              264.5388  \n",
      "Date:               2019-04-07 15:53 BIC:              285.3218  \n",
      "No. Observations:   236              Log-Likelihood:   -126.27   \n",
      "Df Model:           5                LL-Null:          -163.58   \n",
      "Df Residuals:       230              LLR p-value:      1.1131e-14\n",
      "Converged:          1.0000           Scale:            1.0000    \n",
      "No. Iterations:     6.0000                                       \n",
      "--------------------------------------------------------------------\n",
      "       Coef.     Std.Err.       z       P>|z|      [0.025     0.975]\n",
      "--------------------------------------------------------------------\n",
      "x1     0.4958      0.2597     1.9091    0.0563    -0.0132     1.0049\n",
      "x2    -0.5296      0.1859    -2.8494    0.0044    -0.8940    -0.1653\n",
      "x3     0.2755      0.2031     1.3563    0.1750    -0.1226     0.6736\n",
      "x4     1.4437      0.2678     5.3904    0.0000     0.9188     1.9687\n",
      "x5    -0.5460      0.2504    -2.1803    0.0292    -1.0368    -0.0552\n",
      "x6     0.0939      0.2549     0.3686    0.7124    -0.4056     0.5935\n",
      "=================================================================\n",
      "\n"
     ]
    }
   ],
   "source": [
    "import statsmodels.api as statsmodels\n",
    "\n",
    "logit_model = statsmodels.Logit(y_train_res, x_train_res)\n",
    "\n",
    "result = logit_model.fit()\n",
    "\n",
    "print(result.summary2())"
   ]
  },
  {
   "cell_type": "markdown",
   "metadata": {},
   "source": [
    "### Feature Importance"
   ]
  },
  {
   "cell_type": "code",
   "execution_count": 47,
   "metadata": {},
   "outputs": [
    {
     "name": "stdout",
     "output_type": "stream",
     "text": [
      "Accuracy on train: 0.9449152542372882 Accuracy on test: 0.6923076923076923\n"
     ]
    }
   ],
   "source": [
    "# Delcare the model\n",
    "rf = RandomForestClassifier(criterion='entropy',\n",
    "            min_samples_leaf=2, min_samples_split=8,\n",
    "                            n_estimators=40, n_jobs=1)\n",
    "\n",
    "# Train the model\n",
    "# use the fit method\n",
    "result = rf.fit(x_train_res, y_train_res)\n",
    "\n",
    "\n",
    "# Print the accuracy\n",
    "print('Accuracy on train: ' + str(rf.score(x_train_res, y_train_res)), 'Accuracy on test: ' + str(rf.score(X_test, y_test)))"
   ]
  },
  {
   "cell_type": "code",
   "execution_count": 48,
   "metadata": {},
   "outputs": [],
   "source": [
    "traindataframe = pd.DataFrame(x_train_res, columns=[features])\n"
   ]
  },
  {
   "cell_type": "code",
   "execution_count": 49,
   "metadata": {},
   "outputs": [
    {
     "data": {
      "image/png": "[encoded data removed]",
      "text/plain": [
       "<Figure size 1152x648 with 1 Axes>"
      ]
     },
     "metadata": {
      "needs_background": "light"
     },
     "output_type": "display_data"
    }
   ],
   "source": [
    "\n",
    "import matplotlib.pyplot as plt\n",
    "\n",
    "# Convert the importances into one-dimensional 1darray with corresponding df column names as axis labels\n",
    "# Implement me\n",
    "f_importances = pd.Series(rf.feature_importances_, traindataframe.columns)\n",
    "\n",
    "# Sort the array in descending order of the importances\n",
    "# Implement me\n",
    "f_importances = f_importances.sort_values(ascending=False)\n",
    "\n",
    "# Draw the bar Plot from f_importances \n",
    "f_importances.plot(x='Features', y='Importance', kind='bar', figsize=(16,9), rot=45, fontsize=20)\n",
    "\n",
    "# Show the plot\n",
    "plt.tight_layout()\n",
    "plt.show()"
   ]
  },
  {
   "cell_type": "markdown",
   "metadata": {},
   "source": [
    "### feature engineering"
   ]
  },
  {
   "cell_type": "code",
   "execution_count": 50,
   "metadata": {},
   "outputs": [
    {
     "data": {
      "text/html": [
       "<div>\n",
       "<style scoped>\n",
       "    .dataframe tbody tr th:only-of-type {\n",
       "        vertical-align: middle;\n",
       "    }\n",
       "\n",
       "    .dataframe tbody tr th {\n",
       "        vertical-align: top;\n",
       "    }\n",
       "\n",
       "    .dataframe thead th {\n",
       "        text-align: right;\n",
       "    }\n",
       "</style>\n",
       "<table border=\"1\" class=\"dataframe\">\n",
       "  <thead>\n",
       "    <tr style=\"text-align: right;\">\n",
       "      <th></th>\n",
       "      <th>dataid</th>\n",
       "      <th>use</th>\n",
       "      <th>building_type</th>\n",
       "      <th>city</th>\n",
       "      <th>pv</th>\n",
       "      <th>total_square_footage</th>\n",
       "      <th>EV</th>\n",
       "      <th>age_of_house</th>\n",
       "    </tr>\n",
       "  </thead>\n",
       "  <tbody>\n",
       "    <tr>\n",
       "      <th>0</th>\n",
       "      <td>59</td>\n",
       "      <td>1.752956</td>\n",
       "      <td>1</td>\n",
       "      <td>1</td>\n",
       "      <td>0</td>\n",
       "      <td>3825.0</td>\n",
       "      <td>0</td>\n",
       "      <td>8.0</td>\n",
       "    </tr>\n",
       "    <tr>\n",
       "      <th>1</th>\n",
       "      <td>77</td>\n",
       "      <td>1.638684</td>\n",
       "      <td>1</td>\n",
       "      <td>1</td>\n",
       "      <td>1</td>\n",
       "      <td>2669.0</td>\n",
       "      <td>0</td>\n",
       "      <td>10.0</td>\n",
       "    </tr>\n",
       "    <tr>\n",
       "      <th>2</th>\n",
       "      <td>86</td>\n",
       "      <td>1.495249</td>\n",
       "      <td>1</td>\n",
       "      <td>1</td>\n",
       "      <td>0</td>\n",
       "      <td>1788.0</td>\n",
       "      <td>0</td>\n",
       "      <td>71.0</td>\n",
       "    </tr>\n",
       "    <tr>\n",
       "      <th>3</th>\n",
       "      <td>93</td>\n",
       "      <td>1.051423</td>\n",
       "      <td>1</td>\n",
       "      <td>1</td>\n",
       "      <td>1</td>\n",
       "      <td>2934.0</td>\n",
       "      <td>0</td>\n",
       "      <td>26.0</td>\n",
       "    </tr>\n",
       "    <tr>\n",
       "      <th>4</th>\n",
       "      <td>94</td>\n",
       "      <td>0.691208</td>\n",
       "      <td>1</td>\n",
       "      <td>1</td>\n",
       "      <td>0</td>\n",
       "      <td>1713.0</td>\n",
       "      <td>0</td>\n",
       "      <td>44.0</td>\n",
       "    </tr>\n",
       "  </tbody>\n",
       "</table>\n",
       "</div>"
      ],
      "text/plain": [
       "   dataid       use  building_type  city  pv  total_square_footage  EV  \\\n",
       "0      59  1.752956              1     1   0                3825.0   0   \n",
       "1      77  1.638684              1     1   1                2669.0   0   \n",
       "2      86  1.495249              1     1   0                1788.0   0   \n",
       "3      93  1.051423              1     1   1                2934.0   0   \n",
       "4      94  0.691208              1     1   0                1713.0   0   \n",
       "\n",
       "   age_of_house  \n",
       "0           8.0  \n",
       "1          10.0  \n",
       "2          71.0  \n",
       "3          26.0  \n",
       "4          44.0  "
      ]
     },
     "execution_count": 50,
     "metadata": {},
     "output_type": "execute_result"
    }
   ],
   "source": [
    "# convert house construction year to age of home\n",
    "df2 = df.copy(deep=False)\n",
    "df2['current_year'] = 2019\n",
    "df2['age_of_house'] = df2['current_year'] - df2['house_construction_year']\n",
    "df2 = df2.drop(['current_year', 'house_construction_year'], axis=1)\n",
    "df2.head()"
   ]
  },
  {
   "cell_type": "code",
   "execution_count": 51,
   "metadata": {},
   "outputs": [
    {
     "data": {
      "image/png": "[encoded data removed]",
      "text/plain": [
       "<Figure size 432x288 with 1 Axes>"
      ]
     },
     "metadata": {
      "needs_background": "light"
     },
     "output_type": "display_data"
    }
   ],
   "source": [
    "boxplotuse = df2.boxplot(column=['age_of_house'], by = 'EV',fontsize=10)\n",
    "plt.suptitle(\"\")\n",
    "plt.show()"
   ]
  },
  {
   "cell_type": "code",
   "execution_count": 52,
   "metadata": {},
   "outputs": [
    {
     "data": {
      "image/png": "[encoded data removed]",
      "text/plain": [
       "<Figure size 432x288 with 1 Axes>"
      ]
     },
     "metadata": {
      "needs_background": "light"
     },
     "output_type": "display_data"
    }
   ],
   "source": [
    "#histogram of age of house\n",
    "plt.hist(df2['age_of_house'])\n",
    "plt.title(\"histogram of Age of House\")\n",
    "plt.show()"
   ]
  },
  {
   "cell_type": "code",
   "execution_count": 53,
   "metadata": {},
   "outputs": [
    {
     "data": {
      "text/html": [
       "<div>\n",
       "<style scoped>\n",
       "    .dataframe tbody tr th:only-of-type {\n",
       "        vertical-align: middle;\n",
       "    }\n",
       "\n",
       "    .dataframe tbody tr th {\n",
       "        vertical-align: top;\n",
       "    }\n",
       "\n",
       "    .dataframe thead th {\n",
       "        text-align: right;\n",
       "    }\n",
       "</style>\n",
       "<table border=\"1\" class=\"dataframe\">\n",
       "  <thead>\n",
       "    <tr style=\"text-align: right;\">\n",
       "      <th></th>\n",
       "      <th>dataid</th>\n",
       "      <th>use</th>\n",
       "      <th>building_type</th>\n",
       "      <th>city</th>\n",
       "      <th>pv</th>\n",
       "      <th>total_square_footage</th>\n",
       "      <th>EV</th>\n",
       "      <th>age_of_house</th>\n",
       "    </tr>\n",
       "  </thead>\n",
       "  <tbody>\n",
       "    <tr>\n",
       "      <th>0</th>\n",
       "      <td>59</td>\n",
       "      <td>46067.678810</td>\n",
       "      <td>1</td>\n",
       "      <td>1</td>\n",
       "      <td>0</td>\n",
       "      <td>3825.0</td>\n",
       "      <td>0</td>\n",
       "      <td>8.0</td>\n",
       "    </tr>\n",
       "    <tr>\n",
       "      <th>1</th>\n",
       "      <td>77</td>\n",
       "      <td>43064.619488</td>\n",
       "      <td>1</td>\n",
       "      <td>1</td>\n",
       "      <td>1</td>\n",
       "      <td>2669.0</td>\n",
       "      <td>0</td>\n",
       "      <td>10.0</td>\n",
       "    </tr>\n",
       "    <tr>\n",
       "      <th>2</th>\n",
       "      <td>86</td>\n",
       "      <td>39295.153227</td>\n",
       "      <td>1</td>\n",
       "      <td>1</td>\n",
       "      <td>0</td>\n",
       "      <td>1788.0</td>\n",
       "      <td>0</td>\n",
       "      <td>71.0</td>\n",
       "    </tr>\n",
       "    <tr>\n",
       "      <th>3</th>\n",
       "      <td>93</td>\n",
       "      <td>27631.404293</td>\n",
       "      <td>1</td>\n",
       "      <td>1</td>\n",
       "      <td>1</td>\n",
       "      <td>2934.0</td>\n",
       "      <td>0</td>\n",
       "      <td>26.0</td>\n",
       "    </tr>\n",
       "    <tr>\n",
       "      <th>4</th>\n",
       "      <td>94</td>\n",
       "      <td>18164.954785</td>\n",
       "      <td>1</td>\n",
       "      <td>1</td>\n",
       "      <td>0</td>\n",
       "      <td>1713.0</td>\n",
       "      <td>0</td>\n",
       "      <td>44.0</td>\n",
       "    </tr>\n",
       "  </tbody>\n",
       "</table>\n",
       "</div>"
      ],
      "text/plain": [
       "   dataid           use  building_type  city  pv  total_square_footage  EV  \\\n",
       "0      59  46067.678810              1     1   0                3825.0   0   \n",
       "1      77  43064.619488              1     1   1                2669.0   0   \n",
       "2      86  39295.153227              1     1   0                1788.0   0   \n",
       "3      93  27631.404293              1     1   1                2934.0   0   \n",
       "4      94  18164.954785              1     1   0                1713.0   0   \n",
       "\n",
       "   age_of_house  \n",
       "0           8.0  \n",
       "1          10.0  \n",
       "2          71.0  \n",
       "3          26.0  \n",
       "4          44.0  "
      ]
     },
     "execution_count": 53,
     "metadata": {},
     "output_type": "execute_result"
    }
   ],
   "source": [
    "#make use total for three years in stead of average hourly\n",
    "\n",
    "#how many hours in 3 years\n",
    "hoursinthreeyears = 24*365*3\n",
    "df2['use'] = df2['use']*hoursinthreeyears\n",
    "df2.head()"
   ]
  },
  {
   "cell_type": "code",
   "execution_count": 54,
   "metadata": {},
   "outputs": [
    {
     "data": {
      "image/png": "[encoded data removed]",
      "text/plain": [
       "<Figure size 432x288 with 1 Axes>"
      ]
     },
     "metadata": {
      "needs_background": "light"
     },
     "output_type": "display_data"
    }
   ],
   "source": [
    "#check for normality wihtout outliers\n",
    "boxplotuse = df2.boxplot(column=['use'], by = 'EV')\n",
    "plt.suptitle(\"\")\n",
    "plt.show()"
   ]
  },
  {
   "cell_type": "code",
   "execution_count": 55,
   "metadata": {},
   "outputs": [
    {
     "data": {
      "image/png": "[encoded data removed]",
      "text/plain": [
       "<Figure size 432x288 with 1 Axes>"
      ]
     },
     "metadata": {
      "needs_background": "light"
     },
     "output_type": "display_data"
    }
   ],
   "source": [
    "#look at enregy use\n",
    "plt.hist(df2['use'])\n",
    "plt.title(\"histogram of energy use\")\n",
    "plt.show()"
   ]
  },
  {
   "cell_type": "code",
   "execution_count": 56,
   "metadata": {},
   "outputs": [],
   "source": [
    "#plot EV with other features to see how they relate\n",
    "groupbyEV =df2.groupby('EV')"
   ]
  },
  {
   "cell_type": "code",
   "execution_count": 57,
   "metadata": {},
   "outputs": [
    {
     "name": "stderr",
     "output_type": "stream",
     "text": [
      "No handles with labels found to put in legend.\n"
     ]
    },
    {
     "data": {
      "text/plain": [
       "<matplotlib.legend.Legend at 0x1bda9d4b940>"
      ]
     },
     "execution_count": 57,
     "metadata": {},
     "output_type": "execute_result"
    },
    {
     "data": {
      "image/png": "[encoded data removed]",
      "text/plain": [
       "<Figure size 864x720 with 3 Axes>"
      ]
     },
     "metadata": {
      "needs_background": "light"
     },
     "output_type": "display_data"
    }
   ],
   "source": [
    "fig, axes = plt.subplots(nrows=1, ncols=3, figsize=(12,10))\n",
    "for axis, col in zip(axes, ['use', 'total_square_footage', 'age_of_house']):\n",
    "    groupbyEV[col].hist(ax=axis)\n",
    "plt.legend()"
   ]
  },
  {
   "cell_type": "code",
   "execution_count": 58,
   "metadata": {},
   "outputs": [
    {
     "data": {
      "image/png": "[encoded data removed]",
      "text/plain": [
       "<Figure size 432x288 with 1 Axes>"
      ]
     },
     "metadata": {
      "needs_background": "light"
     },
     "output_type": "display_data"
    },
    {
     "data": {
      "image/png": "[encoded data removed]",
      "text/plain": [
       "<Figure size 432x288 with 1 Axes>"
      ]
     },
     "metadata": {
      "needs_background": "light"
     },
     "output_type": "display_data"
    },
    {
     "data": {
      "image/png": "[encoded data removed]",
      "text/plain": [
       "<Figure size 432x288 with 1 Axes>"
      ]
     },
     "metadata": {
      "needs_background": "light"
     },
     "output_type": "display_data"
    }
   ],
   "source": [
    "boxplotuse = df2.boxplot(column=['use'], by = 'EV')\n",
    "plt.suptitle(\"\")\n",
    "plt.show()\n",
    "boxplotyear = df2.boxplot(column=['age_of_house'], by = 'EV')\n",
    "plt.suptitle(\"\")\n",
    "plt.show()\n",
    "boxplotsqfeet = df2.boxplot(column=['total_square_footage'], by = 'EV')\n",
    "plt.suptitle(\"\")\n",
    "plt.show()\n"
   ]
  },
  {
   "cell_type": "markdown",
   "metadata": {},
   "source": [
    "### t test for different in energy use by houses with and without EV"
   ]
  },
  {
   "cell_type": "code",
   "execution_count": 59,
   "metadata": {},
   "outputs": [
    {
     "data": {
      "text/plain": [
       "(205, 8)"
      ]
     },
     "execution_count": 59,
     "metadata": {},
     "output_type": "execute_result"
    }
   ],
   "source": [
    "# first check for normality from boxplots\n",
    "#get rid of outliers\n",
    "#outliers for use\n",
    "sorteduse = df2.sort_values(by=['use'])\n",
    "q1, q3 = np.percentile(sorteduse['use'], [25,75])\n",
    "IQR = q3 - q1\n",
    "lowerbound = q1 -(1.5*IQR)\n",
    "upperbound = q3 +(1.5*IQR)\n",
    "df2 = df2.loc[(df2['use']>lowerbound)&(df2['use']<upperbound)]\n",
    "df2.shape"
   ]
  },
  {
   "cell_type": "code",
   "execution_count": 60,
   "metadata": {},
   "outputs": [
    {
     "data": {
      "image/png": "[encoded data removed]",
      "text/plain": [
       "<Figure size 432x288 with 1 Axes>"
      ]
     },
     "metadata": {
      "needs_background": "light"
     },
     "output_type": "display_data"
    }
   ],
   "source": [
    "#check for normality wihtout outliers\n",
    "boxplotuse = df2.boxplot(column=['use'], by = 'EV')\n",
    "plt.suptitle(\"\")\n",
    "plt.show()"
   ]
  },
  {
   "cell_type": "code",
   "execution_count": 61,
   "metadata": {},
   "outputs": [],
   "source": [
    "#create two dataframes for with and without EV\n",
    "EV = df2.loc[(df2['EV']==1)]\n",
    "NOEV = df2.loc[(df2['EV']==0)]"
   ]
  },
  {
   "cell_type": "code",
   "execution_count": 62,
   "metadata": {},
   "outputs": [
    {
     "data": {
      "image/png": "[encoded data removed]",
      "text/plain": [
       "<Figure size 432x288 with 1 Axes>"
      ]
     },
     "metadata": {
      "needs_background": "light"
     },
     "output_type": "display_data"
    }
   ],
   "source": [
    "#use qq plot for normality on EV enerygy use\n",
    "import statsmodels.api as sm\n",
    "fig = sm.qqplot(EV['use'])\n",
    "plt.title(\"Energy Use with EV homes\")\n",
    "plt.show()"
   ]
  },
  {
   "cell_type": "code",
   "execution_count": 63,
   "metadata": {},
   "outputs": [
    {
     "data": {
      "image/png": "[encoded data removed]",
      "text/plain": [
       "<Figure size 432x288 with 1 Axes>"
      ]
     },
     "metadata": {
      "needs_background": "light"
     },
     "output_type": "display_data"
    }
   ],
   "source": [
    "#use qq plot for normality on non EV enerygy use\n",
    "fig = sm.qqplot(NOEV['use'])\n",
    "plt.title(\"Energy Use without EV homes\")\n",
    "plt.show()"
   ]
  },
  {
   "cell_type": "code",
   "execution_count": 64,
   "metadata": {},
   "outputs": [
    {
     "name": "stdout",
     "output_type": "stream",
     "text": [
      "3.5940833494695887 0.0006316145372417507\n"
     ]
    }
   ],
   "source": [
    "#calcualte df for difference smaple sizes t test\n",
    "import scipy as scipy\n",
    "from scipy import stats\n",
    "t2, p2 = stats.ttest_ind(EV['use'], NOEV['use'], equal_var=False)\n",
    "print(t2, p2)\n",
    "\n",
    "#The p-value is very small. We reject the null hypothesis. Homes with electric vehicles use more energy. "
   ]
  },
  {
   "cell_type": "markdown",
   "metadata": {},
   "source": [
    "### Correlation"
   ]
  },
  {
   "cell_type": "code",
   "execution_count": 65,
   "metadata": {},
   "outputs": [],
   "source": [
    "#run a correlation on continuous variables\n",
    "\n",
    "# Get correlation matrix, where each entry is the Pearson product-moment correlation coefficients\n",
    "variables = ['age_of_house','total_square_footage']\n",
    "target = 'use'\n",
    "cm = np.corrcoef(df2[variables + [target]].T)"
   ]
  },
  {
   "cell_type": "code",
   "execution_count": 66,
   "metadata": {},
   "outputs": [
    {
     "data": {
      "image/png": "[encoded data removed]",
      "text/plain": [
       "<Figure size 576x576 with 2 Axes>"
      ]
     },
     "metadata": {
      "needs_background": "light"
     },
     "output_type": "display_data"
    }
   ],
   "source": [
    "# Get heat map\n",
    "plt.figure(figsize=(8,8))\n",
    "hm = sns.heatmap(cm,\n",
    "                 cbar=True,\n",
    "                 annot=True,\n",
    "                 square=True,\n",
    "                 fmt='.2f',\n",
    "                 annot_kws={'size': 15},\n",
    "                 yticklabels=variables + [target],\n",
    "                 xticklabels=variables + [target])\n",
    "\n",
    "# Show heat map\n",
    "plt.tight_layout()\n",
    "plt.show()"
   ]
  },
  {
   "cell_type": "markdown",
   "metadata": {},
   "source": [
    "## Logistic Regression and Random Forest on featured Engineering dataframe"
   ]
  },
  {
   "cell_type": "code",
   "execution_count": 67,
   "metadata": {},
   "outputs": [
    {
     "name": "stdout",
     "output_type": "stream",
     "text": [
      "Optimization terminated successfully.\n",
      "         Current function value: 0.537111\n",
      "         Iterations 6\n",
      "                         Results: Logit\n",
      "=================================================================\n",
      "Model:              Logit            Pseudo R-squared: 0.225     \n",
      "Dependent Variable: y                AIC:              256.9224  \n",
      "Date:               2019-04-07 15:54 BIC:              277.4985  \n",
      "No. Observations:   228              Log-Likelihood:   -122.46   \n",
      "Df Model:           5                LL-Null:          -158.04   \n",
      "Df Residuals:       222              LLR p-value:      5.8975e-14\n",
      "Converged:          1.0000           Scale:            1.0000    \n",
      "No. Iterations:     6.0000                                       \n",
      "--------------------------------------------------------------------\n",
      "       Coef.     Std.Err.       z       P>|z|      [0.025     0.975]\n",
      "--------------------------------------------------------------------\n",
      "x1     0.5638      0.2250     2.5052    0.0122     0.1227     1.0048\n",
      "x2    -0.5998      0.1947    -3.0800    0.0021    -0.9815    -0.2181\n",
      "x3     0.1521      0.1884     0.8073    0.4195    -0.2172     0.5214\n",
      "x4     1.1648      0.2326     5.0075    0.0000     0.7089     1.6207\n",
      "x5     0.1686      0.2356     0.7156    0.4742    -0.2931     0.6303\n",
      "x6     0.1808      0.2206     0.8199    0.4123    -0.2515     0.6132\n",
      "=================================================================\n",
      "\n"
     ]
    },
    {
     "name": "stderr",
     "output_type": "stream",
     "text": [
      "C:\\Users\\Krystin\\Anaconda3\\envs\\pecanpy-dev\\lib\\site-packages\\ipykernel_launcher.py:32: DataConversionWarning: Data with input dtype int32, int64, float64 were all converted to float64 by StandardScaler.\n"
     ]
    }
   ],
   "source": [
    "#run test on featured engineered variables\n",
    "# Specify the name of the target\n",
    "target = 'EV'\n",
    "\n",
    "# Get the target vector\n",
    "y= df2[target]\n",
    "\n",
    "features = df2.drop('dataid', axis=1)\n",
    "# Specify the name of the features\n",
    "features = list(features.drop(target,axis=1).columns)\n",
    "\n",
    "\n",
    "# Get the feature vector\n",
    "x= df2[features]\n",
    "from sklearn.model_selection import train_test_split\n",
    "\n",
    "# Randomly choose 30% of the data for testing (using random_state = 0)\n",
    "X_train, X_test, y_train, y_test = train_test_split(x, y, test_size=0.3, random_state=0, stratify=y)\n",
    "\n",
    "features\n",
    "#oversampling\n",
    "sm = SMOTE(random_state=12, ratio =1.0)\n",
    "x_train_res, y_train_res = sm.fit_sample(X_train, y_train)\n",
    "\n",
    "#standardize\n",
    "std_scaler = StandardScaler()\n",
    "\n",
    "# Standardize the training data\n",
    "x_train_res = std_scaler.fit_transform(x_train_res)\n",
    "\n",
    "# Standardize the testing data\n",
    "X_test = std_scaler.transform(X_test)\n",
    "\n",
    "#logistic regression model\n",
    "logit_model = statsmodels.Logit(y_train_res, x_train_res)\n",
    "\n",
    "result = logit_model.fit()\n",
    "\n",
    "print(result.summary2())"
   ]
  },
  {
   "cell_type": "code",
   "execution_count": 68,
   "metadata": {},
   "outputs": [
    {
     "name": "stdout",
     "output_type": "stream",
     "text": [
      "Accuracy on train: 0.9298245614035088 Accuracy on test: 0.6935483870967742\n"
     ]
    }
   ],
   "source": [
    "#random forest feature importance\n",
    "# Delcare the model\n",
    "rf = RandomForestClassifier(criterion='entropy',\n",
    "            min_samples_leaf=2, min_samples_split=8,\n",
    "                            n_estimators=40, n_jobs=1)\n",
    "\n",
    "# Train the model\n",
    "# use the fit method\n",
    "result = rf.fit(x_train_res, y_train_res)\n",
    "\n",
    "\n",
    "# Print the accuracy\n",
    "print('Accuracy on train: ' + str(rf.score(x_train_res, y_train_res)), 'Accuracy on test: ' + str(rf.score(X_test, y_test)))"
   ]
  },
  {
   "cell_type": "code",
   "execution_count": 69,
   "metadata": {},
   "outputs": [],
   "source": [
    "traindataframe = pd.DataFrame(x_train_res, columns=features)\n"
   ]
  },
  {
   "cell_type": "code",
   "execution_count": 70,
   "metadata": {},
   "outputs": [
    {
     "data": {
      "image/png": "[encoded data removed]",
      "text/plain": [
       "<Figure size 1152x648 with 1 Axes>"
      ]
     },
     "metadata": {
      "needs_background": "light"
     },
     "output_type": "display_data"
    }
   ],
   "source": [
    "# Convert the importances into one-dimensional 1darray with corresponding df column names as axis labels\n",
    "# Implement me\n",
    "f_importances = pd.Series(rf.feature_importances_, traindataframe.columns)\n",
    "\n",
    "# Sort the array in descending order of the importances\n",
    "# Implement me\n",
    "f_importances = f_importances.sort_values(ascending=False)\n",
    "\n",
    "# Draw the bar Plot from f_importances \n",
    "f_importances.plot(x='Features', y='Importance', kind='bar', figsize=(16,9), rot=45, fontsize=20)\n",
    "\n",
    "# Show the plot\n",
    "plt.tight_layout()\n",
    "plt.show()"
   ]
  },
  {
   "cell_type": "markdown",
   "metadata": {},
   "source": [
    "## Feature Engineering \n",
    "### Let's try use/square feet"
   ]
  },
  {
   "cell_type": "code",
   "execution_count": 71,
   "metadata": {},
   "outputs": [
    {
     "data": {
      "text/html": [
       "<div>\n",
       "<style scoped>\n",
       "    .dataframe tbody tr th:only-of-type {\n",
       "        vertical-align: middle;\n",
       "    }\n",
       "\n",
       "    .dataframe tbody tr th {\n",
       "        vertical-align: top;\n",
       "    }\n",
       "\n",
       "    .dataframe thead th {\n",
       "        text-align: right;\n",
       "    }\n",
       "</style>\n",
       "<table border=\"1\" class=\"dataframe\">\n",
       "  <thead>\n",
       "    <tr style=\"text-align: right;\">\n",
       "      <th></th>\n",
       "      <th>dataid</th>\n",
       "      <th>building_type</th>\n",
       "      <th>city</th>\n",
       "      <th>pv</th>\n",
       "      <th>EV</th>\n",
       "      <th>age_of_house</th>\n",
       "      <th>use/sqft</th>\n",
       "    </tr>\n",
       "  </thead>\n",
       "  <tbody>\n",
       "    <tr>\n",
       "      <th>0</th>\n",
       "      <td>59</td>\n",
       "      <td>1</td>\n",
       "      <td>1</td>\n",
       "      <td>0</td>\n",
       "      <td>0</td>\n",
       "      <td>8.0</td>\n",
       "      <td>12.043838</td>\n",
       "    </tr>\n",
       "    <tr>\n",
       "      <th>1</th>\n",
       "      <td>77</td>\n",
       "      <td>1</td>\n",
       "      <td>1</td>\n",
       "      <td>1</td>\n",
       "      <td>0</td>\n",
       "      <td>10.0</td>\n",
       "      <td>16.135114</td>\n",
       "    </tr>\n",
       "    <tr>\n",
       "      <th>2</th>\n",
       "      <td>86</td>\n",
       "      <td>1</td>\n",
       "      <td>1</td>\n",
       "      <td>0</td>\n",
       "      <td>0</td>\n",
       "      <td>71.0</td>\n",
       "      <td>21.977155</td>\n",
       "    </tr>\n",
       "    <tr>\n",
       "      <th>3</th>\n",
       "      <td>93</td>\n",
       "      <td>1</td>\n",
       "      <td>1</td>\n",
       "      <td>1</td>\n",
       "      <td>0</td>\n",
       "      <td>26.0</td>\n",
       "      <td>9.417657</td>\n",
       "    </tr>\n",
       "    <tr>\n",
       "      <th>4</th>\n",
       "      <td>94</td>\n",
       "      <td>1</td>\n",
       "      <td>1</td>\n",
       "      <td>0</td>\n",
       "      <td>0</td>\n",
       "      <td>44.0</td>\n",
       "      <td>10.604177</td>\n",
       "    </tr>\n",
       "  </tbody>\n",
       "</table>\n",
       "</div>"
      ],
      "text/plain": [
       "   dataid  building_type  city  pv  EV  age_of_house   use/sqft\n",
       "0      59              1     1   0   0           8.0  12.043838\n",
       "1      77              1     1   1   0          10.0  16.135114\n",
       "2      86              1     1   0   0          71.0  21.977155\n",
       "3      93              1     1   1   0          26.0   9.417657\n",
       "4      94              1     1   0   0          44.0  10.604177"
      ]
     },
     "execution_count": 71,
     "metadata": {},
     "output_type": "execute_result"
    }
   ],
   "source": [
    "df3 = df2.copy(deep=False)\n",
    "df3['use/sqft'] = df3['use'] / df3['total_square_footage']\n",
    "df3 = df3.drop(['use', 'total_square_footage'], axis=1)\n",
    "df3.head()"
   ]
  },
  {
   "cell_type": "code",
   "execution_count": 72,
   "metadata": {},
   "outputs": [
    {
     "data": {
      "image/png": "[encoded data removed]",
      "text/plain": [
       "<Figure size 432x288 with 1 Axes>"
      ]
     },
     "metadata": {
      "needs_background": "light"
     },
     "output_type": "display_data"
    }
   ],
   "source": [
    "boxplotuse = df3.boxplot(column=['use/sqft'], by = 'EV')\n",
    "plt.suptitle(\"\")\n",
    "plt.show()"
   ]
  },
  {
   "cell_type": "markdown",
   "metadata": {},
   "source": [
    "## T test for difference in house Energy/sq ft use for EV and no EV"
   ]
  },
  {
   "cell_type": "code",
   "execution_count": 73,
   "metadata": {},
   "outputs": [
    {
     "data": {
      "text/plain": [
       "(201, 7)"
      ]
     },
     "execution_count": 73,
     "metadata": {},
     "output_type": "execute_result"
    }
   ],
   "source": [
    "# first check for normality from boxplots\n",
    "#get rid of outliers\n",
    "#outliers for use\n",
    "sorteduse = df3.sort_values(by=['use/sqft'])\n",
    "q1, q3 = np.percentile(sorteduse['use/sqft'], [25,75])\n",
    "IQR = q3 - q1\n",
    "lowerbound = q1 -(1.5*IQR)\n",
    "upperbound = q3 +(1.5*IQR)\n",
    "df3 = df3.loc[(df3['use/sqft']>lowerbound)&(df3['use/sqft']<upperbound)]\n",
    "df3.shape"
   ]
  },
  {
   "cell_type": "code",
   "execution_count": 74,
   "metadata": {},
   "outputs": [],
   "source": [
    "# based on box plot above use/sqft appears to be relatilvey normal iwthout outliers based on boxplot\n",
    "#create two dataframes for with and without EV\n",
    "EV = df3.loc[(df3['EV']==1)]\n",
    "NOEV = df3.loc[(df3['EV']==0)]"
   ]
  },
  {
   "cell_type": "code",
   "execution_count": 75,
   "metadata": {},
   "outputs": [
    {
     "data": {
      "image/png": "[encoded data removed]",
      "text/plain": [
       "<Figure size 432x288 with 1 Axes>"
      ]
     },
     "metadata": {
      "needs_background": "light"
     },
     "output_type": "display_data"
    }
   ],
   "source": [
    "#use qq plot for normality on EV enerygy use\n",
    "import statsmodels.api as sm\n",
    "fig = sm.qqplot(EV['use/sqft'])\n",
    "plt.title(\"Energy use/ sq ft for EV homes\")\n",
    "plt.rcParams.update({'font.size': 5})\n",
    "plt.show()"
   ]
  },
  {
   "cell_type": "code",
   "execution_count": 76,
   "metadata": {},
   "outputs": [
    {
     "data": {
      "image/png": "[encoded data removed]",
      "text/plain": [
       "<Figure size 432x288 with 1 Axes>"
      ]
     },
     "metadata": {
      "needs_background": "light"
     },
     "output_type": "display_data"
    }
   ],
   "source": [
    "#use qq plot for normality on non EV enerygy use\n",
    "fig = sm.qqplot(NOEV['use/sqft'])\n",
    "plt.title(\"Energy use/sq ft for Homes without EV\")\n",
    "plt.rcParams.update({'font.size': 20})\n",
    "plt.show()"
   ]
  },
  {
   "cell_type": "code",
   "execution_count": 77,
   "metadata": {},
   "outputs": [
    {
     "name": "stdout",
     "output_type": "stream",
     "text": [
      "2.0500785254083804 0.04397671953212958\n"
     ]
    }
   ],
   "source": [
    "#calcualte df for difference smaple sizes t test\n",
    "import scipy as scipy\n",
    "from scipy import stats\n",
    "t2, p2 = stats.ttest_ind(EV['use/sqft'], NOEV['use/sqft'], equal_var=False)\n",
    "print(t2, p2)\n",
    "\n",
    "#The p-value is smaller than .05. We  reject the null hypothesis at the .05 significance level There is a difference between houses with and without EV based ontheir eneryg use per square foot. "
   ]
  },
  {
   "cell_type": "markdown",
   "metadata": {},
   "source": [
    "## Correlation"
   ]
  },
  {
   "cell_type": "code",
   "execution_count": 78,
   "metadata": {},
   "outputs": [],
   "source": [
    "#run a correlation on continuous variables\n",
    "\n",
    "# Get correlation matrix, where each entry is the Pearson product-moment correlation coefficients\n",
    "variables = ['age_of_house']\n",
    "target = 'use/sqft'\n",
    "cm = np.corrcoef(df3[variables + [target]].T)"
   ]
  },
  {
   "cell_type": "code",
   "execution_count": 79,
   "metadata": {},
   "outputs": [
    {
     "data": {
      "image/png": "[encoded data removed]",
      "text/plain": [
       "<Figure size 576x576 with 2 Axes>"
      ]
     },
     "metadata": {
      "needs_background": "light"
     },
     "output_type": "display_data"
    }
   ],
   "source": [
    "# Get heat map\n",
    "plt.figure(figsize=(8,8))\n",
    "hm = sns.heatmap(cm,\n",
    "                 cbar=True,\n",
    "                 annot=True,\n",
    "                 square=True,\n",
    "                 fmt='.2f',\n",
    "                 annot_kws={'size': 15},\n",
    "                 yticklabels=variables + [target],\n",
    "                 xticklabels=variables + [target])\n",
    "\n",
    "# Show heat map\n",
    "plt.tight_layout()\n",
    "plt.show()"
   ]
  },
  {
   "cell_type": "markdown",
   "metadata": {},
   "source": [
    "## Logistic Regression and Random Forest"
   ]
  },
  {
   "cell_type": "code",
   "execution_count": 80,
   "metadata": {},
   "outputs": [
    {
     "name": "stdout",
     "output_type": "stream",
     "text": [
      "Optimization terminated successfully.\n",
      "         Current function value: 0.582444\n",
      "         Iterations 6\n",
      "                         Results: Logit\n",
      "=================================================================\n",
      "Model:              Logit            Pseudo R-squared: 0.160     \n",
      "Dependent Variable: y                AIC:              268.6052  \n",
      "Date:               2019-04-07 15:54 BIC:              285.6186  \n",
      "No. Observations:   222              Log-Likelihood:   -129.30   \n",
      "Df Model:           4                LL-Null:          -153.88   \n",
      "Df Residuals:       217              LLR p-value:      5.4272e-10\n",
      "Converged:          1.0000           Scale:            1.0000    \n",
      "No. Iterations:     6.0000                                       \n",
      "--------------------------------------------------------------------\n",
      "       Coef.     Std.Err.       z       P>|z|      [0.025     0.975]\n",
      "--------------------------------------------------------------------\n",
      "x1    -0.6910      0.1988    -3.4765    0.0005    -1.0806    -0.3014\n",
      "x2     0.2710      0.1887     1.4356    0.1511    -0.0990     0.6409\n",
      "x3     1.2656      0.2588     4.8911    0.0000     0.7585     1.7728\n",
      "x4     0.6703      0.2358     2.8429    0.0045     0.2082     1.1323\n",
      "x5     0.0246      0.1706     0.1440    0.8855    -0.3098     0.3590\n",
      "=================================================================\n",
      "\n"
     ]
    },
    {
     "name": "stderr",
     "output_type": "stream",
     "text": [
      "C:\\Users\\Krystin\\Anaconda3\\envs\\pecanpy-dev\\lib\\site-packages\\ipykernel_launcher.py:32: DataConversionWarning: Data with input dtype int32, int64, float64 were all converted to float64 by StandardScaler.\n"
     ]
    }
   ],
   "source": [
    "#run test on featured engineered variables\n",
    "# Specify the name of the target\n",
    "target = 'EV'\n",
    "\n",
    "# Get the target vector\n",
    "y= df3[target]\n",
    "\n",
    "features = df3.drop('dataid', axis=1)\n",
    "# Specify the name of the features\n",
    "features = list(features.drop(target,axis=1).columns)\n",
    "\n",
    "\n",
    "# Get the feature vector\n",
    "x= df3[features]\n",
    "from sklearn.model_selection import train_test_split\n",
    "\n",
    "# Randomly choose 30% of the data for testing (using random_state = 0)\n",
    "X_train, X_test, y_train, y_test = train_test_split(x, y, test_size=0.3, random_state=0, stratify=y)\n",
    "\n",
    "features\n",
    "#oversampling\n",
    "sm = SMOTE(random_state=12, ratio =1.0)\n",
    "x_train_res, y_train_res = sm.fit_sample(X_train, y_train)\n",
    "\n",
    "#standardize\n",
    "std_scaler = StandardScaler()\n",
    "\n",
    "# Standardize the training data\n",
    "x_train_res = std_scaler.fit_transform(x_train_res)\n",
    "\n",
    "# Standardize the testing data\n",
    "X_test = std_scaler.transform(X_test)\n",
    "\n",
    "#logistic regression model\n",
    "logit_model = statsmodels.Logit(y_train_res, x_train_res)\n",
    "\n",
    "result = logit_model.fit()\n",
    "\n",
    "print(result.summary2())"
   ]
  },
  {
   "cell_type": "code",
   "execution_count": 81,
   "metadata": {},
   "outputs": [
    {
     "name": "stdout",
     "output_type": "stream",
     "text": [
      "Accuracy on train: 0.9279279279279279 Accuracy on test: 0.6557377049180327\n"
     ]
    }
   ],
   "source": [
    "#random forest feature importance\n",
    "# Delcare the model\n",
    "rf = RandomForestClassifier(criterion='entropy',\n",
    "            min_samples_leaf=2, min_samples_split=8,\n",
    "                            n_estimators=40, n_jobs=1)\n",
    "\n",
    "# Train the model\n",
    "# use the fit method\n",
    "result = rf.fit(x_train_res, y_train_res)\n",
    "\n",
    "\n",
    "# Print the accuracy\n",
    "print('Accuracy on train: ' + str(rf.score(x_train_res, y_train_res)), 'Accuracy on test: ' + str(rf.score(X_test, y_test)))"
   ]
  },
  {
   "cell_type": "code",
   "execution_count": 82,
   "metadata": {},
   "outputs": [],
   "source": [
    "traindataframe = pd.DataFrame(x_train_res, columns=features)\n"
   ]
  },
  {
   "cell_type": "code",
   "execution_count": 83,
   "metadata": {},
   "outputs": [
    {
     "data": {
      "image/png": "[encoded data removed]",
      "text/plain": [
       "<Figure size 1152x648 with 1 Axes>"
      ]
     },
     "metadata": {
      "needs_background": "light"
     },
     "output_type": "display_data"
    }
   ],
   "source": [
    "# Convert the importances into one-dimensional 1darray with corresponding df column names as axis labels\n",
    "# Implement me\n",
    "f_importances = pd.Series(rf.feature_importances_, traindataframe.columns)\n",
    "\n",
    "# Sort the array in descending order of the importances\n",
    "# Implement me\n",
    "f_importances = f_importances.sort_values(ascending=False)\n",
    "\n",
    "# Draw the bar Plot from f_importances \n",
    "f_importances.plot(x='Features', y='Importance', kind='bar', figsize=(16,9), rot=45, fontsize=20)\n",
    "\n",
    "# Show the plot\n",
    "plt.tight_layout()\n",
    "plt.show()"
   ]
  },
  {
   "cell_type": "markdown",
   "metadata": {},
   "source": [
    "## ODDS Ratio"
   ]
  },
  {
   "cell_type": "code",
   "execution_count": 84,
   "metadata": {},
   "outputs": [
    {
     "data": {
      "text/html": [
       "<div>\n",
       "<style scoped>\n",
       "    .dataframe tbody tr th:only-of-type {\n",
       "        vertical-align: middle;\n",
       "    }\n",
       "\n",
       "    .dataframe tbody tr th {\n",
       "        vertical-align: top;\n",
       "    }\n",
       "\n",
       "    .dataframe thead th {\n",
       "        text-align: right;\n",
       "    }\n",
       "</style>\n",
       "<table border=\"1\" class=\"dataframe\">\n",
       "  <thead>\n",
       "    <tr style=\"text-align: right;\">\n",
       "      <th>pv</th>\n",
       "      <th>0</th>\n",
       "      <th>1</th>\n",
       "    </tr>\n",
       "    <tr>\n",
       "      <th>EV</th>\n",
       "      <th></th>\n",
       "      <th></th>\n",
       "    </tr>\n",
       "  </thead>\n",
       "  <tbody>\n",
       "    <tr>\n",
       "      <th>0</th>\n",
       "      <td>72</td>\n",
       "      <td>97</td>\n",
       "    </tr>\n",
       "    <tr>\n",
       "      <th>1</th>\n",
       "      <td>5</td>\n",
       "      <td>40</td>\n",
       "    </tr>\n",
       "  </tbody>\n",
       "</table>\n",
       "</div>"
      ],
      "text/plain": [
       "pv   0   1\n",
       "EV        \n",
       "0   72  97\n",
       "1    5  40"
      ]
     },
     "execution_count": 84,
     "metadata": {},
     "output_type": "execute_result"
    }
   ],
   "source": [
    "#look at EV and PV\n",
    "PV_EV = pd.crosstab(index=df[\"EV\"],\n",
    "                       columns=[df['pv']])\n",
    "\n",
    "PV_EV\n"
   ]
  },
  {
   "cell_type": "code",
   "execution_count": 85,
   "metadata": {},
   "outputs": [
    {
     "data": {
      "text/plain": [
       "5.938144329896907"
      ]
     },
     "execution_count": 85,
     "metadata": {},
     "output_type": "execute_result"
    }
   ],
   "source": [
    "ODDS = (PV_EV.iloc[0,0]*PV_EV.iloc[1,1]) / (PV_EV.iloc[0,1]*PV_EV.iloc[1,0])\n",
    "\n",
    "ODDS\n",
    "\n",
    "#The odds of having an electric vehicle among those with PV are 5.93 times the odds of having an electric vehicle among those without PV. "
   ]
  },
  {
   "cell_type": "code",
   "execution_count": 86,
   "metadata": {},
   "outputs": [
    {
     "data": {
      "text/html": [
       "<div>\n",
       "<style scoped>\n",
       "    .dataframe tbody tr th:only-of-type {\n",
       "        vertical-align: middle;\n",
       "    }\n",
       "\n",
       "    .dataframe tbody tr th {\n",
       "        vertical-align: top;\n",
       "    }\n",
       "\n",
       "    .dataframe thead th {\n",
       "        text-align: right;\n",
       "    }\n",
       "</style>\n",
       "<table border=\"1\" class=\"dataframe\">\n",
       "  <thead>\n",
       "    <tr style=\"text-align: right;\">\n",
       "      <th>building_type</th>\n",
       "      <th>0</th>\n",
       "      <th>1</th>\n",
       "    </tr>\n",
       "    <tr>\n",
       "      <th>EV</th>\n",
       "      <th></th>\n",
       "      <th></th>\n",
       "    </tr>\n",
       "  </thead>\n",
       "  <tbody>\n",
       "    <tr>\n",
       "      <th>0</th>\n",
       "      <td>9</td>\n",
       "      <td>160</td>\n",
       "    </tr>\n",
       "    <tr>\n",
       "      <th>1</th>\n",
       "      <td>4</td>\n",
       "      <td>41</td>\n",
       "    </tr>\n",
       "  </tbody>\n",
       "</table>\n",
       "</div>"
      ],
      "text/plain": [
       "building_type  0    1\n",
       "EV                   \n",
       "0              9  160\n",
       "1              4   41"
      ]
     },
     "execution_count": 86,
     "metadata": {},
     "output_type": "execute_result"
    }
   ],
   "source": [
    "# building type and EV\n",
    "buildingtype_EV = pd.crosstab(index=df[\"EV\"],\n",
    "                       columns=[df['building_type']])\n",
    "\n",
    "buildingtype_EV"
   ]
  },
  {
   "cell_type": "code",
   "execution_count": 87,
   "metadata": {},
   "outputs": [
    {
     "data": {
      "text/plain": [
       "0.5765625"
      ]
     },
     "execution_count": 87,
     "metadata": {},
     "output_type": "execute_result"
    }
   ],
   "source": [
    "ODDS = (buildingtype_EV.iloc[0,0]*buildingtype_EV.iloc[1,1]) / (buildingtype_EV.iloc[0,1]*buildingtype_EV.iloc[1,0])\n",
    "\n",
    "ODDS\n",
    "#The odds of having an electric vehicle among those with single family home are .57 times the odss of having an electric vehicle among those with our housing types. "
   ]
  },
  {
   "cell_type": "code",
   "execution_count": 88,
   "metadata": {},
   "outputs": [
    {
     "data": {
      "text/html": [
       "<div>\n",
       "<style scoped>\n",
       "    .dataframe tbody tr th:only-of-type {\n",
       "        vertical-align: middle;\n",
       "    }\n",
       "\n",
       "    .dataframe tbody tr th {\n",
       "        vertical-align: top;\n",
       "    }\n",
       "\n",
       "    .dataframe thead th {\n",
       "        text-align: right;\n",
       "    }\n",
       "</style>\n",
       "<table border=\"1\" class=\"dataframe\">\n",
       "  <thead>\n",
       "    <tr style=\"text-align: right;\">\n",
       "      <th>city</th>\n",
       "      <th>0</th>\n",
       "      <th>1</th>\n",
       "    </tr>\n",
       "    <tr>\n",
       "      <th>EV</th>\n",
       "      <th></th>\n",
       "      <th></th>\n",
       "    </tr>\n",
       "  </thead>\n",
       "  <tbody>\n",
       "    <tr>\n",
       "      <th>0</th>\n",
       "      <td>24</td>\n",
       "      <td>145</td>\n",
       "    </tr>\n",
       "    <tr>\n",
       "      <th>1</th>\n",
       "      <td>3</td>\n",
       "      <td>42</td>\n",
       "    </tr>\n",
       "  </tbody>\n",
       "</table>\n",
       "</div>"
      ],
      "text/plain": [
       "city   0    1\n",
       "EV           \n",
       "0     24  145\n",
       "1      3   42"
      ]
     },
     "execution_count": 88,
     "metadata": {},
     "output_type": "execute_result"
    }
   ],
   "source": [
    "city_EV"
   ]
  },
  {
   "cell_type": "code",
   "execution_count": 89,
   "metadata": {},
   "outputs": [
    {
     "data": {
      "text/plain": [
       "2.317241379310345"
      ]
     },
     "execution_count": 89,
     "metadata": {},
     "output_type": "execute_result"
    }
   ],
   "source": [
    "ODDS = (city_EV.iloc[0,0]*city_EV.iloc[1,1]) / (city_EV.iloc[0,1]*city_EV.iloc[1,0])\n",
    "ODDS\n",
    "#The odds of having an electric vehicle among those that live in Austin are 2.3 times the odds of having an electric vehicle among those that live elsewhere. "
   ]
  },
  {
   "cell_type": "markdown",
   "metadata": {},
   "source": [
    "## Try Oversampling methods"
   ]
  },
  {
   "cell_type": "markdown",
   "metadata": {},
   "source": [
    "###  The sample is 80, 20 let's try it"
   ]
  },
  {
   "cell_type": "code",
   "execution_count": 90,
   "metadata": {},
   "outputs": [
    {
     "name": "stderr",
     "output_type": "stream",
     "text": [
      "C:\\Users\\Krystin\\Anaconda3\\envs\\pecanpy-dev\\lib\\site-packages\\sklearn\\preprocessing\\data.py:625: DataConversionWarning: Data with input dtype int32, int64, float64 were all converted to float64 by StandardScaler.\n",
      "  return self.partial_fit(X, y)\n",
      "C:\\Users\\Krystin\\Anaconda3\\envs\\pecanpy-dev\\lib\\site-packages\\sklearn\\base.py:462: DataConversionWarning: Data with input dtype int32, int64, float64 were all converted to float64 by StandardScaler.\n",
      "  return self.fit(X, **fit_params).transform(X)\n",
      "C:\\Users\\Krystin\\Anaconda3\\envs\\pecanpy-dev\\lib\\site-packages\\ipykernel_launcher.py:32: DataConversionWarning: Data with input dtype int32, int64, float64 were all converted to float64 by StandardScaler.\n"
     ]
    }
   ],
   "source": [
    "#run test on featured engineered variables\n",
    "# Specify the name of the target\n",
    "target = 'EV'\n",
    "\n",
    "# Get the target vector\n",
    "y= df2[target]\n",
    "\n",
    "features = df2.drop('dataid', axis=1)\n",
    "# Specify the name of the features\n",
    "features = list(features.drop(target,axis=1).columns)\n",
    "\n",
    "\n",
    "# Get the feature vector\n",
    "x= df2[features]\n",
    "from sklearn.model_selection import train_test_split\n",
    "\n",
    "# Randomly choose 30% of the data for testing (using random_state = 0)\n",
    "X_train, X_test, y_train, y_test = train_test_split(x, y, test_size=0.3, random_state=0, stratify=y)\n",
    "\n",
    "features\n",
    "#oversampling\n",
    "#sm = SMOTE(random_state=12, ratio =1.0)\n",
    "#x_train_res, y_train_res = sm.fit_sample(X_train, y_train)\n",
    "\n",
    "#standardize\n",
    "std_scaler = StandardScaler()\n",
    "\n",
    "# Standardize the training data\n",
    "X_train = std_scaler.fit_transform(X_train)\n",
    "\n",
    "# Standardize the testing data\n",
    "X_test = std_scaler.transform(X_test)"
   ]
  },
  {
   "cell_type": "code",
   "execution_count": 91,
   "metadata": {},
   "outputs": [
    {
     "data": {
      "text/plain": [
       "['use', 'building_type', 'city', 'pv', 'total_square_footage', 'age_of_house']"
      ]
     },
     "execution_count": 91,
     "metadata": {},
     "output_type": "execute_result"
    }
   ],
   "source": [
    "features"
   ]
  },
  {
   "cell_type": "code",
   "execution_count": 92,
   "metadata": {},
   "outputs": [
    {
     "name": "stdout",
     "output_type": "stream",
     "text": [
      "Optimization terminated successfully.\n",
      "         Current function value: 0.649026\n",
      "         Iterations 5\n",
      "                        Results: Logit\n",
      "===============================================================\n",
      "Model:              Logit            Pseudo R-squared: -0.287  \n",
      "Dependent Variable: EV               AIC:              197.6213\n",
      "Date:               2019-04-07 15:54 BIC:              215.3984\n",
      "No. Observations:   143              Log-Likelihood:   -92.811 \n",
      "Df Model:           5                LL-Null:          -72.109 \n",
      "Df Residuals:       137              LLR p-value:      1.0000  \n",
      "Converged:          1.0000           Scale:            1.0000  \n",
      "No. Iterations:     5.0000                                     \n",
      "-----------------------------------------------------------------\n",
      "          Coef.    Std.Err.      z      P>|z|     [0.025   0.975]\n",
      "-----------------------------------------------------------------\n",
      "x1        0.2904     0.2279    1.2742   0.2026   -0.1563   0.7372\n",
      "x2       -0.2513     0.1940   -1.2955   0.1951   -0.6316   0.1289\n",
      "x3        0.0113     0.1898    0.0597   0.9524   -0.3607   0.3833\n",
      "x4        0.5185     0.2196    2.3610   0.0182    0.0881   0.9489\n",
      "x5        0.0395     0.2386    0.1657   0.8684   -0.4281   0.5071\n",
      "x6        0.1258     0.2220    0.5669   0.5708   -0.3092   0.5609\n",
      "===============================================================\n",
      "\n"
     ]
    }
   ],
   "source": [
    "#logistic regression model\n",
    "logit_model = statsmodels.Logit(y_train, X_train)\n",
    "\n",
    "result = logit_model.fit()\n",
    "\n",
    "print(result.summary2())\n"
   ]
  },
  {
   "cell_type": "code",
   "execution_count": 93,
   "metadata": {},
   "outputs": [
    {
     "name": "stdout",
     "output_type": "stream",
     "text": [
      "Accuracy on train: 0.8881118881118881 Accuracy on test: 0.7741935483870968\n"
     ]
    }
   ],
   "source": [
    "#random forest feature importance\n",
    "# Delcare the model\n",
    "rf = RandomForestClassifier(criterion='entropy',\n",
    "            min_samples_leaf=2, min_samples_split=8,\n",
    "                            n_estimators=40, n_jobs=1)\n",
    "\n",
    "# Train the model\n",
    "# use the fit method\n",
    "result = rf.fit(X_train, y_train)\n",
    "\n",
    "\n",
    "# Print the accuracy\n",
    "print('Accuracy on train: ' + str(rf.score(X_train, y_train)), 'Accuracy on test: ' + str(rf.score(X_test, y_test)))"
   ]
  },
  {
   "cell_type": "code",
   "execution_count": 94,
   "metadata": {},
   "outputs": [],
   "source": [
    "traindataframe = pd.DataFrame(X_train, columns=features)"
   ]
  },
  {
   "cell_type": "code",
   "execution_count": 95,
   "metadata": {},
   "outputs": [
    {
     "data": {
      "image/png": "[encoded data removed]",
      "text/plain": [
       "<Figure size 1152x648 with 1 Axes>"
      ]
     },
     "metadata": {
      "needs_background": "light"
     },
     "output_type": "display_data"
    }
   ],
   "source": [
    "# Convert the importances into one-dimensional 1darray with corresponding df column names as axis labels\n",
    "# Implement me\n",
    "f_importances = pd.Series(rf.feature_importances_, traindataframe.columns)\n",
    "\n",
    "# Sort the array in descending order of the importances\n",
    "# Implement me\n",
    "f_importances = f_importances.sort_values(ascending=False)\n",
    "\n",
    "# Draw the bar Plot from f_importances \n",
    "f_importances.plot(x='Features', y='Importance', kind='bar', figsize=(16,9), rot=45, fontsize=20)\n",
    "\n",
    "# Show the plot\n",
    "plt.tight_layout()\n",
    "plt.show()"
   ]
  },
  {
   "cell_type": "markdown",
   "metadata": {},
   "source": [
    "## Let's try 70 30"
   ]
  },
  {
   "cell_type": "code",
   "execution_count": 96,
   "metadata": {},
   "outputs": [
    {
     "name": "stderr",
     "output_type": "stream",
     "text": [
      "C:\\Users\\Krystin\\Anaconda3\\envs\\pecanpy-dev\\lib\\site-packages\\ipykernel_launcher.py:35: DataConversionWarning: Data with input dtype int32, int64, float64 were all converted to float64 by StandardScaler.\n"
     ]
    }
   ],
   "source": [
    "#run test on featured engineered variables\n",
    "# Specify the name of the target\n",
    "target = 'EV'\n",
    "\n",
    "# Get the target vector\n",
    "y= df2[target]\n",
    "\n",
    "features = df2.drop('dataid', axis=1)\n",
    "# Specify the name of the features\n",
    "features = list(features.drop(target,axis=1).columns)\n",
    "\n",
    "\n",
    "# Get the feature vector\n",
    "x= df2[features]\n",
    "from sklearn.model_selection import train_test_split\n",
    "\n",
    "# Randomly choose 30% of the data for testing (using random_state = 0)\n",
    "X_train, X_test, y_train, y_test = train_test_split(x, y, test_size=0.3, random_state=0, stratify=y)\n",
    "\n",
    "features\n",
    "#oversampling\n",
    "sm = SMOTE(random_state=12, ratio =.45)\n",
    "x_train_res, y_train_res = sm.fit_sample(X_train, y_train)\n",
    "\n",
    "#np.unique(y_train_res, return_counts=True)\n",
    "\n",
    "\n",
    "#standardize\n",
    "std_scaler = StandardScaler()\n",
    "\n",
    "# Standardize the training data\n",
    "X_train = std_scaler.fit_transform(x_train_res)\n",
    "\n",
    "# Standardize the testing data\n",
    "X_test = std_scaler.transform(X_test)"
   ]
  },
  {
   "cell_type": "code",
   "execution_count": 97,
   "metadata": {},
   "outputs": [
    {
     "name": "stdout",
     "output_type": "stream",
     "text": [
      "Optimization terminated successfully.\n",
      "         Current function value: 0.539426\n",
      "         Iterations 6\n",
      "                         Results: Logit\n",
      "=================================================================\n",
      "Model:              Logit            Pseudo R-squared: 0.128     \n",
      "Dependent Variable: y                AIC:              190.0107  \n",
      "Date:               2019-04-07 15:54 BIC:              208.6464  \n",
      "No. Observations:   165              Log-Likelihood:   -89.005   \n",
      "Df Model:           5                LL-Null:          -102.03   \n",
      "Df Residuals:       159              LLR p-value:      8.7194e-05\n",
      "Converged:          1.0000           Scale:            1.0000    \n",
      "No. Iterations:     6.0000                                       \n",
      "--------------------------------------------------------------------\n",
      "       Coef.     Std.Err.       z       P>|z|      [0.025     0.975]\n",
      "--------------------------------------------------------------------\n",
      "x1     0.0000      0.0000     2.0416    0.0412     0.0000     0.0001\n",
      "x2    -1.9402      0.6873    -2.8229    0.0048    -3.2874    -0.5931\n",
      "x3    -0.9273      0.5792    -1.6009    0.1094    -2.0625     0.2080\n",
      "x4     1.8820      0.5894     3.1929    0.0014     0.7268     3.0373\n",
      "x5    -0.0003      0.0003    -1.1238    0.2611    -0.0009     0.0002\n",
      "x6    -0.0062      0.0099    -0.6246    0.5322    -0.0257     0.0133\n",
      "=================================================================\n",
      "\n"
     ]
    }
   ],
   "source": [
    "#logistic regression model\n",
    "logit_model = statsmodels.Logit(y_train_res, x_train_res)\n",
    "\n",
    "result = logit_model.fit()\n",
    "\n",
    "print(result.summary2())\n",
    "\n"
   ]
  },
  {
   "cell_type": "code",
   "execution_count": 98,
   "metadata": {},
   "outputs": [
    {
     "name": "stdout",
     "output_type": "stream",
     "text": [
      "Accuracy on train: 0.9212121212121213 Accuracy on test: 0.7903225806451613\n"
     ]
    }
   ],
   "source": [
    "#random forest feature importance\n",
    "# Delcare the model\n",
    "rf = RandomForestClassifier(criterion='entropy',\n",
    "            min_samples_leaf=2, min_samples_split=8,\n",
    "                            n_estimators=40, n_jobs=1)\n",
    "\n",
    "# Train the model\n",
    "# use the fit method\n",
    "result = rf.fit(x_train_res, y_train_res)\n",
    "\n",
    "\n",
    "# Print the accuracy\n",
    "print('Accuracy on train: ' + str(rf.score(x_train_res, y_train_res)), 'Accuracy on test: ' + str(rf.score(X_test, y_test)))"
   ]
  },
  {
   "cell_type": "code",
   "execution_count": 99,
   "metadata": {},
   "outputs": [],
   "source": [
    "traindataframe = pd.DataFrame(x_train_res, columns=features)"
   ]
  },
  {
   "cell_type": "code",
   "execution_count": 100,
   "metadata": {},
   "outputs": [
    {
     "data": {
      "image/png": "[encoded data removed]",
      "text/plain": [
       "<Figure size 1152x648 with 1 Axes>"
      ]
     },
     "metadata": {
      "needs_background": "light"
     },
     "output_type": "display_data"
    }
   ],
   "source": [
    "# Convert the importances into one-dimensional 1darray with corresponding df column names as axis labels\n",
    "# Implement me\n",
    "f_importances = pd.Series(rf.feature_importances_, traindataframe.columns)\n",
    "\n",
    "# Sort the array in descending order of the importances\n",
    "# Implement me\n",
    "f_importances = f_importances.sort_values(ascending=False)\n",
    "\n",
    "# Draw the bar Plot from f_importances \n",
    "f_importances.plot(x='Features', y='Importance', kind='bar', figsize=(16,9), rot=45, fontsize=20)\n",
    "\n",
    "# Show the plot\n",
    "plt.tight_layout()\n",
    "plt.show()"
   ]
  },
  {
   "cell_type": "markdown",
   "metadata": {},
   "source": [
    "# Let's try 60 40"
   ]
  },
  {
   "cell_type": "code",
   "execution_count": 101,
   "metadata": {},
   "outputs": [
    {
     "name": "stderr",
     "output_type": "stream",
     "text": [
      "C:\\Users\\Krystin\\Anaconda3\\envs\\pecanpy-dev\\lib\\site-packages\\ipykernel_launcher.py:35: DataConversionWarning: Data with input dtype int32, int64, float64 were all converted to float64 by StandardScaler.\n"
     ]
    }
   ],
   "source": [
    "#run test on featured engineered variables\n",
    "# Specify the name of the target\n",
    "target = 'EV'\n",
    "\n",
    "# Get the target vector\n",
    "y= df2[target]\n",
    "\n",
    "features = df2.drop('dataid', axis=1)\n",
    "# Specify the name of the features\n",
    "features = list(features.drop(target,axis=1).columns)\n",
    "\n",
    "\n",
    "# Get the feature vector\n",
    "x= df2[features]\n",
    "from sklearn.model_selection import train_test_split\n",
    "\n",
    "# Randomly choose 30% of the data for testing (using random_state = 0)\n",
    "X_train, X_test, y_train, y_test = train_test_split(x, y, test_size=0.3, random_state=0, stratify=y)\n",
    "\n",
    "features\n",
    "#oversampling\n",
    "sm = SMOTE(random_state=12, ratio =.65)\n",
    "x_train_res, y_train_res = sm.fit_sample(X_train, y_train)\n",
    "\n",
    "#np.unique(y_train_res, return_counts=True)\n",
    "\n",
    "\n",
    "#standardize\n",
    "std_scaler = StandardScaler()\n",
    "\n",
    "# Standardize the training data\n",
    "X_train = std_scaler.fit_transform(x_train_res)\n",
    "\n",
    "# Standardize the testing data\n",
    "X_test = std_scaler.transform(X_test)"
   ]
  },
  {
   "cell_type": "code",
   "execution_count": 102,
   "metadata": {},
   "outputs": [
    {
     "name": "stdout",
     "output_type": "stream",
     "text": [
      "Optimization terminated successfully.\n",
      "         Current function value: 0.559152\n",
      "         Iterations 6\n",
      "                         Results: Logit\n",
      "=================================================================\n",
      "Model:              Logit            Pseudo R-squared: 0.166     \n",
      "Dependent Variable: y                AIC:              222.2412  \n",
      "Date:               2019-04-07 15:54 BIC:              241.6598  \n",
      "No. Observations:   188              Log-Likelihood:   -105.12   \n",
      "Df Model:           5                LL-Null:          -126.02   \n",
      "Df Residuals:       182              LLR p-value:      6.4472e-08\n",
      "Converged:          1.0000           Scale:            1.0000    \n",
      "No. Iterations:     6.0000                                       \n",
      "--------------------------------------------------------------------\n",
      "       Coef.     Std.Err.       z       P>|z|      [0.025     0.975]\n",
      "--------------------------------------------------------------------\n",
      "x1     0.0000      0.0000     2.1199    0.0340     0.0000     0.0001\n",
      "x2    -2.1856      0.6940    -3.1491    0.0016    -3.5459    -0.8253\n",
      "x3    -0.9205      0.5711    -1.6118    0.1070    -2.0399     0.1988\n",
      "x4     2.2322      0.5854     3.8134    0.0001     1.0850     3.3795\n",
      "x5    -0.0002      0.0003    -0.7090    0.4783    -0.0007     0.0003\n",
      "x6    -0.0071      0.0098    -0.7215    0.4706    -0.0263     0.0122\n",
      "=================================================================\n",
      "\n"
     ]
    }
   ],
   "source": [
    "#logistic regression model\n",
    "logit_model = statsmodels.Logit(y_train_res, x_train_res)\n",
    "\n",
    "result = logit_model.fit()\n",
    "\n",
    "print(result.summary2())\n",
    "\n"
   ]
  },
  {
   "cell_type": "code",
   "execution_count": 103,
   "metadata": {},
   "outputs": [
    {
     "name": "stdout",
     "output_type": "stream",
     "text": [
      "Accuracy on train: 0.925531914893617 Accuracy on test: 0.7903225806451613\n"
     ]
    }
   ],
   "source": [
    "#random forest feature importance\n",
    "# Delcare the model\n",
    "rf = RandomForestClassifier(criterion='entropy',\n",
    "            min_samples_leaf=2, min_samples_split=8,\n",
    "                            n_estimators=40, n_jobs=1)\n",
    "\n",
    "# Train the model\n",
    "# use the fit method\n",
    "result = rf.fit(x_train_res, y_train_res)\n",
    "\n",
    "\n",
    "# Print the accuracy\n",
    "print('Accuracy on train: ' + str(rf.score(x_train_res, y_train_res)), 'Accuracy on test: ' + str(rf.score(X_test, y_test)))"
   ]
  },
  {
   "cell_type": "code",
   "execution_count": 104,
   "metadata": {},
   "outputs": [],
   "source": [
    "traindataframe = pd.DataFrame(x_train_res, columns=features)"
   ]
  },
  {
   "cell_type": "code",
   "execution_count": 105,
   "metadata": {},
   "outputs": [
    {
     "data": {
      "image/png": "[encoded data removed]",
      "text/plain": [
       "<Figure size 1152x648 with 1 Axes>"
      ]
     },
     "metadata": {
      "needs_background": "light"
     },
     "output_type": "display_data"
    }
   ],
   "source": [
    "# Convert the importances into one-dimensional 1darray with corresponding df column names as axis labels\n",
    "# Implement me\n",
    "f_importances = pd.Series(rf.feature_importances_, traindataframe.columns)\n",
    "\n",
    "# Sort the array in descending order of the importances\n",
    "# Implement me\n",
    "f_importances = f_importances.sort_values(ascending=False)\n",
    "\n",
    "# Draw the bar Plot from f_importances \n",
    "f_importances.plot(x='Features', y='Importance', kind='bar', figsize=(16,9), rot=45, fontsize=20)\n",
    "\n",
    "# Show the plot\n",
    "plt.tight_layout()\n",
    "plt.show()"
   ]
  },
  {
   "cell_type": "code",
   "execution_count": 107,
   "metadata": {},
   "outputs": [],
   "source": [
    "#It appears that the 50,50 model on DF2 is the best featured engineered model\n",
    "#let's export that dataframe\n",
    "df2.to_csv('Data/dataframe.csv')"
   ]
  },
  {
   "cell_type": "code",
   "execution_count": null,
   "metadata": {},
   "outputs": [],
   "source": []
  }
 ],
 "metadata": {
  "kernelspec": {
   "display_name": "Python 3",
   "language": "python",
   "name": "python3"
  },
  "language_info": {
   "codemirror_mode": {
    "name": "ipython",
    "version": 3
   },
   "file_extension": ".py",
   "mimetype": "text/x-python",
   "name": "python",
   "nbconvert_exporter": "python",
   "pygments_lexer": "ipython3",
   "version": "3.7.2"
  }
 },
 "nbformat": 4,
 "nbformat_minor": 2
}
