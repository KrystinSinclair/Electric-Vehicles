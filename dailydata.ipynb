{
 "cells": [
  {
   "cell_type": "code",
   "execution_count": 1,
   "metadata": {},
   "outputs": [],
   "source": [
    "#import packages\n",
    "import datetime as dat\n",
    "import os\n",
    "import matplotlib.pyplot as plt\n",
    "import numpy as np\n",
    "import pandas as pd\n",
    "import pylab\n",
    "import scipy.stats as stats\n",
    "import seaborn as sns\n",
    "from sklearn.ensemble import RandomForestClassifier\n",
    "import time\n",
    "from sklearn.model_selection import GridSearchCV\n",
    "from sklearn.model_selection import StratifiedKFold"
   ]
  },
  {
   "cell_type": "code",
   "execution_count": 15,
   "metadata": {},
   "outputs": [
    {
     "data": {
      "text/html": [
       "<div>\n",
       "<style scoped>\n",
       "    .dataframe tbody tr th:only-of-type {\n",
       "        vertical-align: middle;\n",
       "    }\n",
       "\n",
       "    .dataframe tbody tr th {\n",
       "        vertical-align: top;\n",
       "    }\n",
       "\n",
       "    .dataframe thead th {\n",
       "        text-align: right;\n",
       "    }\n",
       "</style>\n",
       "<table border=\"1\" class=\"dataframe\">\n",
       "  <thead>\n",
       "    <tr style=\"text-align: right;\">\n",
       "      <th></th>\n",
       "      <th>dataid</th>\n",
       "      <th>1/1/2017</th>\n",
       "      <th>1/2/2017</th>\n",
       "      <th>1/3/2017</th>\n",
       "      <th>1/4/2017</th>\n",
       "      <th>1/5/2017</th>\n",
       "      <th>1/6/2017</th>\n",
       "      <th>1/7/2017</th>\n",
       "      <th>1/8/2017</th>\n",
       "      <th>1/9/2017</th>\n",
       "      <th>...</th>\n",
       "      <th>1/29/2017</th>\n",
       "      <th>1/30/2017</th>\n",
       "      <th>1/31/2017</th>\n",
       "      <th>building_type</th>\n",
       "      <th>pv</th>\n",
       "      <th>city</th>\n",
       "      <th>ageofhouse</th>\n",
       "      <th>total_square_footage</th>\n",
       "      <th>EV</th>\n",
       "      <th>appliances/outlets</th>\n",
       "    </tr>\n",
       "  </thead>\n",
       "  <tbody>\n",
       "    <tr>\n",
       "      <th>0</th>\n",
       "      <td>59</td>\n",
       "      <td>43.438100</td>\n",
       "      <td>31.173767</td>\n",
       "      <td>36.804283</td>\n",
       "      <td>66.318250</td>\n",
       "      <td>70.238817</td>\n",
       "      <td>127.290567</td>\n",
       "      <td>131.520917</td>\n",
       "      <td>109.003317</td>\n",
       "      <td>56.061867</td>\n",
       "      <td>...</td>\n",
       "      <td>57.922783</td>\n",
       "      <td>46.934150</td>\n",
       "      <td>34.865817</td>\n",
       "      <td>1</td>\n",
       "      <td>0</td>\n",
       "      <td>1</td>\n",
       "      <td>11</td>\n",
       "      <td>2122.0</td>\n",
       "      <td>0</td>\n",
       "      <td>12</td>\n",
       "    </tr>\n",
       "    <tr>\n",
       "      <th>1</th>\n",
       "      <td>77</td>\n",
       "      <td>26.839217</td>\n",
       "      <td>38.902733</td>\n",
       "      <td>24.636817</td>\n",
       "      <td>49.594467</td>\n",
       "      <td>50.655100</td>\n",
       "      <td>99.481967</td>\n",
       "      <td>85.742817</td>\n",
       "      <td>69.858667</td>\n",
       "      <td>35.434700</td>\n",
       "      <td>...</td>\n",
       "      <td>41.711967</td>\n",
       "      <td>28.174733</td>\n",
       "      <td>28.306317</td>\n",
       "      <td>1</td>\n",
       "      <td>1</td>\n",
       "      <td>1</td>\n",
       "      <td>11</td>\n",
       "      <td>1439.0</td>\n",
       "      <td>0</td>\n",
       "      <td>11</td>\n",
       "    </tr>\n",
       "    <tr>\n",
       "      <th>2</th>\n",
       "      <td>86</td>\n",
       "      <td>38.706200</td>\n",
       "      <td>26.991150</td>\n",
       "      <td>25.693333</td>\n",
       "      <td>22.103867</td>\n",
       "      <td>29.290350</td>\n",
       "      <td>59.603933</td>\n",
       "      <td>45.522533</td>\n",
       "      <td>30.623717</td>\n",
       "      <td>18.483167</td>\n",
       "      <td>...</td>\n",
       "      <td>26.680267</td>\n",
       "      <td>16.572133</td>\n",
       "      <td>17.432633</td>\n",
       "      <td>1</td>\n",
       "      <td>1</td>\n",
       "      <td>1</td>\n",
       "      <td>12</td>\n",
       "      <td>1842.0</td>\n",
       "      <td>0</td>\n",
       "      <td>1</td>\n",
       "    </tr>\n",
       "    <tr>\n",
       "      <th>3</th>\n",
       "      <td>93</td>\n",
       "      <td>21.053867</td>\n",
       "      <td>19.916500</td>\n",
       "      <td>13.024533</td>\n",
       "      <td>13.784917</td>\n",
       "      <td>12.937867</td>\n",
       "      <td>16.484100</td>\n",
       "      <td>20.605800</td>\n",
       "      <td>19.075917</td>\n",
       "      <td>13.624133</td>\n",
       "      <td>...</td>\n",
       "      <td>14.800167</td>\n",
       "      <td>14.106650</td>\n",
       "      <td>13.967033</td>\n",
       "      <td>1</td>\n",
       "      <td>1</td>\n",
       "      <td>1</td>\n",
       "      <td>11</td>\n",
       "      <td>2075.0</td>\n",
       "      <td>1</td>\n",
       "      <td>1</td>\n",
       "    </tr>\n",
       "    <tr>\n",
       "      <th>4</th>\n",
       "      <td>94</td>\n",
       "      <td>25.915150</td>\n",
       "      <td>15.738583</td>\n",
       "      <td>11.901150</td>\n",
       "      <td>8.212717</td>\n",
       "      <td>8.167200</td>\n",
       "      <td>9.648217</td>\n",
       "      <td>19.352367</td>\n",
       "      <td>9.348167</td>\n",
       "      <td>10.631917</td>\n",
       "      <td>...</td>\n",
       "      <td>7.956367</td>\n",
       "      <td>7.650633</td>\n",
       "      <td>7.581800</td>\n",
       "      <td>1</td>\n",
       "      <td>1</td>\n",
       "      <td>1</td>\n",
       "      <td>11</td>\n",
       "      <td>1842.0</td>\n",
       "      <td>1</td>\n",
       "      <td>10</td>\n",
       "    </tr>\n",
       "  </tbody>\n",
       "</table>\n",
       "<p>5 rows × 39 columns</p>\n",
       "</div>"
      ],
      "text/plain": [
       "   dataid   1/1/2017   1/2/2017   1/3/2017   1/4/2017   1/5/2017    1/6/2017  \\\n",
       "0      59  43.438100  31.173767  36.804283  66.318250  70.238817  127.290567   \n",
       "1      77  26.839217  38.902733  24.636817  49.594467  50.655100   99.481967   \n",
       "2      86  38.706200  26.991150  25.693333  22.103867  29.290350   59.603933   \n",
       "3      93  21.053867  19.916500  13.024533  13.784917  12.937867   16.484100   \n",
       "4      94  25.915150  15.738583  11.901150   8.212717   8.167200    9.648217   \n",
       "\n",
       "     1/7/2017    1/8/2017   1/9/2017  ...  1/29/2017  1/30/2017  1/31/2017  \\\n",
       "0  131.520917  109.003317  56.061867  ...  57.922783  46.934150  34.865817   \n",
       "1   85.742817   69.858667  35.434700  ...  41.711967  28.174733  28.306317   \n",
       "2   45.522533   30.623717  18.483167  ...  26.680267  16.572133  17.432633   \n",
       "3   20.605800   19.075917  13.624133  ...  14.800167  14.106650  13.967033   \n",
       "4   19.352367    9.348167  10.631917  ...   7.956367   7.650633   7.581800   \n",
       "\n",
       "   building_type  pv  city  ageofhouse  total_square_footage  EV  \\\n",
       "0              1   0     1          11                2122.0   0   \n",
       "1              1   1     1          11                1439.0   0   \n",
       "2              1   1     1          12                1842.0   0   \n",
       "3              1   1     1          11                2075.0   1   \n",
       "4              1   1     1          11                1842.0   1   \n",
       "\n",
       "   appliances/outlets  \n",
       "0                  12  \n",
       "1                  11  \n",
       "2                   1  \n",
       "3                   1  \n",
       "4                  10  \n",
       "\n",
       "[5 rows x 39 columns]"
      ]
     },
     "execution_count": 15,
     "metadata": {},
     "output_type": "execute_result"
    }
   ],
   "source": [
    "\n",
    "#load data\n",
    "df = pd.read_csv('Data/january2017.csv')\n",
    "\n",
    "\n",
    "#view data\n",
    "df.head()"
   ]
  },
  {
   "cell_type": "code",
   "execution_count": 16,
   "metadata": {},
   "outputs": [
    {
     "data": {
      "text/plain": [
       "0    259\n",
       "1     83\n",
       "Name: EV, dtype: int64"
      ]
     },
     "execution_count": 16,
     "metadata": {},
     "output_type": "execute_result"
    }
   ],
   "source": [
    "EV = df['EV'].value_counts()\n",
    "EV\n",
    "#lookat city"
   ]
  },
  {
   "cell_type": "code",
   "execution_count": 17,
   "metadata": {},
   "outputs": [
    {
     "data": {
      "text/plain": [
       "dataid                  0\n",
       "1/1/2017                0\n",
       "1/2/2017                0\n",
       "1/3/2017                0\n",
       "1/4/2017                0\n",
       "1/5/2017                0\n",
       "1/6/2017                0\n",
       "1/7/2017                0\n",
       "1/8/2017                0\n",
       "1/9/2017                0\n",
       "1/10/2017               0\n",
       "1/11/2017               0\n",
       "1/12/2017               0\n",
       "1/13/2017               0\n",
       "1/14/2017               0\n",
       "1/15/2017               0\n",
       "1/16/2017               0\n",
       "1/17/2017               0\n",
       "1/18/2017               0\n",
       "1/19/2017               0\n",
       "1/20/2017               0\n",
       "1/21/2017               0\n",
       "1/22/2017               0\n",
       "1/23/2017               0\n",
       "1/24/2017               0\n",
       "1/25/2017               0\n",
       "1/26/2017               0\n",
       "1/27/2017               0\n",
       "1/28/2017               0\n",
       "1/29/2017               0\n",
       "1/30/2017               0\n",
       "1/31/2017               0\n",
       "building_type           0\n",
       "pv                      0\n",
       "city                    0\n",
       "ageofhouse              0\n",
       "total_square_footage    0\n",
       "EV                      0\n",
       "appliances/outlets      0\n",
       "dtype: int64"
      ]
     },
     "execution_count": 17,
     "metadata": {},
     "output_type": "execute_result"
    }
   ],
   "source": [
    "df.isna().sum()"
   ]
  },
  {
   "cell_type": "code",
   "execution_count": 18,
   "metadata": {},
   "outputs": [],
   "source": [
    "#run test on featured engineered variables\n",
    "# Specify the name of the target\n",
    "target = 'EV'\n",
    "\n",
    "# Get the target vector\n",
    "y= df[target]\n",
    "\n",
    "features = df.drop('dataid', axis=1)\n",
    "# Specify the name of the features\n",
    "features = list(features.drop(target,axis=1).columns)\n",
    "\n",
    "\n",
    "# Get the feature vector\n",
    "x= df[features]\n",
    "from sklearn.model_selection import train_test_split\n",
    "\n",
    "# Randomly choose 30% of the data for testing (using random_state = 0)\n",
    "X_train, X_test, y_train, y_test = train_test_split(x, y, test_size=0.3, random_state=0, stratify=y)\n"
   ]
  },
  {
   "cell_type": "code",
   "execution_count": 19,
   "metadata": {},
   "outputs": [],
   "source": [
    "from imblearn.under_sampling import RandomUnderSampler"
   ]
  },
  {
   "cell_type": "code",
   "execution_count": 20,
   "metadata": {},
   "outputs": [],
   "source": [
    "rus = RandomUnderSampler(random_state=0)\n",
    "X_resampled, y_resampled = rus.fit_resample(X_train, y_train)\n"
   ]
  },
  {
   "cell_type": "code",
   "execution_count": 23,
   "metadata": {},
   "outputs": [
    {
     "name": "stderr",
     "output_type": "stream",
     "text": [
      "C:\\Users\\Krystin\\Anaconda3\\envs\\pecanpy-dev\\lib\\site-packages\\ipykernel_launcher.py:9: DataConversionWarning: Data with input dtype int64, float64 were all converted to float64 by StandardScaler.\n",
      "  if __name__ == '__main__':\n"
     ]
    }
   ],
   "source": [
    "#standardize\n",
    "from sklearn.preprocessing import StandardScaler\n",
    "std_scaler = StandardScaler()\n",
    "\n",
    "# Standardize the training data\n",
    "X_train = std_scaler.fit_transform(X_resampled)\n",
    "\n",
    "# Standardize the testing data\n",
    "X_test = std_scaler.transform(X_test)"
   ]
  },
  {
   "cell_type": "code",
   "execution_count": 26,
   "metadata": {},
   "outputs": [
    {
     "name": "stdout",
     "output_type": "stream",
     "text": [
      "Accuracy on train: 1.0 Accuracy on test: 0.7572815533980582\n"
     ]
    }
   ],
   "source": [
    "# Delcare the model\n",
    "rf = RandomForestClassifier(criterion='entropy',\n",
    "            min_samples_leaf=2, min_samples_split=8,\n",
    "                            n_estimators=40, n_jobs=1)\n",
    "\n",
    "# Train the model\n",
    "# use the fit method\n",
    "result = rf.fit(X_resampled, y_resampled)\n",
    "\n",
    "\n",
    "# Print the accuracy\n",
    "print('Accuracy on train: ' + str(rf.score(X_resampled, y_resampled)), 'Accuracy on test: ' + str(rf.score(X_test, y_test)))"
   ]
  },
  {
   "cell_type": "code",
   "execution_count": 33,
   "metadata": {},
   "outputs": [],
   "source": [
    "trainpred = rf.predict(X_resampled)\n",
    "testpred = rf.predict(X_test)"
   ]
  },
  {
   "cell_type": "code",
   "execution_count": 28,
   "metadata": {},
   "outputs": [],
   "source": [
    "traindataframe = pd.DataFrame(X_resampled, columns=[features])\n"
   ]
  },
  {
   "cell_type": "code",
   "execution_count": 29,
   "metadata": {},
   "outputs": [
    {
     "data": {
      "image/png": "[encoded data removed]",
      "text/plain": [
       "<Figure size 1152x648 with 1 Axes>"
      ]
     },
     "metadata": {
      "needs_background": "light"
     },
     "output_type": "display_data"
    }
   ],
   "source": [
    "\n",
    "import matplotlib.pyplot as plt\n",
    "\n",
    "# Convert the importances into one-dimensional 1darray with corresponding df column names as axis labels\n",
    "# Implement me\n",
    "f_importances = pd.Series(rf.feature_importances_, traindataframe.columns)\n",
    "\n",
    "# Sort the array in descending order of the importances\n",
    "# Implement me\n",
    "f_importances = f_importances.sort_values(ascending=False)\n",
    "\n",
    "# Draw the bar Plot from f_importances \n",
    "f_importances.plot(x='Features', y='Importance', kind='bar', figsize=(16,9), rot=45, fontsize=20)\n",
    "\n",
    "# Show the plot\n",
    "plt.tight_layout()\n",
    "plt.show()"
   ]
  },
  {
   "cell_type": "code",
   "execution_count": 37,
   "metadata": {},
   "outputs": [
    {
     "name": "stdout",
     "output_type": "stream",
     "text": [
      "[[58  0]\n",
      " [ 0 58]]\n",
      "58 0 0 58\n",
      "recall is 1.0\n",
      "precision is 1.0\n",
      "sensitivity is 1.0\n",
      "specificity is 1.0\n",
      "Accuracy is 1.0\n",
      "f1 is 1.0\n"
     ]
    }
   ],
   "source": [
    "#confusion matrix\n",
    "#train\n",
    "i = [0,1]\n",
    "\n",
    "from sklearn.metrics import confusion_matrix\n",
    "cm =  confusion_matrix(y_resampled, trainpred)\n",
    "print(cm)\n",
    "\n",
    "TN = cm[0][0]\n",
    "FP = cm[0][1]\n",
    "FN = cm[1][0]\n",
    "TP = cm[1][1]\n",
    "\n",
    "print(TN, FP, FN, TP)\n",
    "#create recall, precision, F1, Sensitivyt and specificty from matrix\n",
    "\n",
    "recall = TP/(TP+FN)\n",
    "precision = TP/(TP+FP)\n",
    "Sensitivity = TP/(TP+FN)\n",
    "Specificity = TN/ (TN+FP)\n",
    "Accuracy = (TP + TN) / (TP + TN + FP + FN)\n",
    "f1 = 2*((recall*precision)/(precision+recall))\n",
    "\n",
    "\n",
    "print('recall is', recall)\n",
    "print('precision is', precision)\n",
    "print('sensitivity is', Sensitivity)\n",
    "print('specificity is', Specificity)\n",
    "print('Accuracy is', Accuracy)\n",
    "print('f1 is', f1)"
   ]
  },
  {
   "cell_type": "code",
   "execution_count": 39,
   "metadata": {},
   "outputs": [
    {
     "name": "stdout",
     "output_type": "stream",
     "text": [
      "[[78  0]\n",
      " [25  0]]\n",
      "78 0 25 0\n",
      "recall is 0.0\n",
      "precision is nan\n",
      "sensitivity is 0.0\n",
      "specificity is 1.0\n",
      "Accuracy is 0.7572815533980582\n",
      "f1 is nan\n"
     ]
    },
    {
     "name": "stderr",
     "output_type": "stream",
     "text": [
      "C:\\Users\\Krystin\\Anaconda3\\envs\\pecanpy-dev\\lib\\site-packages\\ipykernel_launcher.py:18: RuntimeWarning: invalid value encountered in longlong_scalars\n"
     ]
    }
   ],
   "source": [
    "#confusion matrix\n",
    "#train\n",
    "i = [0,1]\n",
    "\n",
    "from sklearn.metrics import confusion_matrix\n",
    "cm =  confusion_matrix(y_test, testpred)\n",
    "print(cm)\n",
    "\n",
    "TN = cm[0][0]\n",
    "FP = cm[0][1]\n",
    "FN = cm[1][0]\n",
    "TP = cm[1][1]\n",
    "\n",
    "print(TN, FP, FN, TP)\n",
    "#create recall, precision, F1, Sensitivyt and specificty from matrix\n",
    "\n",
    "recall = TP/(TP+FN)\n",
    "precision = TP/(TP+FP)\n",
    "Sensitivity = TP/(TP+FN)\n",
    "Specificity = TN/ (TN+FP)\n",
    "Accuracy = (TP + TN) / (TP + TN + FP + FN)\n",
    "f1 = 2*((recall*precision)/(precision+recall))\n",
    "\n",
    "\n",
    "print('recall is', recall)\n",
    "print('precision is', precision)\n",
    "print('sensitivity is', Sensitivity)\n",
    "print('specificity is', Specificity)\n",
    "print('Accuracy is', Accuracy)\n",
    "print('f1 is', f1)"
   ]
  },
  {
   "cell_type": "code",
   "execution_count": null,
   "metadata": {},
   "outputs": [],
   "source": []
  }
 ],
 "metadata": {
  "kernelspec": {
   "display_name": "Python 3",
   "language": "python",
   "name": "python3"
  },
  "language_info": {
   "codemirror_mode": {
    "name": "ipython",
    "version": 3
   },
   "file_extension": ".py",
   "mimetype": "text/x-python",
   "name": "python",
   "nbconvert_exporter": "python",
   "pygments_lexer": "ipython3",
   "version": "3.7.2"
  }
 },
 "nbformat": 4,
 "nbformat_minor": 2
}
